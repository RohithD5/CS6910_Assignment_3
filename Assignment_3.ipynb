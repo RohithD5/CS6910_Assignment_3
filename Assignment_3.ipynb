{
  "nbformat": 4,
  "nbformat_minor": 0,
  "metadata": {
    "colab": {
      "name": "Assignment 3.ipynb",
      "provenance": [],
      "collapsed_sections": [],
      "include_colab_link": true
    },
    "kernelspec": {
      "name": "python3",
      "display_name": "Python 3"
    },
    "language_info": {
      "name": "python"
    },
    "accelerator": "GPU",
    "widgets": {
      "application/vnd.jupyter.widget-state+json": {
        "d5f87b1f100d4455a02073fb428e389d": {
          "model_module": "@jupyter-widgets/controls",
          "model_name": "VBoxModel",
          "state": {
            "_view_name": "VBoxView",
            "_dom_classes": [],
            "_model_name": "VBoxModel",
            "_view_module": "@jupyter-widgets/controls",
            "_model_module_version": "1.5.0",
            "_view_count": null,
            "_view_module_version": "1.5.0",
            "box_style": "",
            "layout": "IPY_MODEL_701ea56c09d54289889dd3ad4475ba12",
            "_model_module": "@jupyter-widgets/controls",
            "children": [
              "IPY_MODEL_31d620a6c285403e92ef6cc601cf9b8a",
              "IPY_MODEL_052fad2d05804eb58754b081d03c03b9"
            ]
          }
        },
        "701ea56c09d54289889dd3ad4475ba12": {
          "model_module": "@jupyter-widgets/base",
          "model_name": "LayoutModel",
          "state": {
            "_view_name": "LayoutView",
            "grid_template_rows": null,
            "right": null,
            "justify_content": null,
            "_view_module": "@jupyter-widgets/base",
            "overflow": null,
            "_model_module_version": "1.2.0",
            "_view_count": null,
            "flex_flow": null,
            "width": null,
            "min_width": null,
            "border": null,
            "align_items": null,
            "bottom": null,
            "_model_module": "@jupyter-widgets/base",
            "top": null,
            "grid_column": null,
            "overflow_y": null,
            "overflow_x": null,
            "grid_auto_flow": null,
            "grid_area": null,
            "grid_template_columns": null,
            "flex": null,
            "_model_name": "LayoutModel",
            "justify_items": null,
            "grid_row": null,
            "max_height": null,
            "align_content": null,
            "visibility": null,
            "align_self": null,
            "height": null,
            "min_height": null,
            "padding": null,
            "grid_auto_rows": null,
            "grid_gap": null,
            "max_width": null,
            "order": null,
            "_view_module_version": "1.2.0",
            "grid_template_areas": null,
            "object_position": null,
            "object_fit": null,
            "grid_auto_columns": null,
            "margin": null,
            "display": null,
            "left": null
          }
        },
        "31d620a6c285403e92ef6cc601cf9b8a": {
          "model_module": "@jupyter-widgets/controls",
          "model_name": "LabelModel",
          "state": {
            "_view_name": "LabelView",
            "style": "IPY_MODEL_fbf6e30daceb4787a583f93c43257159",
            "_dom_classes": [],
            "description": "",
            "_model_name": "LabelModel",
            "placeholder": "​",
            "_view_module": "@jupyter-widgets/controls",
            "_model_module_version": "1.5.0",
            "value": " 0.06MB of 0.06MB uploaded (0.00MB deduped)\r",
            "_view_count": null,
            "_view_module_version": "1.5.0",
            "description_tooltip": null,
            "_model_module": "@jupyter-widgets/controls",
            "layout": "IPY_MODEL_0107e4ccb26f4812b6af4519fcf37131"
          }
        },
        "052fad2d05804eb58754b081d03c03b9": {
          "model_module": "@jupyter-widgets/controls",
          "model_name": "FloatProgressModel",
          "state": {
            "_view_name": "ProgressView",
            "style": "IPY_MODEL_865b11f7b34243248798e2cb33ed3856",
            "_dom_classes": [],
            "description": "",
            "_model_name": "FloatProgressModel",
            "bar_style": "",
            "max": 1,
            "_view_module": "@jupyter-widgets/controls",
            "_model_module_version": "1.5.0",
            "value": 1,
            "_view_count": null,
            "_view_module_version": "1.5.0",
            "orientation": "horizontal",
            "min": 0,
            "description_tooltip": null,
            "_model_module": "@jupyter-widgets/controls",
            "layout": "IPY_MODEL_2641c7287de44f7187d7efeb08349780"
          }
        },
        "fbf6e30daceb4787a583f93c43257159": {
          "model_module": "@jupyter-widgets/controls",
          "model_name": "DescriptionStyleModel",
          "state": {
            "_view_name": "StyleView",
            "_model_name": "DescriptionStyleModel",
            "description_width": "",
            "_view_module": "@jupyter-widgets/base",
            "_model_module_version": "1.5.0",
            "_view_count": null,
            "_view_module_version": "1.2.0",
            "_model_module": "@jupyter-widgets/controls"
          }
        },
        "0107e4ccb26f4812b6af4519fcf37131": {
          "model_module": "@jupyter-widgets/base",
          "model_name": "LayoutModel",
          "state": {
            "_view_name": "LayoutView",
            "grid_template_rows": null,
            "right": null,
            "justify_content": null,
            "_view_module": "@jupyter-widgets/base",
            "overflow": null,
            "_model_module_version": "1.2.0",
            "_view_count": null,
            "flex_flow": null,
            "width": null,
            "min_width": null,
            "border": null,
            "align_items": null,
            "bottom": null,
            "_model_module": "@jupyter-widgets/base",
            "top": null,
            "grid_column": null,
            "overflow_y": null,
            "overflow_x": null,
            "grid_auto_flow": null,
            "grid_area": null,
            "grid_template_columns": null,
            "flex": null,
            "_model_name": "LayoutModel",
            "justify_items": null,
            "grid_row": null,
            "max_height": null,
            "align_content": null,
            "visibility": null,
            "align_self": null,
            "height": null,
            "min_height": null,
            "padding": null,
            "grid_auto_rows": null,
            "grid_gap": null,
            "max_width": null,
            "order": null,
            "_view_module_version": "1.2.0",
            "grid_template_areas": null,
            "object_position": null,
            "object_fit": null,
            "grid_auto_columns": null,
            "margin": null,
            "display": null,
            "left": null
          }
        },
        "865b11f7b34243248798e2cb33ed3856": {
          "model_module": "@jupyter-widgets/controls",
          "model_name": "ProgressStyleModel",
          "state": {
            "_view_name": "StyleView",
            "_model_name": "ProgressStyleModel",
            "description_width": "",
            "_view_module": "@jupyter-widgets/base",
            "_model_module_version": "1.5.0",
            "_view_count": null,
            "_view_module_version": "1.2.0",
            "bar_color": null,
            "_model_module": "@jupyter-widgets/controls"
          }
        },
        "2641c7287de44f7187d7efeb08349780": {
          "model_module": "@jupyter-widgets/base",
          "model_name": "LayoutModel",
          "state": {
            "_view_name": "LayoutView",
            "grid_template_rows": null,
            "right": null,
            "justify_content": null,
            "_view_module": "@jupyter-widgets/base",
            "overflow": null,
            "_model_module_version": "1.2.0",
            "_view_count": null,
            "flex_flow": null,
            "width": null,
            "min_width": null,
            "border": null,
            "align_items": null,
            "bottom": null,
            "_model_module": "@jupyter-widgets/base",
            "top": null,
            "grid_column": null,
            "overflow_y": null,
            "overflow_x": null,
            "grid_auto_flow": null,
            "grid_area": null,
            "grid_template_columns": null,
            "flex": null,
            "_model_name": "LayoutModel",
            "justify_items": null,
            "grid_row": null,
            "max_height": null,
            "align_content": null,
            "visibility": null,
            "align_self": null,
            "height": null,
            "min_height": null,
            "padding": null,
            "grid_auto_rows": null,
            "grid_gap": null,
            "max_width": null,
            "order": null,
            "_view_module_version": "1.2.0",
            "grid_template_areas": null,
            "object_position": null,
            "object_fit": null,
            "grid_auto_columns": null,
            "margin": null,
            "display": null,
            "left": null
          }
        },
        "d12d53ada1f241e09e9b7a4fa975d029": {
          "model_module": "@jupyter-widgets/controls",
          "model_name": "VBoxModel",
          "state": {
            "_view_name": "VBoxView",
            "_dom_classes": [],
            "_model_name": "VBoxModel",
            "_view_module": "@jupyter-widgets/controls",
            "_model_module_version": "1.5.0",
            "_view_count": null,
            "_view_module_version": "1.5.0",
            "box_style": "",
            "layout": "IPY_MODEL_0c7c1efcac6e4f1e9995a4d3dbefd717",
            "_model_module": "@jupyter-widgets/controls",
            "children": [
              "IPY_MODEL_8ff3969aa3c54dad86fb4e4a8763cb4c",
              "IPY_MODEL_efb70749d8c84bc5a51f07e484133c21"
            ]
          }
        },
        "0c7c1efcac6e4f1e9995a4d3dbefd717": {
          "model_module": "@jupyter-widgets/base",
          "model_name": "LayoutModel",
          "state": {
            "_view_name": "LayoutView",
            "grid_template_rows": null,
            "right": null,
            "justify_content": null,
            "_view_module": "@jupyter-widgets/base",
            "overflow": null,
            "_model_module_version": "1.2.0",
            "_view_count": null,
            "flex_flow": null,
            "width": null,
            "min_width": null,
            "border": null,
            "align_items": null,
            "bottom": null,
            "_model_module": "@jupyter-widgets/base",
            "top": null,
            "grid_column": null,
            "overflow_y": null,
            "overflow_x": null,
            "grid_auto_flow": null,
            "grid_area": null,
            "grid_template_columns": null,
            "flex": null,
            "_model_name": "LayoutModel",
            "justify_items": null,
            "grid_row": null,
            "max_height": null,
            "align_content": null,
            "visibility": null,
            "align_self": null,
            "height": null,
            "min_height": null,
            "padding": null,
            "grid_auto_rows": null,
            "grid_gap": null,
            "max_width": null,
            "order": null,
            "_view_module_version": "1.2.0",
            "grid_template_areas": null,
            "object_position": null,
            "object_fit": null,
            "grid_auto_columns": null,
            "margin": null,
            "display": null,
            "left": null
          }
        },
        "8ff3969aa3c54dad86fb4e4a8763cb4c": {
          "model_module": "@jupyter-widgets/controls",
          "model_name": "LabelModel",
          "state": {
            "_view_name": "LabelView",
            "style": "IPY_MODEL_e2b92c3952a5420db9ad3c2196334b28",
            "_dom_classes": [],
            "description": "",
            "_model_name": "LabelModel",
            "placeholder": "​",
            "_view_module": "@jupyter-widgets/controls",
            "_model_module_version": "1.5.0",
            "value": " 1.32MB of 1.32MB uploaded (0.00MB deduped)\r",
            "_view_count": null,
            "_view_module_version": "1.5.0",
            "description_tooltip": null,
            "_model_module": "@jupyter-widgets/controls",
            "layout": "IPY_MODEL_18a4df29e5584db491fdb7eb90362c2e"
          }
        },
        "efb70749d8c84bc5a51f07e484133c21": {
          "model_module": "@jupyter-widgets/controls",
          "model_name": "FloatProgressModel",
          "state": {
            "_view_name": "ProgressView",
            "style": "IPY_MODEL_d87edee4043a403b9d416aeb1ca54e37",
            "_dom_classes": [],
            "description": "",
            "_model_name": "FloatProgressModel",
            "bar_style": "",
            "max": 1,
            "_view_module": "@jupyter-widgets/controls",
            "_model_module_version": "1.5.0",
            "value": 1,
            "_view_count": null,
            "_view_module_version": "1.5.0",
            "orientation": "horizontal",
            "min": 0,
            "description_tooltip": null,
            "_model_module": "@jupyter-widgets/controls",
            "layout": "IPY_MODEL_c57b4ce4dc314ac988b4f55f64352a02"
          }
        },
        "e2b92c3952a5420db9ad3c2196334b28": {
          "model_module": "@jupyter-widgets/controls",
          "model_name": "DescriptionStyleModel",
          "state": {
            "_view_name": "StyleView",
            "_model_name": "DescriptionStyleModel",
            "description_width": "",
            "_view_module": "@jupyter-widgets/base",
            "_model_module_version": "1.5.0",
            "_view_count": null,
            "_view_module_version": "1.2.0",
            "_model_module": "@jupyter-widgets/controls"
          }
        },
        "18a4df29e5584db491fdb7eb90362c2e": {
          "model_module": "@jupyter-widgets/base",
          "model_name": "LayoutModel",
          "state": {
            "_view_name": "LayoutView",
            "grid_template_rows": null,
            "right": null,
            "justify_content": null,
            "_view_module": "@jupyter-widgets/base",
            "overflow": null,
            "_model_module_version": "1.2.0",
            "_view_count": null,
            "flex_flow": null,
            "width": null,
            "min_width": null,
            "border": null,
            "align_items": null,
            "bottom": null,
            "_model_module": "@jupyter-widgets/base",
            "top": null,
            "grid_column": null,
            "overflow_y": null,
            "overflow_x": null,
            "grid_auto_flow": null,
            "grid_area": null,
            "grid_template_columns": null,
            "flex": null,
            "_model_name": "LayoutModel",
            "justify_items": null,
            "grid_row": null,
            "max_height": null,
            "align_content": null,
            "visibility": null,
            "align_self": null,
            "height": null,
            "min_height": null,
            "padding": null,
            "grid_auto_rows": null,
            "grid_gap": null,
            "max_width": null,
            "order": null,
            "_view_module_version": "1.2.0",
            "grid_template_areas": null,
            "object_position": null,
            "object_fit": null,
            "grid_auto_columns": null,
            "margin": null,
            "display": null,
            "left": null
          }
        },
        "d87edee4043a403b9d416aeb1ca54e37": {
          "model_module": "@jupyter-widgets/controls",
          "model_name": "ProgressStyleModel",
          "state": {
            "_view_name": "StyleView",
            "_model_name": "ProgressStyleModel",
            "description_width": "",
            "_view_module": "@jupyter-widgets/base",
            "_model_module_version": "1.5.0",
            "_view_count": null,
            "_view_module_version": "1.2.0",
            "bar_color": null,
            "_model_module": "@jupyter-widgets/controls"
          }
        },
        "c57b4ce4dc314ac988b4f55f64352a02": {
          "model_module": "@jupyter-widgets/base",
          "model_name": "LayoutModel",
          "state": {
            "_view_name": "LayoutView",
            "grid_template_rows": null,
            "right": null,
            "justify_content": null,
            "_view_module": "@jupyter-widgets/base",
            "overflow": null,
            "_model_module_version": "1.2.0",
            "_view_count": null,
            "flex_flow": null,
            "width": null,
            "min_width": null,
            "border": null,
            "align_items": null,
            "bottom": null,
            "_model_module": "@jupyter-widgets/base",
            "top": null,
            "grid_column": null,
            "overflow_y": null,
            "overflow_x": null,
            "grid_auto_flow": null,
            "grid_area": null,
            "grid_template_columns": null,
            "flex": null,
            "_model_name": "LayoutModel",
            "justify_items": null,
            "grid_row": null,
            "max_height": null,
            "align_content": null,
            "visibility": null,
            "align_self": null,
            "height": null,
            "min_height": null,
            "padding": null,
            "grid_auto_rows": null,
            "grid_gap": null,
            "max_width": null,
            "order": null,
            "_view_module_version": "1.2.0",
            "grid_template_areas": null,
            "object_position": null,
            "object_fit": null,
            "grid_auto_columns": null,
            "margin": null,
            "display": null,
            "left": null
          }
        }
      }
    }
  },
  "cells": [
    {
      "cell_type": "markdown",
      "metadata": {
        "id": "view-in-github",
        "colab_type": "text"
      },
      "source": [
        "<a href=\"https://colab.research.google.com/github/RohithD5/CS6910_Assignment_3/blob/main/Assignment_3.ipynb\" target=\"_parent\"><img src=\"https://colab.research.google.com/assets/colab-badge.svg\" alt=\"Open In Colab\"/></a>"
      ]
    },
    {
      "cell_type": "code",
      "metadata": {
        "id": "V3Di3vQ67MoB"
      },
      "source": [
        "src_url = \"https://storage.googleapis.com/gresearch/dakshina/dakshina_dataset_v1.0.tar\"\n",
        "src_zip = \"dakshina_dataset_v1.0.tar\"\n",
        "DATA_SRC=\"dakshina_dataset_v1.0/ta/lexicons\"\n",
        "DATA_TRAIN_SRC = \"/ta.translit.sampled.train.tsv\"\n",
        "DATA_VAL_SRC = \"/ta.translit.sampled.dev.tsv\" \n",
        "DATA_TEST_SRC = \"/ta.translit.sampled.test.tsv\"\n",
        "#TRAIN_IMAGES_PER_LABEL = 1000\n",
        "#TEST_IMAGES_PER_LABEL = 200\n",
        "BALANCED_SPLITS = {\"train\" : 900, \"val\" : 100}\n",
        "PROJECT_NAME = \"CS6910 ASSIGNMENT 3\"\n",
        "dataset='dakshina-dataset'"
      ],
      "execution_count": 3,
      "outputs": []
    },
    {
      "cell_type": "code",
      "metadata": {
        "id": "-65YGCSb7hED"
      },
      "source": [
        "%%capture\n",
        "!curl -SL $src_url > $src_zip\n",
        "!tar -xf $src_zip"
      ],
      "execution_count": null,
      "outputs": []
    },
    {
      "cell_type": "code",
      "metadata": {
        "id": "8_jZdhj-LApj",
        "colab": {
          "base_uri": "https://localhost:8080/"
        },
        "outputId": "ac383c96-8404-45b0-f941-09f7d7431acf"
      },
      "source": [
        "import tensorflow as tf\n",
        "from tensorflow.keras.preprocessing.image import ImageDataGenerator\n",
        "import os\n",
        "import numpy as np\n",
        "import matplotlib.pyplot as plt\n",
        "from random import shuffle\n",
        "import pandas as pd\n",
        "import keras\n",
        "from keras.layers import Input, LSTM, Dense, Embedding, GRU, SimpleRNN, Dropout, Activation, dot, concatenate, TimeDistributed\n",
        "from keras.models import Model\n",
        "\n",
        "!pip3 install tensorflow -qqq\n",
        "!pip3 install wandb -qqq\n",
        "import wandb\n",
        "!wandb login\n",
        "from wandb.keras import WandbCallback"
      ],
      "execution_count": 4,
      "outputs": [
        {
          "output_type": "stream",
          "text": [
            "\u001b[K     |████████████████████████████████| 1.8MB 7.4MB/s \n",
            "\u001b[K     |████████████████████████████████| 102kB 13.0MB/s \n",
            "\u001b[K     |████████████████████████████████| 133kB 36.7MB/s \n",
            "\u001b[K     |████████████████████████████████| 174kB 28.3MB/s \n",
            "\u001b[K     |████████████████████████████████| 71kB 11.8MB/s \n",
            "\u001b[?25h  Building wheel for subprocess32 (setup.py) ... \u001b[?25l\u001b[?25hdone\n",
            "  Building wheel for pathtools (setup.py) ... \u001b[?25l\u001b[?25hdone\n",
            "\u001b[34m\u001b[1mwandb\u001b[0m: You can find your API key in your browser here: https://wandb.ai/authorize\n",
            "\u001b[34m\u001b[1mwandb\u001b[0m: Paste an API key from your profile and hit enter: \n",
            "\u001b[34m\u001b[1mwandb\u001b[0m: Appending key for api.wandb.ai to your netrc file: /root/.netrc\n"
          ],
          "name": "stdout"
        }
      ]
    },
    {
      "cell_type": "code",
      "metadata": {
        "id": "wj4Bc_-Ynxgj"
      },
      "source": [
        "import matplotlib.font_manager as fm\n",
        "\n",
        "!wget https://github.com/arul20be/Latha-Tamil-Font/blob/master/system/fonts/NotoSansTamil-Regular.ttf\n",
        "fm.fontManager.ttflist += fm.createFontList(['NotoSansTamil-Regular.ttf'])\n",
        "plt.rc('font', family='NotoSansTamil-Regular-Regular')\n",
        "!mv NotoSansTamil-Regular.ttf /usr/share/fonts/truetype/liberation/"
      ],
      "execution_count": null,
      "outputs": []
    },
    {
      "cell_type": "code",
      "metadata": {
        "id": "Ro8q3Xrgm_hi"
      },
      "source": [
        "!fc-list :lang=en"
      ],
      "execution_count": null,
      "outputs": []
    },
    {
      "cell_type": "markdown",
      "metadata": {
        "id": "16PPx0aIOG2q"
      },
      "source": [
        "Uploading Data: only run once"
      ]
    },
    {
      "cell_type": "code",
      "metadata": {
        "id": "-S3nODWoCSmF"
      },
      "source": [
        "\n",
        "run = wandb.init(project=PROJECT_NAME, entity='cs6910krsrd',job_type=\"upload\")\n",
        "\n",
        "# create an artifact for all the raw data\n",
        "raw_data_at = wandb.Artifact(dataset, type=\"raw_data\")\n",
        "\n",
        "raw_data_at.add_dir(DATA_SRC)\n",
        "\n",
        "# save artifact to W&B\n",
        "run.log_artifact(raw_data_at)\n",
        "run.finish()"
      ],
      "execution_count": null,
      "outputs": []
    },
    {
      "cell_type": "markdown",
      "metadata": {
        "id": "qMs_ZhWLOMbL"
      },
      "source": [
        "Downloading Data"
      ]
    },
    {
      "cell_type": "code",
      "metadata": {
        "id": "rMEcA_xBLk8o",
        "colab": {
          "base_uri": "https://localhost:8080/",
          "height": 274,
          "referenced_widgets": [
            "d5f87b1f100d4455a02073fb428e389d",
            "701ea56c09d54289889dd3ad4475ba12",
            "31d620a6c285403e92ef6cc601cf9b8a",
            "052fad2d05804eb58754b081d03c03b9",
            "fbf6e30daceb4787a583f93c43257159",
            "0107e4ccb26f4812b6af4519fcf37131",
            "865b11f7b34243248798e2cb33ed3856",
            "2641c7287de44f7187d7efeb08349780"
          ]
        },
        "outputId": "bc743d11-7b4e-4eea-acc0-2ae0eb2bfe33"
      },
      "source": [
        "run = wandb.init(project=PROJECT_NAME, entity='cs6910krsrd',job_type=\"download\")\n",
        "\n",
        "# Query W&B for an artifact and mark it as input to this run\n",
        "artifact = run.use_artifact(dataset+':latest')\n",
        "\n",
        "# Download the artifact's contents\n",
        "artifact_dir = artifact.download()\n",
        "run.finish()"
      ],
      "execution_count": 5,
      "outputs": [
        {
          "output_type": "stream",
          "text": [
            "\u001b[34m\u001b[1mwandb\u001b[0m: Currently logged in as: \u001b[33mcs6910krsrd\u001b[0m (use `wandb login --relogin` to force relogin)\n"
          ],
          "name": "stderr"
        },
        {
          "output_type": "display_data",
          "data": {
            "text/html": [
              "\n",
              "                Tracking run with wandb version 0.10.30<br/>\n",
              "                Syncing run <strong style=\"color:#cdcd00\">wild-galaxy-106</strong> to <a href=\"https://wandb.ai\" target=\"_blank\">Weights & Biases</a> <a href=\"https://docs.wandb.com/integrations/jupyter.html\" target=\"_blank\">(Documentation)</a>.<br/>\n",
              "                Project page: <a href=\"https://wandb.ai/cs6910krsrd/CS6910%20ASSIGNMENT%203\" target=\"_blank\">https://wandb.ai/cs6910krsrd/CS6910%20ASSIGNMENT%203</a><br/>\n",
              "                Run page: <a href=\"https://wandb.ai/cs6910krsrd/CS6910%20ASSIGNMENT%203/runs/1uov3w4r\" target=\"_blank\">https://wandb.ai/cs6910krsrd/CS6910%20ASSIGNMENT%203/runs/1uov3w4r</a><br/>\n",
              "                Run data is saved locally in <code>/content/wandb/run-20210520_040801-1uov3w4r</code><br/><br/>\n",
              "            "
            ],
            "text/plain": [
              "<IPython.core.display.HTML object>"
            ]
          },
          "metadata": {
            "tags": []
          }
        },
        {
          "output_type": "display_data",
          "data": {
            "text/html": [
              "<br/>Waiting for W&B process to finish, PID 144<br/>Program ended successfully."
            ],
            "text/plain": [
              "<IPython.core.display.HTML object>"
            ]
          },
          "metadata": {
            "tags": []
          }
        },
        {
          "output_type": "display_data",
          "data": {
            "application/vnd.jupyter.widget-view+json": {
              "model_id": "d5f87b1f100d4455a02073fb428e389d",
              "version_minor": 0,
              "version_major": 2
            },
            "text/plain": [
              "VBox(children=(Label(value=' 0.05MB of 0.05MB uploaded (0.00MB deduped)\\r'), FloatProgress(value=1.0, max=1.0)…"
            ]
          },
          "metadata": {
            "tags": []
          }
        },
        {
          "output_type": "display_data",
          "data": {
            "text/html": [
              "Find user logs for this run at: <code>/content/wandb/run-20210520_040801-1uov3w4r/logs/debug.log</code>"
            ],
            "text/plain": [
              "<IPython.core.display.HTML object>"
            ]
          },
          "metadata": {
            "tags": []
          }
        },
        {
          "output_type": "display_data",
          "data": {
            "text/html": [
              "Find internal logs for this run at: <code>/content/wandb/run-20210520_040801-1uov3w4r/logs/debug-internal.log</code>"
            ],
            "text/plain": [
              "<IPython.core.display.HTML object>"
            ]
          },
          "metadata": {
            "tags": []
          }
        },
        {
          "output_type": "display_data",
          "data": {
            "text/html": [
              "Synced 4 W&B file(s), 0 media file(s), 2 artifact file(s) and 1 other file(s)"
            ],
            "text/plain": [
              "<IPython.core.display.HTML object>"
            ]
          },
          "metadata": {
            "tags": []
          }
        },
        {
          "output_type": "display_data",
          "data": {
            "text/html": [
              "\n",
              "                    <br/>Synced <strong style=\"color:#cdcd00\">wild-galaxy-106</strong>: <a href=\"https://wandb.ai/cs6910krsrd/CS6910%20ASSIGNMENT%203/runs/1uov3w4r\" target=\"_blank\">https://wandb.ai/cs6910krsrd/CS6910%20ASSIGNMENT%203/runs/1uov3w4r</a><br/>\n",
              "                "
            ],
            "text/plain": [
              "<IPython.core.display.HTML object>"
            ]
          },
          "metadata": {
            "tags": []
          }
        }
      ]
    },
    {
      "cell_type": "code",
      "metadata": {
        "id": "zQqVkbGjtI9e",
        "colab": {
          "base_uri": "https://localhost:8080/"
        },
        "outputId": "a03ba0e9-d85c-43f7-b231-ba276b4f3952"
      },
      "source": [
        "colnames=[\"ntv\",\"rmn\",'nAtt'] #native, romanized and number of attestations\n",
        "df_train = pd.read_csv(artifact_dir + DATA_TRAIN_SRC,sep=\"\\t\",names=colnames,na_filter=False)\n",
        "df_val = pd.read_csv(artifact_dir + DATA_VAL_SRC,sep=\"\\t\",names=colnames,na_filter=False)\n",
        "MODEL_NAME = \"Seq2Seq\"\n",
        "FINAL_MODEL_DIR = \"trained_model\"\n",
        "ENCODER=\"encoder\"\n",
        "DECODER=\"decoder\"\n",
        "\n",
        "\n",
        "batch_size = 64  # Batch size for training.\n",
        "epochs = 20  # Number of epochs to train for.\n",
        "latent_dim = 256  # Latent dimensionality of the encoding and decoding space (LSTM/GRU/RNN)\n",
        "num_samples = 10000  # Number of samples to train on.\n",
        "embed_dim=16  #embedding size\n",
        "n_encoder=2 #number of encoder layers \n",
        "n_decoder=2 #number of decoder layers\n",
        "cell_type=\"LSTM\"#\"GRU\" \"RNN\" # Cell type of encoder and decoder\n",
        "do=0.2 #dropout\n",
        "beam_size=3\n",
        "\n",
        "input_texts = df_train.rmn.to_list()    # input words(romanized)\n",
        "target_texts = df_train.ntv.apply(lambda s:'\\t'+s+'\\n').to_list() # target words(native)\n",
        "input_characters = set(df_train.rmn.sum()) # input vocabulary (all english letters)\n",
        "target_characters = set(df_train.ntv.sum()) # target vocabulary (all tamil letters)\n",
        "val_input_texts = df_val.rmn.to_list()    # input words(romanized)\n",
        "val_target_texts = df_val.ntv.apply(lambda s: s).to_list() # target words(native)\n",
        "valid_target_texts = df_val.ntv.apply(lambda s:'\\t'+s+'\\n').to_list() # target words(native)\n",
        "\n",
        "\n",
        "input_characters = sorted(list(input_characters)) \n",
        "input_characters.append(' ')\n",
        "target_characters = sorted(list(target_characters))\n",
        "target_characters.append(' ')\n",
        "target_characters.append('\\t')\n",
        "target_characters.append('\\n')\n",
        "\n",
        "\n",
        "\n",
        "num_encoder_tokens = len(input_characters)   # size of input vocabulary\n",
        "num_decoder_tokens = len(target_characters)   # ize of target vocabulary\n",
        "max_encoder_seq_length = max([len(txt) for txt in input_texts])  # max input word size\n",
        "max_decoder_seq_length = max([len(txt) for txt in target_texts]) # max output word size\n",
        "\n",
        "print(\"Number of samples:\", len(input_texts))\n",
        "print(\"Number of unique input tokens:\", num_encoder_tokens)\n",
        "print(\"Number of unique output tokens:\", num_decoder_tokens)\n",
        "print(\"Max sequence length for inputs:\", max_encoder_seq_length)\n",
        "print(\"Max sequence length for outputs:\", max_decoder_seq_length)\n",
        " \n",
        "input_token_index = dict([(char, i) for i, char in enumerate(input_characters)]) #dict mapping input letters to integers\n",
        "target_token_index = dict([(char, i) for i, char in enumerate(target_characters)]) #dict mapping output letters to integers\n",
        "\n",
        "encoder_input_data = np.zeros(                                              \n",
        "    (len(input_texts), max_encoder_seq_length), dtype=\"float32\"\n",
        ")\n",
        "\n",
        "val_encoder_input_data = np.zeros(                                              \n",
        "    (len(val_input_texts), max_encoder_seq_length), dtype=\"float32\"\n",
        ")\n",
        "\n",
        "decoder_input_data = np.zeros(\n",
        "    (len(input_texts), max_decoder_seq_length), dtype=\"float32\"\n",
        ")\n",
        "decoder_target_data = np.zeros(\n",
        "    (len(input_texts), max_decoder_seq_length,len(target_token_index)), dtype=\"float32\"\n",
        ")\n",
        "\n",
        "val_decoder_input_data = np.zeros(\n",
        "    (len(val_input_texts), max_decoder_seq_length), dtype=\"float32\"\n",
        ")\n",
        "val_decoder_target_data = np.zeros(\n",
        "    (len(val_input_texts), max_decoder_seq_length,len(target_token_index)), dtype=\"float32\"\n",
        ")\n",
        "\n",
        "CELL={\"LSTM\":LSTM,\"GRU\":GRU,\"RNN\":SimpleRNN}\n",
        "\n",
        "reverse_input_char_index = dict((i, char) for char, i in input_token_index.items())\n",
        "reverse_target_char_index = dict((i, char) for char, i in target_token_index.items())"
      ],
      "execution_count": 6,
      "outputs": [
        {
          "output_type": "stream",
          "text": [
            "Number of samples: 68218\n",
            "Number of unique input tokens: 27\n",
            "Number of unique output tokens: 49\n",
            "Max sequence length for inputs: 30\n",
            "Max sequence length for outputs: 28\n"
          ],
          "name": "stdout"
        }
      ]
    },
    {
      "cell_type": "code",
      "metadata": {
        "id": "WUWaPdROWtQ5"
      },
      "source": [
        "for i, (input_text, target_text) in enumerate(zip(input_texts, target_texts)):\n",
        "    for t, char in enumerate(input_text):\n",
        "        encoder_input_data[i, t] = input_token_index[char]\n",
        "    encoder_input_data[i, t + 1 :] = input_token_index[\" \"]\n",
        "    for t, char in enumerate(target_text):\n",
        "        # decoder_target_data is ahead of decoder_input_data by one timestep\n",
        "        decoder_input_data[i, t] =  target_token_index[char]\n",
        "        if t > 0:\n",
        "            # decoder_target_data will be ahead by one timestep\n",
        "            # and will not include the start character.\n",
        "            decoder_target_data[i, t - 1,target_token_index[char]] = 1.0\n",
        "    decoder_input_data[i, t + 1 :] = target_token_index[\" \"]\n",
        "    decoder_target_data[i, t:,target_token_index[\" \"]] =  1.0\n",
        "\n",
        "for i, (input_text, target_text) in enumerate(zip(val_input_texts, valid_target_texts)):\n",
        "    for t, char in enumerate(input_text):\n",
        "        val_encoder_input_data[i, t] = input_token_index[char]\n",
        "    val_encoder_input_data[i, t + 1 :] = input_token_index[\" \"]\n",
        "    for t, char in enumerate(target_text):\n",
        "        # decoder_target_data is ahead of decoder_input_data by one timestep\n",
        "        val_decoder_input_data[i, t] =  target_token_index[char]\n",
        "        if t > 0:\n",
        "            # decoder_target_data will be ahead by one timestep\n",
        "            # and will not include the start character.\n",
        "            val_decoder_target_data[i, t - 1,target_token_index[char]] = 1.0\n",
        "    val_decoder_input_data[i, t + 1 :] = target_token_index[\" \"]\n",
        "    val_decoder_target_data[i, t:,target_token_index[\" \"]] =  1.0"
      ],
      "execution_count": 7,
      "outputs": []
    },
    {
      "cell_type": "code",
      "metadata": {
        "id": "tHglmufMXGjy"
      },
      "source": [
        "def train():\n",
        "\n",
        "  hyperparameter_defaults={\n",
        "    \"epochs\" : 2,\n",
        "    \"num_samples\" : 10000,\n",
        "    \"embed_dim\" : 16,\n",
        "    \"n_encoder\" : 2,\n",
        "    \"n_decoder\" : 2,\n",
        "    \"drop_out\" : 0.2,\n",
        "    'latent_dim':64,\n",
        "    'beam_size':3,\n",
        "    'batch_size':64,\n",
        "    'cell_type':\"LSTM\"\n",
        "    }\n",
        "\n",
        "  run = wandb.init(project=PROJECT_NAME, config=hyperparameter_defaults, entity='cs6910krsrd',job_type=\"train\")\n",
        "\n",
        "\n",
        "  cfg = wandb.config\n",
        "  batch_size = cfg.batch_size  # Batch size for training.\n",
        "  epochs = cfg.epochs  # Number of epochs to train for.\n",
        "  latent_dim = cfg.latent_dim  # Latent dimensionality of the encoding and decoding space (LSTM/GRU/RNN)\n",
        "  num_samples = cfg.num_samples  # Number of samples to train on.\n",
        "  embed_dim=cfg.embed_dim#embedding size\n",
        "  n_encoder=cfg.n_encoder #number of encoder layers \n",
        "  n_decoder=cfg.n_decoder #number of decoder layers\n",
        "  cell_type=cfg.cell_type#\"GRU\" \"RNN\" # Cell type of encoder and decoder\n",
        "  do=cfg.drop_out #dropout\n",
        "  beam_size=cfg.beam_size\n",
        "  # Define an input sequence and process it.\n",
        "  encoder_inputs=Input(shape=(None,))\n",
        "  x = Embedding(num_encoder_tokens, embed_dim)(encoder_inputs)\n",
        "  encoder_states = []\n",
        "  print(CELL)\n",
        "  for j in range(n_encoder)[:-1]:\n",
        "    x = (CELL[cell_type](latent_dim,dropout=do,return_state=True,return_sequences=True)(x)) [0]\n",
        "  temp = CELL[cell_type](latent_dim,dropout=do,return_state=True,return_sequences=True)(x)\n",
        "  x=temp[0]\n",
        "  encoder_states = temp[1:]\n",
        "\n",
        "  # Set up the decoder, using `encoder_states` as initial state.\n",
        "  decoder_inputs = Input(shape=(None,))\n",
        "  out_embed=Embedding(num_decoder_tokens, embed_dim)\n",
        "  embedded_word=out_embed(decoder_inputs)\n",
        "  x=embedded_word\n",
        "  output_layers = []\n",
        "  for j in range(n_decoder):\n",
        "    output_layers.append(\n",
        "        CELL[cell_type](latent_dim,dropout=do, return_sequences=True,return_state=True)\n",
        "    )\n",
        "    temp = output_layers[-1](x, initial_state=encoder_states)\n",
        "\n",
        "    x= temp[0]\n",
        "    decoder_states=temp[1:]\n",
        "\n",
        "\n",
        "\n",
        "  dropout = Dropout(rate=do)\n",
        "  x = dropout(x)\n",
        "  decoder_dense = Dense(num_decoder_tokens, activation='softmax')\n",
        "  decoder_outputs = decoder_dense(x)\n",
        "\n",
        "  # Define the model that will turn\n",
        "  # `encoder_input_data` & `decoder_input_data` into `decoder_target_data`\n",
        "  model = Model([encoder_inputs, decoder_inputs], decoder_outputs)\n",
        "\n",
        "  print(beam_size)\n",
        "  model.compile(\n",
        "      optimizer=\"rmsprop\", loss=\"categorical_crossentropy\", metrics=[\"accuracy\"]\n",
        "  )\n",
        "\n",
        "  if beam_size !=0:\n",
        "    model.fit(\n",
        "        [encoder_input_data, decoder_input_data],\n",
        "        decoder_target_data,\n",
        "        batch_size=batch_size,\n",
        "        epochs=epochs,\n",
        "        validation_data=([val_encoder_input_data, val_decoder_input_data],val_decoder_target_data),\n",
        "        callbacks=[WandbCallback()]\n",
        "    )\n",
        "    \n",
        "  else:\n",
        "    model.fit(\n",
        "        [encoder_input_data, decoder_input_data],\n",
        "        decoder_target_data,\n",
        "        batch_size=batch_size,\n",
        "        epochs=epochs,\n",
        "        validation_data=([val_encoder_input_data, val_decoder_input_data],val_decoder_target_data),\n",
        "        callbacks=[WandbCallback()]\n",
        "    )\n",
        "\n",
        "  # Save model\n",
        "  trained_model_artifact = wandb.Artifact(\n",
        "            MODEL_NAME, type=\"model\",\n",
        "            description=\"trained model\",\n",
        "            metadata=dict(cfg))\n",
        "  \n",
        "  encoder_artifact = wandb.Artifact(\n",
        "            MODEL_NAME, type=\"model\",\n",
        "            description=\"encoder\",\n",
        "            metadata=dict(cfg))\n",
        "  \n",
        "  decoder_artifact = wandb.Artifact(\n",
        "            MODEL_NAME, type=\"model\",\n",
        "            description=\"decoder\",\n",
        "            metadata=dict(cfg))\n",
        "  \n",
        "  encoder_model = Model(encoder_inputs, encoder_states)\n",
        "\n",
        "  decoder_states_inputs = []\n",
        "  decoder_states = []\n",
        "  d_outputs=embedded_word\n",
        "  for j in range(n_decoder)[::-1]:\n",
        "    current_state_inputs = [Input(shape=(latent_dim,)) for _ in range(2)]\n",
        "\n",
        "    temp = output_layers[n_decoder-j-1](d_outputs, initial_state=current_state_inputs)\n",
        "\n",
        "    d_outputs, cur_states = temp[0], temp[1:]\n",
        "    decoder_states += cur_states\n",
        "    decoder_states_inputs += current_state_inputs\n",
        "\n",
        "  decoder_outputs = decoder_dense(d_outputs)\n",
        "  decoder_model = Model(\n",
        "      [decoder_inputs] + decoder_states_inputs,\n",
        "      [decoder_outputs] + decoder_states)\n",
        "\n",
        "  # Reverse-lookup token index to decode sequences back to\n",
        "  # something readable.\n",
        "  reverse_input_char_index = dict((i, char) for char, i in input_token_index.items())\n",
        "  reverse_target_char_index = dict((i, char) for char, i in target_token_index.items())\n",
        "\n",
        "\n",
        "  model.save(FINAL_MODEL_DIR)\n",
        "  encoder_model.save(ENCODER)\n",
        "  decoder_model.save(DECODER)\n",
        "\n",
        "  trained_model_artifact.add_dir(FINAL_MODEL_DIR)\n",
        "  encoder_artifact.add_dir(ENCODER)\n",
        "  decoder_artifact.add_dir(DECODER)\n",
        "\n",
        "\n",
        "  run.log_artifact(trained_model_artifact)\n",
        "  run.log_artifact(encoder_artifact)\n",
        "  run.log_artifact(decoder_artifact)\n",
        "  run.finish()\n",
        "  \n",
        "  model.save(\"s2s_tamil\")"
      ],
      "execution_count": 44,
      "outputs": []
    },
    {
      "cell_type": "code",
      "metadata": {
        "id": "v-NZkNHrKLSi",
        "colab": {
          "base_uri": "https://localhost:8080/",
          "height": 900,
          "referenced_widgets": [
            "d12d53ada1f241e09e9b7a4fa975d029",
            "0c7c1efcac6e4f1e9995a4d3dbefd717",
            "8ff3969aa3c54dad86fb4e4a8763cb4c",
            "efb70749d8c84bc5a51f07e484133c21",
            "e2b92c3952a5420db9ad3c2196334b28",
            "18a4df29e5584db491fdb7eb90362c2e",
            "d87edee4043a403b9d416aeb1ca54e37",
            "c57b4ce4dc314ac988b4f55f64352a02"
          ]
        },
        "outputId": "6a6f303a-52de-4053-c623-2794919fa1df"
      },
      "source": [
        "config_defaults = {\n",
        "    \"epochs\" : 5,\n",
        "    \"num_samples\" : 10000,\n",
        "    \"embed_dim\" : 16,\n",
        "    \"n_encoder\" : 2,\n",
        "    \"n_decoder\" : 2,\n",
        "    \"drop_out\" : 0.2,\n",
        "    'latent_dim':64,\n",
        "    'beam_size':3,\n",
        "    'batch_size':64,\n",
        "    'cell_type':\"LSTM\"\n",
        "    }\n",
        "\n",
        "train()"
      ],
      "execution_count": null,
      "outputs": [
        {
          "output_type": "display_data",
          "data": {
            "text/html": [
              "Finishing last run (ID:1sn1j6bb) before initializing another..."
            ],
            "text/plain": [
              "<IPython.core.display.HTML object>"
            ]
          },
          "metadata": {
            "tags": []
          }
        },
        {
          "output_type": "display_data",
          "data": {
            "text/html": [
              "<br/>Waiting for W&B process to finish, PID 915<br/>Program ended successfully."
            ],
            "text/plain": [
              "<IPython.core.display.HTML object>"
            ]
          },
          "metadata": {
            "tags": []
          }
        },
        {
          "output_type": "display_data",
          "data": {
            "application/vnd.jupyter.widget-view+json": {
              "model_id": "d12d53ada1f241e09e9b7a4fa975d029",
              "version_minor": 0,
              "version_major": 2
            },
            "text/plain": [
              "VBox(children=(Label(value=' 1.22MB of 1.22MB uploaded (0.00MB deduped)\\r'), FloatProgress(value=1.0, max=1.0)…"
            ]
          },
          "metadata": {
            "tags": []
          }
        },
        {
          "output_type": "display_data",
          "data": {
            "text/html": [
              "Find user logs for this run at: <code>/content/wandb/run-20210520_044005-1sn1j6bb/logs/debug.log</code>"
            ],
            "text/plain": [
              "<IPython.core.display.HTML object>"
            ]
          },
          "metadata": {
            "tags": []
          }
        },
        {
          "output_type": "display_data",
          "data": {
            "text/html": [
              "Find internal logs for this run at: <code>/content/wandb/run-20210520_044005-1sn1j6bb/logs/debug-internal.log</code>"
            ],
            "text/plain": [
              "<IPython.core.display.HTML object>"
            ]
          },
          "metadata": {
            "tags": []
          }
        },
        {
          "output_type": "display_data",
          "data": {
            "text/html": [
              "<h3>Run summary:</h3><br/><style>\n",
              "    table.wandb td:nth-child(1) { padding: 0 10px; text-align: right }\n",
              "    </style><table class=\"wandb\">\n",
              "<tr><td>epoch</td><td>1</td></tr><tr><td>loss</td><td>0.74459</td></tr><tr><td>accuracy</td><td>0.78</td></tr><tr><td>val_loss</td><td>0.63952</td></tr><tr><td>val_accuracy</td><td>0.80966</td></tr><tr><td>_runtime</td><td>39</td></tr><tr><td>_timestamp</td><td>1621485644</td></tr><tr><td>_step</td><td>1</td></tr><tr><td>best_val_loss</td><td>0.63952</td></tr><tr><td>best_epoch</td><td>1</td></tr></table>"
            ],
            "text/plain": [
              "<IPython.core.display.HTML object>"
            ]
          },
          "metadata": {
            "tags": []
          }
        },
        {
          "output_type": "display_data",
          "data": {
            "text/html": [
              "<h3>Run history:</h3><br/><style>\n",
              "    table.wandb td:nth-child(1) { padding: 0 10px; text-align: right }\n",
              "    </style><table class=\"wandb\">\n",
              "<tr><td>epoch</td><td>▁█</td></tr><tr><td>loss</td><td>█▁</td></tr><tr><td>accuracy</td><td>▁█</td></tr><tr><td>val_loss</td><td>█▁</td></tr><tr><td>val_accuracy</td><td>▁█</td></tr><tr><td>_runtime</td><td>▁█</td></tr><tr><td>_timestamp</td><td>▁█</td></tr><tr><td>_step</td><td>▁█</td></tr></table><br/>"
            ],
            "text/plain": [
              "<IPython.core.display.HTML object>"
            ]
          },
          "metadata": {
            "tags": []
          }
        },
        {
          "output_type": "display_data",
          "data": {
            "text/html": [
              "Synced 5 W&B file(s), 1 media file(s), 4 artifact file(s) and 2 other file(s)"
            ],
            "text/plain": [
              "<IPython.core.display.HTML object>"
            ]
          },
          "metadata": {
            "tags": []
          }
        },
        {
          "output_type": "display_data",
          "data": {
            "text/html": [
              "\n",
              "                    <br/>Synced <strong style=\"color:#cdcd00\">leafy-monkey-117</strong>: <a href=\"https://wandb.ai/cs6910krsrd/CS6910%20ASSIGNMENT%203/runs/1sn1j6bb\" target=\"_blank\">https://wandb.ai/cs6910krsrd/CS6910%20ASSIGNMENT%203/runs/1sn1j6bb</a><br/>\n",
              "                "
            ],
            "text/plain": [
              "<IPython.core.display.HTML object>"
            ]
          },
          "metadata": {
            "tags": []
          }
        },
        {
          "output_type": "display_data",
          "data": {
            "text/html": [
              "...Successfully finished last run (ID:1sn1j6bb). Initializing new run:<br/><br/>"
            ],
            "text/plain": [
              "<IPython.core.display.HTML object>"
            ]
          },
          "metadata": {
            "tags": []
          }
        },
        {
          "output_type": "display_data",
          "data": {
            "text/html": [
              "\n",
              "                Tracking run with wandb version 0.10.30<br/>\n",
              "                Syncing run <strong style=\"color:#cdcd00\">dutiful-eon-118</strong> to <a href=\"https://wandb.ai\" target=\"_blank\">Weights & Biases</a> <a href=\"https://docs.wandb.com/integrations/jupyter.html\" target=\"_blank\">(Documentation)</a>.<br/>\n",
              "                Project page: <a href=\"https://wandb.ai/cs6910krsrd/CS6910%20ASSIGNMENT%203\" target=\"_blank\">https://wandb.ai/cs6910krsrd/CS6910%20ASSIGNMENT%203</a><br/>\n",
              "                Run page: <a href=\"https://wandb.ai/cs6910krsrd/CS6910%20ASSIGNMENT%203/runs/1espwlsj\" target=\"_blank\">https://wandb.ai/cs6910krsrd/CS6910%20ASSIGNMENT%203/runs/1espwlsj</a><br/>\n",
              "                Run data is saved locally in <code>/content/wandb/run-20210520_044316-1espwlsj</code><br/><br/>\n",
              "            "
            ],
            "text/plain": [
              "<IPython.core.display.HTML object>"
            ]
          },
          "metadata": {
            "tags": []
          }
        },
        {
          "output_type": "stream",
          "text": [
            "{'LSTM': <class 'tensorflow.python.keras.layers.recurrent_v2.LSTM'>, 'GRU': <class 'tensorflow.python.keras.layers.recurrent_v2.GRU'>, 'RNN': <class 'tensorflow.python.keras.layers.recurrent.SimpleRNN'>}\n",
            "3\n",
            "Epoch 1/2\n",
            " 778/1066 [====================>.........] - ETA: 3s - loss: 1.2161 - accuracy: 0.6958"
          ],
          "name": "stdout"
        }
      ]
    },
    {
      "cell_type": "code",
      "metadata": {
        "id": "k5Kd1YNNIuE9"
      },
      "source": [
        "#sweep dictionary\n",
        "sweep_config={\n",
        "    'method':'bayes',\n",
        "    'metric':{\n",
        "        'name':'val_accuracy',\n",
        "        'goal':'maximize'},\n",
        "\n",
        "}\n",
        "\n",
        "parameters_dict={\n",
        "    \n",
        "    'epochs':{\n",
        "        'values':[10] # ,[36,49,64,64,121],[36,49,49,81,144]\n",
        "    },\n",
        "    'num_samples':{\n",
        "        'values':[10000]\n",
        "    },\n",
        "    'embed_dim':{\n",
        "        'values':[16,32,64]\n",
        "    },\n",
        "    'n_encoder':{\n",
        "        'values':[1,2,3]\n",
        "    },\n",
        "    'n_decoder':{\n",
        "        'values':[1,2,3]\n",
        "    },\n",
        "    'drop_out':{\n",
        "        'values':[0,0.1,0.2]\n",
        "    },\n",
        "    'latent_dim':{\n",
        "      'values':[16,32,64,128] \n",
        "    },\n",
        "    'beam_size':{\n",
        "        'values':[3]\n",
        "    },\n",
        "    'batch_size':{\n",
        "        'values':[64]\n",
        "    },\n",
        "    'cell_type':{\n",
        "        'values':[\"LSTM\", \"GRU\"]#, \"RNN\"]\n",
        "    }\n",
        "}\n",
        "\n",
        "sweep_config['parameters']=parameters_dict\n",
        "\n",
        "def sweeper(sweep_config,PROJECT_NAME):\n",
        "  sweep_id=wandb.sweep(sweep_config,project=PROJECT_NAME,entity='cs6910krsrd',)\n",
        "  wandb.agent(sweep_id,train,project=PROJECT_NAME,entity='cs6910krsrd',)"
      ],
      "execution_count": 206,
      "outputs": []
    },
    {
      "cell_type": "code",
      "metadata": {
        "id": "_YJmio12I0fs",
        "colab": {
          "base_uri": "https://localhost:8080/",
          "height": 168
        },
        "outputId": "d2faffe3-1b04-46e7-be24-b0803bd645d1"
      },
      "source": [
        "sweeper(sweep_config,PROJECT_NAME)"
      ],
      "execution_count": 1,
      "outputs": [
        {
          "output_type": "error",
          "ename": "NameError",
          "evalue": "ignored",
          "traceback": [
            "\u001b[0;31m---------------------------------------------------------------------------\u001b[0m",
            "\u001b[0;31mNameError\u001b[0m                                 Traceback (most recent call last)",
            "\u001b[0;32m<ipython-input-1-7c9a8ee5a75f>\u001b[0m in \u001b[0;36m<module>\u001b[0;34m()\u001b[0m\n\u001b[0;32m----> 1\u001b[0;31m \u001b[0msweeper\u001b[0m\u001b[0;34m(\u001b[0m\u001b[0msweep_config\u001b[0m\u001b[0;34m,\u001b[0m\u001b[0mPROJECT_NAME\u001b[0m\u001b[0;34m)\u001b[0m\u001b[0;34m\u001b[0m\u001b[0;34m\u001b[0m\u001b[0m\n\u001b[0m",
            "\u001b[0;31mNameError\u001b[0m: name 'sweeper' is not defined"
          ]
        }
      ]
    },
    {
      "cell_type": "markdown",
      "metadata": {
        "id": "LEA2za5dZ7ZU"
      },
      "source": [
        "Inference"
      ]
    },
    {
      "cell_type": "code",
      "metadata": {
        "id": "u_Qw7E6WXByz",
        "colab": {
          "base_uri": "https://localhost:8080/",
          "height": 388
        },
        "outputId": "fbfeceec-b1bc-49cd-eaec-74239118b4e5"
      },
      "source": [
        "# Define sampling models\n",
        "# Restore the model and construct the encoder and decoder.\n",
        "model = keras.models.load_model(\"s2s_tamil\")\n",
        "\n",
        "encoder_model = Model(encoder_inputs, encoder_states)\n",
        "\n",
        "decoder_states_inputs = []\n",
        "decoder_states = []\n",
        "d_outputs=embedded_word\n",
        "for j in range(n_decoder)[::-1]:\n",
        "  current_state_inputs = [Input(shape=(latent_dim,)) for _ in range(2)]\n",
        "\n",
        "  temp = output_layers[n_decoder-j-1](d_outputs, initial_state=current_state_inputs)\n",
        "\n",
        "  d_outputs, cur_states = temp[0], temp[1:]\n",
        "  decoder_states += cur_states\n",
        "  decoder_states_inputs += current_state_inputs\n",
        "\n",
        "decoder_outputs = decoder_dense(d_outputs)\n",
        "decoder_model = Model(\n",
        "    [decoder_inputs] + decoder_states_inputs,\n",
        "    [decoder_outputs] + decoder_states)\n",
        "\n",
        "# Reverse-lookup token index to decode sequences back to\n",
        "# something readable.\n",
        "reverse_input_char_index = dict((i, char) for char, i in input_token_index.items())\n",
        "reverse_target_char_index = dict((i, char) for char, i in target_token_index.items())\n",
        "\n"
      ],
      "execution_count": 19,
      "outputs": [
        {
          "output_type": "error",
          "ename": "OSError",
          "evalue": "ignored",
          "traceback": [
            "\u001b[0;31m---------------------------------------------------------------------------\u001b[0m",
            "\u001b[0;31mOSError\u001b[0m                                   Traceback (most recent call last)",
            "\u001b[0;32m<ipython-input-19-68090e2b518d>\u001b[0m in \u001b[0;36m<module>\u001b[0;34m()\u001b[0m\n\u001b[1;32m      1\u001b[0m \u001b[0;31m# Define sampling models\u001b[0m\u001b[0;34m\u001b[0m\u001b[0;34m\u001b[0m\u001b[0;34m\u001b[0m\u001b[0m\n\u001b[1;32m      2\u001b[0m \u001b[0;31m# Restore the model and construct the encoder and decoder.\u001b[0m\u001b[0;34m\u001b[0m\u001b[0;34m\u001b[0m\u001b[0;34m\u001b[0m\u001b[0m\n\u001b[0;32m----> 3\u001b[0;31m \u001b[0mmodel\u001b[0m \u001b[0;34m=\u001b[0m \u001b[0mkeras\u001b[0m\u001b[0;34m.\u001b[0m\u001b[0mmodels\u001b[0m\u001b[0;34m.\u001b[0m\u001b[0mload_model\u001b[0m\u001b[0;34m(\u001b[0m\u001b[0;34m\"s2s_tamil\"\u001b[0m\u001b[0;34m)\u001b[0m\u001b[0;34m\u001b[0m\u001b[0;34m\u001b[0m\u001b[0m\n\u001b[0m\u001b[1;32m      4\u001b[0m \u001b[0;34m\u001b[0m\u001b[0m\n\u001b[1;32m      5\u001b[0m \u001b[0mencoder_model\u001b[0m \u001b[0;34m=\u001b[0m \u001b[0mModel\u001b[0m\u001b[0;34m(\u001b[0m\u001b[0mencoder_inputs\u001b[0m\u001b[0;34m,\u001b[0m \u001b[0mencoder_states\u001b[0m\u001b[0;34m)\u001b[0m\u001b[0;34m\u001b[0m\u001b[0;34m\u001b[0m\u001b[0m\n",
            "\u001b[0;32m/usr/local/lib/python3.7/dist-packages/tensorflow/python/keras/saving/save.py\u001b[0m in \u001b[0;36mload_model\u001b[0;34m(filepath, custom_objects, compile, options)\u001b[0m\n\u001b[1;32m    209\u001b[0m       \u001b[0mfilepath\u001b[0m \u001b[0;34m=\u001b[0m \u001b[0mpath_to_string\u001b[0m\u001b[0;34m(\u001b[0m\u001b[0mfilepath\u001b[0m\u001b[0;34m)\u001b[0m\u001b[0;34m\u001b[0m\u001b[0;34m\u001b[0m\u001b[0m\n\u001b[1;32m    210\u001b[0m       \u001b[0;32mif\u001b[0m \u001b[0misinstance\u001b[0m\u001b[0;34m(\u001b[0m\u001b[0mfilepath\u001b[0m\u001b[0;34m,\u001b[0m \u001b[0msix\u001b[0m\u001b[0;34m.\u001b[0m\u001b[0mstring_types\u001b[0m\u001b[0;34m)\u001b[0m\u001b[0;34m:\u001b[0m\u001b[0;34m\u001b[0m\u001b[0;34m\u001b[0m\u001b[0m\n\u001b[0;32m--> 211\u001b[0;31m         \u001b[0mloader_impl\u001b[0m\u001b[0;34m.\u001b[0m\u001b[0mparse_saved_model\u001b[0m\u001b[0;34m(\u001b[0m\u001b[0mfilepath\u001b[0m\u001b[0;34m)\u001b[0m\u001b[0;34m\u001b[0m\u001b[0;34m\u001b[0m\u001b[0m\n\u001b[0m\u001b[1;32m    212\u001b[0m         \u001b[0;32mreturn\u001b[0m \u001b[0msaved_model_load\u001b[0m\u001b[0;34m.\u001b[0m\u001b[0mload\u001b[0m\u001b[0;34m(\u001b[0m\u001b[0mfilepath\u001b[0m\u001b[0;34m,\u001b[0m \u001b[0mcompile\u001b[0m\u001b[0;34m,\u001b[0m \u001b[0moptions\u001b[0m\u001b[0;34m)\u001b[0m\u001b[0;34m\u001b[0m\u001b[0;34m\u001b[0m\u001b[0m\n\u001b[1;32m    213\u001b[0m \u001b[0;34m\u001b[0m\u001b[0m\n",
            "\u001b[0;32m/usr/local/lib/python3.7/dist-packages/tensorflow/python/saved_model/loader_impl.py\u001b[0m in \u001b[0;36mparse_saved_model\u001b[0;34m(export_dir)\u001b[0m\n\u001b[1;32m    112\u001b[0m                   (export_dir,\n\u001b[1;32m    113\u001b[0m                    \u001b[0mconstants\u001b[0m\u001b[0;34m.\u001b[0m\u001b[0mSAVED_MODEL_FILENAME_PBTXT\u001b[0m\u001b[0;34m,\u001b[0m\u001b[0;34m\u001b[0m\u001b[0;34m\u001b[0m\u001b[0m\n\u001b[0;32m--> 114\u001b[0;31m                    constants.SAVED_MODEL_FILENAME_PB))\n\u001b[0m\u001b[1;32m    115\u001b[0m \u001b[0;34m\u001b[0m\u001b[0m\n\u001b[1;32m    116\u001b[0m \u001b[0;34m\u001b[0m\u001b[0m\n",
            "\u001b[0;31mOSError\u001b[0m: SavedModel file does not exist at: s2s_tamil/{saved_model.pbtxt|saved_model.pb}"
          ]
        }
      ]
    },
    {
      "cell_type": "code",
      "metadata": {
        "id": "iLuNs2LhZJe1"
      },
      "source": [
        "\n",
        "def decode_sequence(input_seq, beam_size,encoder_model,decoder_model):\n",
        "    # Encode the input as state vectors.\n",
        "    states_value = (encoder_model.predict(input_seq))\n",
        "    states_value=states_value*n_decoder\n",
        "    k=beam_size\n",
        "    # Generate empty target sequence of length 1.\n",
        "    target_seq = np.zeros((1, 1))\n",
        "    # Populate the first character of target sequence with the start character.\n",
        "    target_seq[0, 0] = target_token_index[\"\\t\"]\n",
        "\n",
        "    end_index=target_token_index[\"\\n\"] #sample index to check for end\n",
        "\n",
        "    # Sampling loop for a batch of sequences\n",
        "    # (to simplify, here we assume a batch of size 1).\n",
        "    stop_condition = False\n",
        "    sequences=[[list(),0.0,states_value,False]]\n",
        "    while not stop_condition:\n",
        "      new_sequences=list()\n",
        "      stop_condition=True\n",
        "      #print(\"a\",np.shape([target_seq] + states_value))\n",
        "      for i in range(len(sequences)):\n",
        "        seq, score, states_value,stop_seq = sequences[i]\n",
        "        \n",
        "        #if particular sequence is finished\n",
        "        if stop_seq:\n",
        "          new_sequences.append(sequences[i])\n",
        "        \n",
        "        #if particular sequence is unfinished\n",
        "        else:\n",
        "          stop_condition=False                                         #if atleast one sequence is unfinished, decoding must continue\n",
        "          if len(seq)!=0:                                              #dont run for first iteration\n",
        "            sampled_token_index=seq[-1]\n",
        "            target_seq = np.zeros((1, 1))\n",
        "            target_seq[0, 0] = sampled_token_index\n",
        "\n",
        "          temp = decoder_model.predict([target_seq] + states_value)\n",
        "          \n",
        "          output_tokens=temp[0]\n",
        "          output_tokens=output_tokens[0, -1, :]\n",
        "          new_states_value=temp[1:]\n",
        "          for j in range(len(output_tokens)):\n",
        "            if j == end_index or len(seq) > max_decoder_seq_length:\n",
        "              new_seq = [seq + [j], score - np.log(output_tokens[j]),new_states_value,True]\n",
        "            else:\n",
        "              new_seq = [seq + [j], score - np.log(output_tokens[j]),new_states_value,False]\n",
        "            new_sequences.append(new_seq)\n",
        "\n",
        "\n",
        "      ordered = sorted(new_sequences, key=lambda tup:tup[1])\n",
        "\n",
        "      # select k best\n",
        "      sequences = ordered[:k]\n",
        "\n",
        "    decoded_sentence = \"\"\n",
        "\n",
        "    best_seq=sequences[0][0]\n",
        "    for sampled_token_index in best_seq:\n",
        "      sampled_char = reverse_target_char_index[sampled_token_index]\n",
        "      decoded_sentence += sampled_char\n",
        "\n",
        "    return decoded_sentence"
      ],
      "execution_count": 14,
      "outputs": []
    },
    {
      "cell_type": "code",
      "metadata": {
        "colab": {
          "base_uri": "https://localhost:8080/"
        },
        "id": "FmqTQWJXbSQD",
        "outputId": "912e1f6f-5cee-4132-c5a9-c0b8b8e493fd"
      },
      "source": [
        "print(decode_sequence(encoder_input_data[20:21],3))\n",
        "print(input_texts[20])"
      ],
      "execution_count": null,
      "outputs": [
        {
          "output_type": "stream",
          "text": [
            "போர்ஸ்\n",
            "\n",
            "force\n"
          ],
          "name": "stdout"
        }
      ]
    },
    {
      "cell_type": "code",
      "metadata": {
        "id": "6UhSXd9ISuk4"
      },
      "source": [
        "def calcValAcc(encoder_inputs,encoder_states, decoder_inputs, embedded_word, output_layers):\n",
        "  encoder_model = Model(encoder_inputs, encoder_states)\n",
        "\n",
        "  decoder_states_inputs = []\n",
        "  decoder_states = []\n",
        "  d_outputs=embedded_word\n",
        "  for j in range(n_decoder)[::-1]:\n",
        "    current_state_inputs = [Input(shape=(latent_dim,)) for _ in range(2)]\n",
        "\n",
        "    temp = output_layers[n_decoder-j-1](d_outputs, initial_state=current_state_inputs)\n",
        "\n",
        "    d_outputs, cur_states = temp[0], temp[1:]\n",
        "    decoder_states += cur_states\n",
        "    decoder_states_inputs += current_state_inputs\n",
        "\n",
        "  decoder_outputs = decoder_dense(d_outputs)\n",
        "  decoder_model = Model(\n",
        "      [decoder_inputs] + decoder_states_inputs,\n",
        "      [decoder_outputs] + decoder_states)\n",
        "\n",
        "  # Reverse-lookup token index to decode sequences back to\n",
        "  # something readable.\n",
        "  correct_pred=list()\n",
        "\n",
        "  for seq_index in range(len(val_encoder_input_data)):\n",
        "    input_seq = val_encoder_input_data[seq_index : seq_index + 1]\n",
        "    pred=decode_sequence(input_seq, beam_size,encoder_model,decoder_model)\n",
        "    #print(input_seq,\"pred:\",pred,\"true\",val_target_texts[seq_index:seq_index+1])\n",
        "    #print(\"yay\",pred,val_target_texts[seq_index])\n",
        "    if pred==val_target_texts[seq_index:seq_index+1]:\n",
        "      correct_pred.append(1)\n",
        "      #print(\"correctpred\")\n",
        "    else:\n",
        "      correct_pred.append(0)\n",
        "    \n",
        "  val_accuracy=np.mean(np.array(correct_pred))\n",
        "\n",
        "  print(val_accuracy)\n",
        "  return(val_accuracy)\n"
      ],
      "execution_count": 36,
      "outputs": []
    },
    {
      "cell_type": "code",
      "metadata": {
        "id": "tgklLKj8XIfI"
      },
      "source": [
        "for seq_index in range(20):\n",
        "    # Take one sequence (part of the training set)\n",
        "    # for trying out decoding.\n",
        "    input_seq = encoder_input_data[seq_index : seq_index + 1]\n",
        "    decoded_sentence = decode_sequence(input_seq)\n",
        "    print(\"-\")\n",
        "    print(\"Input sentence:\", input_texts[seq_index])\n",
        "    print(\"Decoded sentence:\", decoded_sentence)"
      ],
      "execution_count": null,
      "outputs": []
    },
    {
      "cell_type": "code",
      "metadata": {
        "id": "I3QRnedgOHHE"
      },
      "source": [
        "epochs=10"
      ],
      "execution_count": 14,
      "outputs": []
    },
    {
      "cell_type": "markdown",
      "metadata": {
        "id": "QZk3KeveoOUe"
      },
      "source": [
        "Attention"
      ]
    },
    {
      "cell_type": "code",
      "metadata": {
        "id": "nh2w2Bd1mVC_",
        "colab": {
          "base_uri": "https://localhost:8080/"
        },
        "outputId": "231adb5d-0952-4079-db74-b7df79e27314"
      },
      "source": [
        "encoder_inputs=Input(shape=(None,))\n",
        "x = Embedding(num_encoder_tokens, embed_dim)(encoder_inputs)\n",
        "encoder_states = []\n",
        "x, state_h, state_c = CELL[cell_type](latent_dim,dropout=do,return_state=True,return_sequences=True)(x)\n",
        "encoder= x #[x, state_h, state_c]\n",
        "encoder_states = [state_h, state_c]\n",
        "\n",
        "# Set up the decoder, using `encoder_states` as initial state.\n",
        "decoder_inputs = Input(shape=(None,))\n",
        "out_embed=Embedding(num_decoder_tokens, embed_dim)\n",
        "embedded_word=out_embed(decoder_inputs)\n",
        "x=embedded_word\n",
        "output_layers = []\n",
        "output_layers.append(\n",
        "      CELL[cell_type](latent_dim,dropout=do, return_sequences=True,return_state=True)\n",
        ")\n",
        "x,dh,dc = output_layers[-1](x, initial_state=encoder_states)\n",
        "decoder= x#[x,dh,dc]\n",
        "\n",
        "attention = dot([decoder, encoder], axes=[2, 2])\n",
        "visualization=attention\n",
        "attention = Activation('softmax')(visualization)\n",
        "context = dot([attention, encoder], axes=[2,1])\n",
        "decoder_combined_context = concatenate([context, decoder])\n",
        "\n",
        "decoder_dense = Dense(num_decoder_tokens, activation='softmax')\n",
        "output=decoder_dense(decoder_combined_context)\n",
        "\n",
        "\"\"\"#timedistributed?\n",
        "decoder_dense1=TimeDistributed(Dense(latent_dim, activation=\"tanh\"))\n",
        "decoder_dense2=TimeDistributed(Dense(num_decoder_tokens, activation=\"softmax\"))\n",
        "output = decoder_dense1(decoder_combined_context)\n",
        "output = decoder_dense2(output)\"\"\"\n",
        "\n",
        "\"\"\"dropout = Dropout(rate=do)\n",
        "x = dropout(x)\n",
        "decoder_dense = Dense(num_decoder_tokens, activation='softmax')   #time_distributed?\n",
        "decoder_outputs = decoder_dense(x)\"\"\"\n",
        "\n",
        "# Define the model that will turn\n",
        "# `encoder_input_data` & `decoder_input_data` into `decoder_target_data`\n",
        "model = Model([encoder_inputs, decoder_inputs], output)\n",
        "\n",
        "model.compile(\n",
        "    optimizer=\"rmsprop\", loss=\"categorical_crossentropy\", metrics=[\"accuracy\"]\n",
        ")\n",
        "model.fit(\n",
        "    [encoder_input_data, decoder_input_data],\n",
        "    decoder_target_data,\n",
        "    batch_size=batch_size,\n",
        "    epochs=epochs,\n",
        "    validation_split=0.2,\n",
        ")\n",
        "\n",
        "# Save model\n",
        "model.save(\"s2s_tamil\")"
      ],
      "execution_count": 68,
      "outputs": [
        {
          "output_type": "stream",
          "text": [
            "Epoch 1/20\n",
            "853/853 [==============================] - 13s 12ms/step - loss: 1.1034 - accuracy: 0.7137 - val_loss: 0.8015 - val_accuracy: 0.7969\n",
            "Epoch 2/20\n",
            "853/853 [==============================] - 9s 11ms/step - loss: 0.5164 - accuracy: 0.8472 - val_loss: 0.5569 - val_accuracy: 0.8754\n",
            "Epoch 3/20\n",
            "853/853 [==============================] - 9s 11ms/step - loss: 0.2679 - accuracy: 0.9265 - val_loss: 0.4260 - val_accuracy: 0.9087\n",
            "Epoch 4/20\n",
            "853/853 [==============================] - 10s 11ms/step - loss: 0.1537 - accuracy: 0.9590 - val_loss: 0.3882 - val_accuracy: 0.9171\n",
            "Epoch 5/20\n",
            "853/853 [==============================] - 10s 11ms/step - loss: 0.1138 - accuracy: 0.9692 - val_loss: 0.3984 - val_accuracy: 0.9144\n",
            "Epoch 6/20\n",
            "853/853 [==============================] - 9s 11ms/step - loss: 0.0918 - accuracy: 0.9748 - val_loss: 0.4404 - val_accuracy: 0.9031\n",
            "Epoch 7/20\n",
            "853/853 [==============================] - 9s 11ms/step - loss: 0.0786 - accuracy: 0.9780 - val_loss: 0.4795 - val_accuracy: 0.8989\n",
            "Epoch 8/20\n",
            "853/853 [==============================] - 10s 11ms/step - loss: 0.0684 - accuracy: 0.9808 - val_loss: 0.4452 - val_accuracy: 0.9106\n",
            "Epoch 9/20\n",
            "853/853 [==============================] - 9s 11ms/step - loss: 0.0605 - accuracy: 0.9831 - val_loss: 0.4807 - val_accuracy: 0.9008\n",
            "Epoch 10/20\n",
            "853/853 [==============================] - 9s 11ms/step - loss: 0.0531 - accuracy: 0.9852 - val_loss: 0.4662 - val_accuracy: 0.9088\n",
            "Epoch 11/20\n",
            "853/853 [==============================] - 9s 11ms/step - loss: 0.0477 - accuracy: 0.9867 - val_loss: 0.5096 - val_accuracy: 0.8999\n",
            "Epoch 12/20\n",
            "853/853 [==============================] - 9s 11ms/step - loss: 0.0418 - accuracy: 0.9882 - val_loss: 0.5099 - val_accuracy: 0.9016\n",
            "Epoch 13/20\n",
            "853/853 [==============================] - 10s 11ms/step - loss: 0.0387 - accuracy: 0.9892 - val_loss: 0.5212 - val_accuracy: 0.9015\n",
            "Epoch 14/20\n",
            "853/853 [==============================] - 10s 11ms/step - loss: 0.0350 - accuracy: 0.9901 - val_loss: 0.5701 - val_accuracy: 0.8913\n",
            "Epoch 15/20\n",
            "853/853 [==============================] - 9s 11ms/step - loss: 0.0325 - accuracy: 0.9908 - val_loss: 0.5477 - val_accuracy: 0.8989\n",
            "Epoch 16/20\n",
            "853/853 [==============================] - 9s 11ms/step - loss: 0.0291 - accuracy: 0.9918 - val_loss: 0.5589 - val_accuracy: 0.8990\n",
            "Epoch 17/20\n",
            "853/853 [==============================] - 9s 11ms/step - loss: 0.0274 - accuracy: 0.9921 - val_loss: 0.5613 - val_accuracy: 0.9004\n",
            "Epoch 18/20\n",
            "853/853 [==============================] - 9s 11ms/step - loss: 0.0255 - accuracy: 0.9927 - val_loss: 0.6003 - val_accuracy: 0.8955\n",
            "Epoch 19/20\n",
            "853/853 [==============================] - 9s 11ms/step - loss: 0.0235 - accuracy: 0.9932 - val_loss: 0.5914 - val_accuracy: 0.8967\n",
            "Epoch 20/20\n",
            "853/853 [==============================] - 10s 11ms/step - loss: 0.0219 - accuracy: 0.9936 - val_loss: 0.5899 - val_accuracy: 0.9020\n"
          ],
          "name": "stdout"
        },
        {
          "output_type": "stream",
          "text": [
            "WARNING:absl:Found untraced functions such as lstm_cell_42_layer_call_and_return_conditional_losses, lstm_cell_42_layer_call_fn, lstm_cell_43_layer_call_and_return_conditional_losses, lstm_cell_43_layer_call_fn, lstm_cell_42_layer_call_fn while saving (showing 5 of 10). These functions will not be directly callable after loading.\n",
            "WARNING:absl:Found untraced functions such as lstm_cell_42_layer_call_and_return_conditional_losses, lstm_cell_42_layer_call_fn, lstm_cell_43_layer_call_and_return_conditional_losses, lstm_cell_43_layer_call_fn, lstm_cell_42_layer_call_fn while saving (showing 5 of 10). These functions will not be directly callable after loading.\n"
          ],
          "name": "stderr"
        },
        {
          "output_type": "stream",
          "text": [
            "INFO:tensorflow:Assets written to: s2s_tamil/assets\n"
          ],
          "name": "stdout"
        },
        {
          "output_type": "stream",
          "text": [
            "INFO:tensorflow:Assets written to: s2s_tamil/assets\n"
          ],
          "name": "stderr"
        }
      ]
    },
    {
      "cell_type": "code",
      "metadata": {
        "id": "WqG4kyXuprgF"
      },
      "source": [
        "# Define sampling models\n",
        "# Restore the model and construct the encoder and decoder.\n",
        "model = keras.models.load_model(\"s2s_tamil\")\n",
        "\n",
        "encoder_model = Model(encoder_inputs, [encoder,encoder_states])\n",
        "#n_decoder=1\n",
        "\n",
        "decoder_inputs = Input(shape=(None,))\n",
        "embedded_word=out_embed(decoder_inputs)\n",
        "\n",
        "decoder_states_inputs = []\n",
        "decoder_states = []\n",
        "d_outputs=embedded_word\n",
        "current_state_inputs = [Input(shape=(latent_dim,)) for _ in range(2)]\n",
        "encoder_outs=Input(shape=(None,latent_dim,))\n",
        "\n",
        "temp = output_layers[0](d_outputs, initial_state=current_state_inputs)\n",
        "\n",
        "d_outputs, cur_states = temp[0], temp[1:]\n",
        "decoder_states += cur_states\n",
        "decoder_states_inputs += current_state_inputs\n",
        "\n",
        "attention_inf = dot([d_outputs, encoder_outs], axes=[2, 2])\n",
        "\n",
        "attention_inf = Activation('softmax')(attention_inf)\n",
        "\n",
        "visualization=attention_inf\n",
        "\n",
        "context_inf = dot([attention_inf, encoder_outs], axes=[2,1])\n",
        "\n",
        "decoder_combined_context_inf = concatenate([context_inf, d_outputs])\n",
        "\n",
        "dec_output=decoder_dense(decoder_combined_context_inf)\n",
        "\n",
        "\n",
        "\n",
        "decoder_model = Model(\n",
        "    [encoder_outs]+[decoder_inputs] + decoder_states_inputs,\n",
        "    [dec_output]+ [visualization] + decoder_states)\n",
        "\n",
        "\n",
        "\n",
        "# Reverse-lookup token index to decode sequences back to\n",
        "# something readable.\n",
        "reverse_input_char_index = dict((i, char) for char, i in input_token_index.items())\n",
        "reverse_target_char_index = dict((i, char) for char, i in target_token_index.items())\n",
        "\n",
        "\n"
      ],
      "execution_count": 69,
      "outputs": []
    },
    {
      "cell_type": "code",
      "metadata": {
        "id": "jZrCzT7CmJup"
      },
      "source": [
        "plt.rc('font', family='Vijaya')"
      ],
      "execution_count": 173,
      "outputs": []
    },
    {
      "cell_type": "code",
      "metadata": {
        "id": "-l0Fzs29S_BJ"
      },
      "source": [
        "def decode_sequence(input_seq):\n",
        "    # Encode the input as state vectors.\n",
        "    temp= (encoder_model.predict(input_seq))\n",
        "\n",
        "    e_out=temp[0]\n",
        "\n",
        "    states_value=temp[1:]\n",
        "\n",
        "    # Generate empty target sequence of length 1.\n",
        "    target_seq = np.zeros((1, 1))\n",
        "    # Populate the first character of target sequence with the start character.\n",
        "    target_seq[0, 0] = target_token_index[\"\\t\"]\n",
        "\n",
        "    # Sampling loop for a batch of sequences\n",
        "    # (to simplify, here we assume a batch of size 1).\n",
        "    stop_condition = False\n",
        "    decoded_sentence = \"\"\n",
        "    vis_list=list()\n",
        "    end_char_ind=np.max(input_seq[0])\n",
        "    for i in range(len(input_seq[0])):\n",
        "      if input_seq[0][i] == end_char_ind:\n",
        "        break\n",
        "\n",
        "    while not stop_condition:\n",
        "        #print(\"a\",np.shape([target_seq] + states_value))\n",
        "        output_tokens, visualization, h, c = decoder_model.predict([e_out]+[target_seq] + states_value)\n",
        "\n",
        "\n",
        "        vis_list.append(visualization[0][0][:i+1])\n",
        "\n",
        "\n",
        "        # Sample a token\n",
        "        sampled_token_index = np.argmax(output_tokens[0, -1, :])\n",
        "        sampled_char = reverse_target_char_index[sampled_token_index]\n",
        "        decoded_sentence += sampled_char\n",
        "\n",
        "        # Exit condition: either hit max length\n",
        "        # or find stop character.\n",
        "        if sampled_char == \"\\n\" or len(decoded_sentence) > max_decoder_seq_length:\n",
        "            stop_condition = True\n",
        "\n",
        "        # Update the target sequence (of length 1).\n",
        "        target_seq = np.zeros((1, 1))\n",
        "        target_seq[0, 0] = sampled_token_index\n",
        "\n",
        "        # Update states\n",
        "        states_value = [h, c]\n",
        "\n",
        "    n_dots=np.array(np.shape(vis_list))\n",
        "    print(n_dots*10)\n",
        "    mat=np.zeros(n_dots*10)\n",
        "\n",
        "    print(np.shape(mat))\n",
        "    xt=list()\n",
        "    yt=list()\n",
        "\n",
        "    fig, ax = plt.subplots()\n",
        "    for i,vis in enumerate(vis_list):\n",
        "      for j, color in enumerate(vis):\n",
        "        mat[i*10:i*10+10,j*10:j*10+10]=color\n",
        "        yt.append(j*10+5)\n",
        "        xt.append(i*10+5)\n",
        "        \n",
        "    \n",
        "    ax.imshow(mat)\n",
        "    ax.set_xticks(yt)\n",
        "    ax.set_yticks(xt)\n",
        "\n",
        "    print([reverse_input_char_index[token] for token in input_seq[0][:i]])\n",
        "\n",
        "    ax.set_xticklabels([reverse_input_char_index[token] for token in input_seq[0][:i]])\n",
        "    ax.set_yticklabels(decoded_sentence)\n",
        "\n",
        "\n",
        "    \n",
        "    plt.show()\n",
        "\n",
        "    return decoded_sentence"
      ],
      "execution_count": 174,
      "outputs": []
    },
    {
      "cell_type": "code",
      "metadata": {
        "id": "AA5Q3PbfO4GF"
      },
      "source": [
        "print(decode_sequence(encoder_input_data[20:21]))\n",
        "print(input_texts[20])"
      ],
      "execution_count": null,
      "outputs": []
    },
    {
      "cell_type": "code",
      "metadata": {
        "colab": {
          "base_uri": "https://localhost:8080/"
        },
        "id": "WHj8O1RfhmAk",
        "outputId": "875e12b4-96a0-4484-cf61-10d37685ad6f"
      },
      "source": [
        "len(encoder_input_data[25:26][0])"
      ],
      "execution_count": 101,
      "outputs": [
        {
          "output_type": "execute_result",
          "data": {
            "text/plain": [
              "30"
            ]
          },
          "metadata": {
            "tags": []
          },
          "execution_count": 101
        }
      ]
    },
    {
      "cell_type": "markdown",
      "metadata": {
        "id": "hJkelO06Hj_1"
      },
      "source": [
        "Old Inference"
      ]
    },
    {
      "cell_type": "code",
      "metadata": {
        "id": "4IZCRHVQHOpw"
      },
      "source": [
        "# Define sampling models\n",
        "# Restore the model and construct the encoder and decoder.\n",
        "model = keras.models.load_model(\"s2s_tamil\")\n",
        "\n",
        "encoder_model = Model(encoder_inputs, encoder_states)\n",
        "\n",
        "decoder_states_inputs = []\n",
        "decoder_states = []\n",
        "d_outputs=embedded_word\n",
        "for j in range(n_decoder)[::-1]:\n",
        "  current_state_inputs = [Input(shape=(latent_dim,)) for _ in range(2)]\n",
        "\n",
        "  temp = output_layers[n_decoder-j-1](d_outputs, initial_state=current_state_inputs)\n",
        "\n",
        "  d_outputs, cur_states = temp[0], temp[1:]\n",
        "  decoder_states += cur_states\n",
        "  decoder_states_inputs += current_state_inputs\n",
        "\n",
        "decoder_outputs = decoder_dense(d_outputs)\n",
        "decoder_model = Model(\n",
        "    [decoder_inputs] + decoder_states_inputs,\n",
        "    [decoder_outputs] + decoder_states)\n",
        "\n",
        "# Reverse-lookup token index to decode sequences back to\n",
        "# something readable.\n",
        "reverse_input_char_index = dict((i, char) for char, i in input_token_index.items())\n",
        "reverse_target_char_index = dict((i, char) for char, i in target_token_index.items())\n",
        "\n",
        "\n"
      ],
      "execution_count": null,
      "outputs": []
    },
    {
      "cell_type": "code",
      "metadata": {
        "id": "XtlwmAVYOFiI"
      },
      "source": [
        "def decode_sequence(input_seq):\n",
        "    # Encode the input as state vectors.\n",
        "    states_value = (encoder_model.predict(input_seq))\n",
        "    states_value=states_value*n_decoder\n",
        "\n",
        "    # Generate empty target sequence of length 1.\n",
        "    target_seq = np.zeros((1, 1))\n",
        "    # Populate the first character of target sequence with the start character.\n",
        "    target_seq[0, 0] = target_token_index[\"\\t\"]\n",
        "\n",
        "    # Sampling loop for a batch of sequences\n",
        "    # (to simplify, here we assume a batch of size 1).\n",
        "    stop_condition = False\n",
        "    decoded_sentence = \"\"\n",
        "    while not stop_condition:\n",
        "        #print(\"a\",np.shape([target_seq] + states_value))\n",
        "        temp = decoder_model.predict([target_seq] + states_value)\n",
        "        output_tokens=temp[0]\n",
        "        print(np.sum(output_tokens))\n",
        "\n",
        "        # Sample a token\n",
        "        sampled_token_index = np.argmax(output_tokens[0, -1, :])\n",
        "        sampled_char = reverse_target_char_index[sampled_token_index]\n",
        "        decoded_sentence += sampled_char\n",
        "\n",
        "        # Exit condition: either hit max length\n",
        "        # or find stop character.\n",
        "        if sampled_char == \"\\n\" or len(decoded_sentence) > max_decoder_seq_length:\n",
        "            stop_condition = True\n",
        "\n",
        "        # Update the target sequence (of length 1).\n",
        "        target_seq = np.zeros((1, 1))\n",
        "        target_seq[0, 0] = sampled_token_index\n",
        "\n",
        "        # Update states\n",
        "        states_value = temp[1:]\n",
        "    return decoded_sentence"
      ],
      "execution_count": null,
      "outputs": []
    },
    {
      "cell_type": "code",
      "metadata": {
        "id": "7DVuXsqgwb9B"
      },
      "source": [
        "#run = wandb.init(project=PROJECT_NAME, entity='cs6910krsrd',job_type=\"fit\")\n",
        "\n",
        "\n",
        "# Define an input sequence and process it.\n",
        "encoder_inputs=Input(shape=(None,))\n",
        "x = Embedding(num_encoder_tokens, embed_dim)(encoder_inputs)\n",
        "encoder_states = []\n",
        "for j in range(n_encoder)[:-1]:\n",
        "  x, _, _ = CELL[cell_type](latent_dim,dropout=do,return_state=True,return_sequences=True)(x)\n",
        "x, state_h, state_c = CELL[cell_type](latent_dim,dropout=do,return_state=True,return_sequences=True)(x)\n",
        "encoder_states = [state_h, state_c]\n",
        "\n",
        "# Set up the decoder, using `encoder_states` as initial state.\n",
        "decoder_inputs = Input(shape=(None,))\n",
        "out_embed=Embedding(num_decoder_tokens, embed_dim)\n",
        "embedded_word=out_embed(decoder_inputs)\n",
        "x=embedded_word\n",
        "output_layers = []\n",
        "for j in range(n_decoder):\n",
        "  output_layers.append(\n",
        "      CELL[cell_type](latent_dim,dropout=do, return_sequences=True,return_state=True)\n",
        "  )\n",
        "  x,dh,dc = output_layers[-1](x, initial_state=encoder_states)\n",
        "\n",
        "dropout = Dropout(rate=do)\n",
        "x = dropout(x)\n",
        "decoder_dense = Dense(num_decoder_tokens, activation='softmax')\n",
        "decoder_outputs = decoder_dense(x)\n",
        "\n",
        "# Define the model that will turn\n",
        "# `encoder_input_data` & `decoder_input_data` into `decoder_target_data`\n",
        "model = Model([encoder_inputs, decoder_inputs], decoder_outputs)\n",
        "\n",
        "model.compile(\n",
        "    optimizer=\"rmsprop\", loss=\"categorical_crossentropy\", metrics=[\"accuracy\"]\n",
        ")\n",
        "model.fit(\n",
        "    [encoder_input_data, decoder_input_data],\n",
        "    decoder_target_data,\n",
        "    batch_size=batch_size,\n",
        "    validation_data=None,\n",
        "    epochs=epochs,\n",
        "    validation_split=0.2,\n",
        "    callbacks=[WandbCallback()]\n",
        ")\n",
        "\n",
        "# Save model\n",
        "model.save(\"s2s_tamil\")"
      ],
      "execution_count": null,
      "outputs": []
    }
  ]
}