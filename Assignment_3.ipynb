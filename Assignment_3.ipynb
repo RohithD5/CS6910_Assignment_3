{
  "nbformat": 4,
  "nbformat_minor": 0,
  "metadata": {
    "colab": {
      "name": "Assignment 3.ipynb",
      "provenance": [],
      "collapsed_sections": []
    },
    "kernelspec": {
      "name": "python3",
      "display_name": "Python 3"
    },
    "language_info": {
      "name": "python"
    },
    "accelerator": "GPU",
    "widgets": {
      "application/vnd.jupyter.widget-state+json": {
        "b993040fbb244fb1ad49cca7f95480f0": {
          "model_module": "@jupyter-widgets/controls",
          "model_name": "VBoxModel",
          "state": {
            "_view_name": "VBoxView",
            "_dom_classes": [],
            "_model_name": "VBoxModel",
            "_view_module": "@jupyter-widgets/controls",
            "_model_module_version": "1.5.0",
            "_view_count": null,
            "_view_module_version": "1.5.0",
            "box_style": "",
            "layout": "IPY_MODEL_ea2208bdf96a415fa92a4aea28aac80c",
            "_model_module": "@jupyter-widgets/controls",
            "children": [
              "IPY_MODEL_3144644e1d8b4accb1a815aebecf6ee2",
              "IPY_MODEL_f28f19005f1944e6ad61653fa2a587b6"
            ]
          }
        },
        "ea2208bdf96a415fa92a4aea28aac80c": {
          "model_module": "@jupyter-widgets/base",
          "model_name": "LayoutModel",
          "state": {
            "_view_name": "LayoutView",
            "grid_template_rows": null,
            "right": null,
            "justify_content": null,
            "_view_module": "@jupyter-widgets/base",
            "overflow": null,
            "_model_module_version": "1.2.0",
            "_view_count": null,
            "flex_flow": null,
            "width": null,
            "min_width": null,
            "border": null,
            "align_items": null,
            "bottom": null,
            "_model_module": "@jupyter-widgets/base",
            "top": null,
            "grid_column": null,
            "overflow_y": null,
            "overflow_x": null,
            "grid_auto_flow": null,
            "grid_area": null,
            "grid_template_columns": null,
            "flex": null,
            "_model_name": "LayoutModel",
            "justify_items": null,
            "grid_row": null,
            "max_height": null,
            "align_content": null,
            "visibility": null,
            "align_self": null,
            "height": null,
            "min_height": null,
            "padding": null,
            "grid_auto_rows": null,
            "grid_gap": null,
            "max_width": null,
            "order": null,
            "_view_module_version": "1.2.0",
            "grid_template_areas": null,
            "object_position": null,
            "object_fit": null,
            "grid_auto_columns": null,
            "margin": null,
            "display": null,
            "left": null
          }
        },
        "3144644e1d8b4accb1a815aebecf6ee2": {
          "model_module": "@jupyter-widgets/controls",
          "model_name": "LabelModel",
          "state": {
            "_view_name": "LabelView",
            "style": "IPY_MODEL_4b42497991d0407d9ccca27c7dde6b22",
            "_dom_classes": [],
            "description": "",
            "_model_name": "LabelModel",
            "placeholder": "​",
            "_view_module": "@jupyter-widgets/controls",
            "_model_module_version": "1.5.0",
            "value": " 0.01MB of 0.01MB uploaded (0.00MB deduped)\r",
            "_view_count": null,
            "_view_module_version": "1.5.0",
            "description_tooltip": null,
            "_model_module": "@jupyter-widgets/controls",
            "layout": "IPY_MODEL_2bbce4e975ea49d0a54340f8cfe27a01"
          }
        },
        "f28f19005f1944e6ad61653fa2a587b6": {
          "model_module": "@jupyter-widgets/controls",
          "model_name": "FloatProgressModel",
          "state": {
            "_view_name": "ProgressView",
            "style": "IPY_MODEL_50de055071d94a2dbb750c282177f88f",
            "_dom_classes": [],
            "description": "",
            "_model_name": "FloatProgressModel",
            "bar_style": "",
            "max": 1,
            "_view_module": "@jupyter-widgets/controls",
            "_model_module_version": "1.5.0",
            "value": 1,
            "_view_count": null,
            "_view_module_version": "1.5.0",
            "orientation": "horizontal",
            "min": 0,
            "description_tooltip": null,
            "_model_module": "@jupyter-widgets/controls",
            "layout": "IPY_MODEL_2d141db594d64a28bbbb9bebc3d17da0"
          }
        },
        "4b42497991d0407d9ccca27c7dde6b22": {
          "model_module": "@jupyter-widgets/controls",
          "model_name": "DescriptionStyleModel",
          "state": {
            "_view_name": "StyleView",
            "_model_name": "DescriptionStyleModel",
            "description_width": "",
            "_view_module": "@jupyter-widgets/base",
            "_model_module_version": "1.5.0",
            "_view_count": null,
            "_view_module_version": "1.2.0",
            "_model_module": "@jupyter-widgets/controls"
          }
        },
        "2bbce4e975ea49d0a54340f8cfe27a01": {
          "model_module": "@jupyter-widgets/base",
          "model_name": "LayoutModel",
          "state": {
            "_view_name": "LayoutView",
            "grid_template_rows": null,
            "right": null,
            "justify_content": null,
            "_view_module": "@jupyter-widgets/base",
            "overflow": null,
            "_model_module_version": "1.2.0",
            "_view_count": null,
            "flex_flow": null,
            "width": null,
            "min_width": null,
            "border": null,
            "align_items": null,
            "bottom": null,
            "_model_module": "@jupyter-widgets/base",
            "top": null,
            "grid_column": null,
            "overflow_y": null,
            "overflow_x": null,
            "grid_auto_flow": null,
            "grid_area": null,
            "grid_template_columns": null,
            "flex": null,
            "_model_name": "LayoutModel",
            "justify_items": null,
            "grid_row": null,
            "max_height": null,
            "align_content": null,
            "visibility": null,
            "align_self": null,
            "height": null,
            "min_height": null,
            "padding": null,
            "grid_auto_rows": null,
            "grid_gap": null,
            "max_width": null,
            "order": null,
            "_view_module_version": "1.2.0",
            "grid_template_areas": null,
            "object_position": null,
            "object_fit": null,
            "grid_auto_columns": null,
            "margin": null,
            "display": null,
            "left": null
          }
        },
        "50de055071d94a2dbb750c282177f88f": {
          "model_module": "@jupyter-widgets/controls",
          "model_name": "ProgressStyleModel",
          "state": {
            "_view_name": "StyleView",
            "_model_name": "ProgressStyleModel",
            "description_width": "",
            "_view_module": "@jupyter-widgets/base",
            "_model_module_version": "1.5.0",
            "_view_count": null,
            "_view_module_version": "1.2.0",
            "bar_color": null,
            "_model_module": "@jupyter-widgets/controls"
          }
        },
        "2d141db594d64a28bbbb9bebc3d17da0": {
          "model_module": "@jupyter-widgets/base",
          "model_name": "LayoutModel",
          "state": {
            "_view_name": "LayoutView",
            "grid_template_rows": null,
            "right": null,
            "justify_content": null,
            "_view_module": "@jupyter-widgets/base",
            "overflow": null,
            "_model_module_version": "1.2.0",
            "_view_count": null,
            "flex_flow": null,
            "width": null,
            "min_width": null,
            "border": null,
            "align_items": null,
            "bottom": null,
            "_model_module": "@jupyter-widgets/base",
            "top": null,
            "grid_column": null,
            "overflow_y": null,
            "overflow_x": null,
            "grid_auto_flow": null,
            "grid_area": null,
            "grid_template_columns": null,
            "flex": null,
            "_model_name": "LayoutModel",
            "justify_items": null,
            "grid_row": null,
            "max_height": null,
            "align_content": null,
            "visibility": null,
            "align_self": null,
            "height": null,
            "min_height": null,
            "padding": null,
            "grid_auto_rows": null,
            "grid_gap": null,
            "max_width": null,
            "order": null,
            "_view_module_version": "1.2.0",
            "grid_template_areas": null,
            "object_position": null,
            "object_fit": null,
            "grid_auto_columns": null,
            "margin": null,
            "display": null,
            "left": null
          }
        }
      }
    }
  },
  "cells": [
    {
      "cell_type": "code",
      "metadata": {
        "id": "V3Di3vQ67MoB"
      },
      "source": [
        "src_url = \"https://storage.googleapis.com/gresearch/dakshina/dakshina_dataset_v1.0.tar\"\n",
        "src_zip = \"dakshina_dataset_v1.0.tar\"\n",
        "DATA_SRC=\"dakshina_dataset_v1.0/ta/lexicons\"\n",
        "DATA_TRAIN_SRC = \"/ta.translit.sampled.train.tsv\"\n",
        "DATA_VAL_SRC = \"/ta.translit.sampled.dev.tsv\" \n",
        "DATA_TEST_SRC = \"/ta.translit.sampled.test.tsv\"\n",
        "#TRAIN_IMAGES_PER_LABEL = 1000\n",
        "#TEST_IMAGES_PER_LABEL = 200\n",
        "BALANCED_SPLITS = {\"train\" : 900, \"val\" : 100}\n",
        "PROJECT_NAME = \"CS6910 ASSIGNMENT 3\"\n",
        "dataset='dakshina-dataset'"
      ],
      "execution_count": null,
      "outputs": []
    },
    {
      "cell_type": "code",
      "metadata": {
        "id": "-65YGCSb7hED"
      },
      "source": [
        "%%capture\n",
        "!curl -SL $src_url > $src_zip\n",
        "!tar -xf $src_zip"
      ],
      "execution_count": null,
      "outputs": []
    },
    {
      "cell_type": "code",
      "metadata": {
        "id": "8_jZdhj-LApj",
        "colab": {
          "base_uri": "https://localhost:8080/"
        },
        "outputId": "76f3ae12-20fa-4e4d-fe9c-6903972a41eb"
      },
      "source": [
        "import tensorflow as tf\n",
        "from tensorflow.keras.preprocessing.image import ImageDataGenerator\n",
        "import os\n",
        "import numpy as np\n",
        "import matplotlib.pyplot as plt\n",
        "from random import shuffle\n",
        "import pandas as pd\n",
        "import keras\n",
        "from keras.layers import Input, LSTM, Dense, Embedding, GRU, SimpleRNN, Dropout\n",
        "from keras.models import Model\n",
        "\n",
        "!pip3 install tensorflow -qqq\n",
        "!pip3 install wandb -qqq\n",
        "import wandb\n",
        "!wandb login\n",
        "from wandb.keras import WandbCallback"
      ],
      "execution_count": null,
      "outputs": [
        {
          "output_type": "stream",
          "text": [
            "\u001b[K     |████████████████████████████████| 1.8MB 6.5MB/s \n",
            "\u001b[K     |████████████████████████████████| 102kB 9.9MB/s \n",
            "\u001b[K     |████████████████████████████████| 174kB 19.1MB/s \n",
            "\u001b[K     |████████████████████████████████| 133kB 22.0MB/s \n",
            "\u001b[K     |████████████████████████████████| 71kB 9.0MB/s \n",
            "\u001b[?25h  Building wheel for subprocess32 (setup.py) ... \u001b[?25l\u001b[?25hdone\n",
            "  Building wheel for pathtools (setup.py) ... \u001b[?25l\u001b[?25hdone\n",
            "\u001b[34m\u001b[1mwandb\u001b[0m: You can find your API key in your browser here: https://wandb.ai/authorize\n",
            "\u001b[34m\u001b[1mwandb\u001b[0m: Paste an API key from your profile and hit enter: "
          ],
          "name": "stdout"
        }
      ]
    },
    {
      "cell_type": "markdown",
      "metadata": {
        "id": "16PPx0aIOG2q"
      },
      "source": [
        "Uploading Data: only run once"
      ]
    },
    {
      "cell_type": "code",
      "metadata": {
        "id": "-S3nODWoCSmF",
        "colab": {
          "base_uri": "https://localhost:8080/",
          "height": 292,
          "referenced_widgets": [
            "b993040fbb244fb1ad49cca7f95480f0",
            "ea2208bdf96a415fa92a4aea28aac80c",
            "3144644e1d8b4accb1a815aebecf6ee2",
            "f28f19005f1944e6ad61653fa2a587b6",
            "4b42497991d0407d9ccca27c7dde6b22",
            "2bbce4e975ea49d0a54340f8cfe27a01",
            "50de055071d94a2dbb750c282177f88f",
            "2d141db594d64a28bbbb9bebc3d17da0"
          ]
        },
        "outputId": "22d1a86d-9b5b-4024-9ffd-3119056d3e5d"
      },
      "source": [
        "\n",
        "run = wandb.init(project=PROJECT_NAME, entity='cs6910krsrd',job_type=\"upload\")\n",
        "\n",
        "# create an artifact for all the raw data\n",
        "raw_data_at = wandb.Artifact(dataset, type=\"raw_data\")\n",
        "\n",
        "raw_data_at.add_dir(DATA_SRC)\n",
        "\n",
        "# save artifact to W&B\n",
        "run.log_artifact(raw_data_at)\n",
        "run.finish()"
      ],
      "execution_count": null,
      "outputs": [
        {
          "output_type": "stream",
          "text": [
            "\u001b[34m\u001b[1mwandb\u001b[0m: Currently logged in as: \u001b[33mkrsrinivas\u001b[0m (use `wandb login --relogin` to force relogin)\n"
          ],
          "name": "stderr"
        },
        {
          "output_type": "display_data",
          "data": {
            "text/html": [
              "\n",
              "                Tracking run with wandb version 0.10.29<br/>\n",
              "                Syncing run <strong style=\"color:#cdcd00\">twilight-water-16</strong> to <a href=\"https://wandb.ai\" target=\"_blank\">Weights & Biases</a> <a href=\"https://docs.wandb.com/integrations/jupyter.html\" target=\"_blank\">(Documentation)</a>.<br/>\n",
              "                Project page: <a href=\"https://wandb.ai/cs6910krsrd/CS6910%20ASSIGNMENT%203\" target=\"_blank\">https://wandb.ai/cs6910krsrd/CS6910%20ASSIGNMENT%203</a><br/>\n",
              "                Run page: <a href=\"https://wandb.ai/cs6910krsrd/CS6910%20ASSIGNMENT%203/runs/34cmimbo\" target=\"_blank\">https://wandb.ai/cs6910krsrd/CS6910%20ASSIGNMENT%203/runs/34cmimbo</a><br/>\n",
              "                Run data is saved locally in <code>/content/wandb/run-20210504_123429-34cmimbo</code><br/><br/>\n",
              "            "
            ],
            "text/plain": [
              "<IPython.core.display.HTML object>"
            ]
          },
          "metadata": {
            "tags": []
          }
        },
        {
          "output_type": "stream",
          "text": [
            "\u001b[34m\u001b[1mwandb\u001b[0m: Adding directory to artifact (./dakshina_dataset_v1.0/ta/lexicons)... Done. 0.1s\n"
          ],
          "name": "stderr"
        },
        {
          "output_type": "display_data",
          "data": {
            "text/html": [
              "<br/>Waiting for W&B process to finish, PID 155<br/>Program ended successfully."
            ],
            "text/plain": [
              "<IPython.core.display.HTML object>"
            ]
          },
          "metadata": {
            "tags": []
          }
        },
        {
          "output_type": "display_data",
          "data": {
            "application/vnd.jupyter.widget-view+json": {
              "model_id": "b993040fbb244fb1ad49cca7f95480f0",
              "version_minor": 0,
              "version_major": 2
            },
            "text/plain": [
              "VBox(children=(Label(value=' 0.00MB of 0.00MB uploaded (0.00MB deduped)\\r'), FloatProgress(value=1.0, max=1.0)…"
            ]
          },
          "metadata": {
            "tags": []
          }
        },
        {
          "output_type": "display_data",
          "data": {
            "text/html": [
              "Find user logs for this run at: <code>/content/wandb/run-20210504_123429-34cmimbo/logs/debug.log</code>"
            ],
            "text/plain": [
              "<IPython.core.display.HTML object>"
            ]
          },
          "metadata": {
            "tags": []
          }
        },
        {
          "output_type": "display_data",
          "data": {
            "text/html": [
              "Find internal logs for this run at: <code>/content/wandb/run-20210504_123429-34cmimbo/logs/debug-internal.log</code>"
            ],
            "text/plain": [
              "<IPython.core.display.HTML object>"
            ]
          },
          "metadata": {
            "tags": []
          }
        },
        {
          "output_type": "display_data",
          "data": {
            "text/html": [
              "Synced 5 W&B file(s), 0 media file(s), 0 artifact file(s) and 0 other file(s)"
            ],
            "text/plain": [
              "<IPython.core.display.HTML object>"
            ]
          },
          "metadata": {
            "tags": []
          }
        },
        {
          "output_type": "display_data",
          "data": {
            "text/html": [
              "\n",
              "                    <br/>Synced <strong style=\"color:#cdcd00\">twilight-water-16</strong>: <a href=\"https://wandb.ai/cs6910krsrd/CS6910%20ASSIGNMENT%203/runs/34cmimbo\" target=\"_blank\">https://wandb.ai/cs6910krsrd/CS6910%20ASSIGNMENT%203/runs/34cmimbo</a><br/>\n",
              "                "
            ],
            "text/plain": [
              "<IPython.core.display.HTML object>"
            ]
          },
          "metadata": {
            "tags": []
          }
        }
      ]
    },
    {
      "cell_type": "markdown",
      "metadata": {
        "id": "qMs_ZhWLOMbL"
      },
      "source": [
        "Downloading Data"
      ]
    },
    {
      "cell_type": "code",
      "metadata": {
        "id": "rMEcA_xBLk8o"
      },
      "source": [
        "run = wandb.init(project=PROJECT_NAME, entity='cs6910krsrd',job_type=\"download\")\n",
        "\n",
        "# Query W&B for an artifact and mark it as input to this run\n",
        "artifact = run.use_artifact(dataset+':latest')\n",
        "\n",
        "# Download the artifact's contents\n",
        "artifact_dir = artifact.download()\n",
        "run.finish()"
      ],
      "execution_count": null,
      "outputs": []
    },
    {
      "cell_type": "code",
      "metadata": {
        "id": "2VwcSskMqI5I"
      },
      "source": [
        "colnames=[\"ntv\",\"rmn\",'nAtt'] #native, romanized and number of attestations\n",
        "df_train = pd.read_csv(artifact_dir + DATA_TRAIN_SRC,sep=\"\\t\",names=colnames,na_filter=False)\n",
        "df_val = pd.read_csv(artifact_dir + DATA_VAL_SRC,sep=\"\\t\",names=colnames,na_filter=False)"
      ],
      "execution_count": null,
      "outputs": []
    },
    {
      "cell_type": "code",
      "metadata": {
        "id": "0cjAUHYM_71Y"
      },
      "source": [
        "batch_size = 64  # Batch size for training.\n",
        "epochs = 20  # Number of epochs to train for.\n",
        "latent_dim = 256  # Latent dimensionality of the encoding and decoding space (LSTM/GRU/RNN)\n",
        "num_samples = 10000  # Number of samples to train on.\n",
        "embed_dim=16  #embedding size\n",
        "n_encoder=2 #number of encoder layers \n",
        "n_decoder=2 #number of decoder layers\n",
        "cell_type=\"LSTM\"#\"GRU\" \"RNN\" # Cell type of encoder and decoder\n",
        "do=0.2 #dropout"
      ],
      "execution_count": null,
      "outputs": []
    },
    {
      "cell_type": "code",
      "metadata": {
        "id": "zQqVkbGjtI9e"
      },
      "source": [
        "input_texts = df_train.rmn.to_list()    # input words(romanized)\n",
        "target_texts = df_train.ntv.apply(lambda s:'\\t'+s+'\\n').to_list() # target words(native)\n",
        "input_characters = set(df_train.rmn.sum()) # input vocabulary (all english letters)\n",
        "target_characters = set(df_train.ntv.sum()) # target vocabulary (all tamil letters)\n",
        "\n",
        "\n",
        "input_characters = sorted(list(input_characters)) \n",
        "input_characters.append(' ')\n",
        "target_characters = sorted(list(target_characters))\n",
        "target_characters.append(' ')\n",
        "target_characters.append('\\t')\n",
        "target_characters.append('\\n')\n",
        "\n",
        "\n",
        "\n",
        "num_encoder_tokens = len(input_characters)   # size of input vocabulary\n",
        "num_decoder_tokens = len(target_characters)   # ize of target vocabulary\n",
        "max_encoder_seq_length = max([len(txt) for txt in input_texts])  # max input word size\n",
        "max_decoder_seq_length = max([len(txt) for txt in target_texts]) # max output word size"
      ],
      "execution_count": null,
      "outputs": []
    },
    {
      "cell_type": "code",
      "metadata": {
        "id": "Gch--AeBuJgQ"
      },
      "source": [
        "print(\"Number of samples:\", len(input_texts))\n",
        "print(\"Number of unique input tokens:\", num_encoder_tokens)\n",
        "print(\"Number of unique output tokens:\", num_decoder_tokens)\n",
        "print(\"Max sequence length for inputs:\", max_encoder_seq_length)\n",
        "print(\"Max sequence length for outputs:\", max_decoder_seq_length)\n",
        " \n",
        "input_token_index = dict([(char, i) for i, char in enumerate(input_characters)]) #dict mapping input letters to integers\n",
        "target_token_index = dict([(char, i) for i, char in enumerate(target_characters)]) #dict mapping output letters to integers\n",
        "\n",
        "encoder_input_data = np.zeros(                                              \n",
        "    (len(input_texts), max_encoder_seq_length), dtype=\"float32\"\n",
        ")\n",
        "decoder_input_data = np.zeros(\n",
        "    (len(input_texts), max_decoder_seq_length), dtype=\"float32\"\n",
        ")\n",
        "decoder_target_data = np.zeros(\n",
        "    (len(input_texts), max_decoder_seq_length,len(target_token_index)), dtype=\"float32\"\n",
        ")\n",
        "\n"
      ],
      "execution_count": null,
      "outputs": []
    },
    {
      "cell_type": "code",
      "metadata": {
        "id": "WUWaPdROWtQ5"
      },
      "source": [
        "for i, (input_text, target_text) in enumerate(zip(input_texts, target_texts)):\n",
        "    for t, char in enumerate(input_text):\n",
        "        encoder_input_data[i, t] = input_token_index[char]\n",
        "    encoder_input_data[i, t + 1 :] = input_token_index[\" \"]\n",
        "    for t, char in enumerate(target_text):\n",
        "        # decoder_target_data is ahead of decoder_input_data by one timestep\n",
        "        decoder_input_data[i, t] =  target_token_index[char]\n",
        "        if t > 0:\n",
        "            # decoder_target_data will be ahead by one timestep\n",
        "            # and will not include the start character.\n",
        "            decoder_target_data[i, t - 1,target_token_index[char]] = 1.0\n",
        "    decoder_input_data[i, t + 1 :] = target_token_index[\" \"]\n",
        "    decoder_target_data[i, t:,target_token_index[\" \"]] =  1.0\n"
      ],
      "execution_count": null,
      "outputs": []
    },
    {
      "cell_type": "code",
      "metadata": {
        "id": "JTqfwQsu9znT"
      },
      "source": [
        "CELL={\"LSTM\":LSTM,\"GRU\":GRU,\"RNN\":SimpleRNN}"
      ],
      "execution_count": null,
      "outputs": []
    },
    {
      "cell_type": "code",
      "metadata": {
        "id": "3m0hEhE1YTk_",
        "colab": {
          "base_uri": "https://localhost:8080/"
        },
        "outputId": "31b87f83-8f69-4200-a37e-88934dc7907e"
      },
      "source": [
        ""
      ],
      "execution_count": null,
      "outputs": [
        {
          "output_type": "stream",
          "text": [
            "INFO:tensorflow:Assets written to: s2s_tamil/assets\n"
          ],
          "name": "stdout"
        }
      ]
    },
    {
      "cell_type": "code",
      "metadata": {
        "id": "fD2bxK1-ES60",
        "colab": {
          "base_uri": "https://localhost:8080/",
          "height": 229
        },
        "outputId": "4ae60f7f-7049-46a6-bba6-b5009b7026bd"
      },
      "source": [
        "model.compile(\n",
        "    optimizer=\"rmsprop\", loss=\"categorical_crossentropy\", metrics=[\"accuracy\"]\n",
        ")\n",
        "model.fit(\n",
        "    [encoder_input_data, decoder_input_data],\n",
        "    decoder_target_data,\n",
        "    batch_size=batch_size,\n",
        "    epochs=epochs,\n",
        "    validation_split=0.2,\n",
        ")\n",
        "\n",
        "model.save(\"s2s_tamil\")"
      ],
      "execution_count": null,
      "outputs": [
        {
          "output_type": "error",
          "ename": "NameError",
          "evalue": "ignored",
          "traceback": [
            "\u001b[0;31m---------------------------------------------------------------------------\u001b[0m",
            "\u001b[0;31mNameError\u001b[0m                                 Traceback (most recent call last)",
            "\u001b[0;32m<ipython-input-14-bf7b59cd085b>\u001b[0m in \u001b[0;36m<module>\u001b[0;34m()\u001b[0m\n\u001b[0;32m----> 1\u001b[0;31m model.compile(\n\u001b[0m\u001b[1;32m      2\u001b[0m     \u001b[0moptimizer\u001b[0m\u001b[0;34m=\u001b[0m\u001b[0;34m\"rmsprop\"\u001b[0m\u001b[0;34m,\u001b[0m \u001b[0mloss\u001b[0m\u001b[0;34m=\u001b[0m\u001b[0;34m\"categorical_crossentropy\"\u001b[0m\u001b[0;34m,\u001b[0m \u001b[0mmetrics\u001b[0m\u001b[0;34m=\u001b[0m\u001b[0;34m[\u001b[0m\u001b[0;34m\"accuracy\"\u001b[0m\u001b[0;34m]\u001b[0m\u001b[0;34m\u001b[0m\u001b[0;34m\u001b[0m\u001b[0m\n\u001b[1;32m      3\u001b[0m )\n\u001b[1;32m      4\u001b[0m model.fit(\n\u001b[1;32m      5\u001b[0m     \u001b[0;34m[\u001b[0m\u001b[0mencoder_input_data\u001b[0m\u001b[0;34m,\u001b[0m \u001b[0mdecoder_input_data\u001b[0m\u001b[0;34m]\u001b[0m\u001b[0;34m,\u001b[0m\u001b[0;34m\u001b[0m\u001b[0;34m\u001b[0m\u001b[0m\n",
            "\u001b[0;31mNameError\u001b[0m: name 'model' is not defined"
          ]
        }
      ]
    },
    {
      "cell_type": "code",
      "metadata": {
        "id": "tHglmufMXGjy"
      },
      "source": [
        "def train():\n",
        "  \n",
        "    # Define an input sequence and process it.\n",
        "    encoder_inputs=Input(shape=(None,))\n",
        "    x = Embedding(num_encoder_tokens, embed_dim)(encoder_inputs)\n",
        "    encoder_states = []\n",
        "    for j in range(n_encoder)[:-1]:\n",
        "      x, _, _ = CELL[cell_type](latent_dim,return_state=True,return_sequences=True)(x)\n",
        "    x, state_h, state_c = CELL[cell_type](latent_dim,return_state=True,return_sequences=True)(x)\n",
        "    encoder_states = [state_h, state_c]\n",
        "\n",
        "    # Set up the decoder, using `encoder_states` as initial state.\n",
        "    decoder_inputs = Input(shape=(None,))\n",
        "    x = Embedding(num_decoder_tokens, embed_dim)(decoder_inputs)\n",
        "    for j in range(n_decoder)[:-1]:\n",
        "      x,dh,dc = CELL[cell_type](latent_dim, return_sequences=True,return_state=True)(x, initial_state=encoder_states)\n",
        "\n",
        "    dropout = Dropout(rate=do)\n",
        "    x = dropout(x)\n",
        "    decoder_outputs = Dense(num_decoder_tokens, activation='softmax')(x)\n",
        "\n",
        "    # Define the model that will turn\n",
        "    # `encoder_input_data` & `decoder_input_data` into `decoder_target_data`\n",
        "    model = Model([encoder_inputs, decoder_inputs], decoder_outputs)\n",
        "\n",
        "    model.compile(\n",
        "        optimizer=\"rmsprop\", loss=\"categorical_crossentropy\", metrics=[\"accuracy\"]\n",
        "    )\n",
        "    model.fit(\n",
        "        [encoder_input_data, decoder_input_data],\n",
        "        decoder_target_data,\n",
        "        batch_size=batch_size,\n",
        "        epochs=epochs,\n",
        "        validation_split=0.2,\n",
        "    )\n",
        "\n",
        "    # Save model\n",
        "    model.save(\"s2s_tamil\")\n"
      ],
      "execution_count": null,
      "outputs": []
    },
    {
      "cell_type": "code",
      "metadata": {
        "id": "v-NZkNHrKLSi"
      },
      "source": [
        "train()"
      ],
      "execution_count": null,
      "outputs": []
    },
    {
      "cell_type": "code",
      "metadata": {
        "id": "7DVuXsqgwb9B"
      },
      "source": [
        "# Define an input sequence and process it.\n",
        "encoder_inputs=Input(shape=(None,))\n",
        "x = Embedding(num_encoder_tokens, embed_dim)(encoder_inputs)\n",
        "encoder_states = []\n",
        "for j in range(n_encoder)[:-1]:\n",
        "  x, _, _ = CELL[cell_type](latent_dim,dropout=do,return_state=True,return_sequences=True)(x)\n",
        "x, state_h, state_c = CELL[cell_type](latent_dim,dropout=do,return_state=True,return_sequences=True)(x)\n",
        "encoder_states = [state_h, state_c]\n",
        "\n",
        "# Set up the decoder, using `encoder_states` as initial state.\n",
        "decoder_inputs = Input(shape=(None,))\n",
        "out_embed=Embedding(num_decoder_tokens, embed_dim)\n",
        "embedded_word=out_embed(decoder_inputs)\n",
        "x=embedded_word\n",
        "output_layers = []\n",
        "for j in range(n_decoder):\n",
        "  output_layers.append(\n",
        "      CELL[cell_type](latent_dim, return_sequences=True,return_state=True)\n",
        "  )\n",
        "  x,dh,dc = output_layers[-1](x, initial_state=encoder_states)\n",
        "\n",
        "dropout = Dropout(rate=do)\n",
        "x = dropout(x)\n",
        "decoder_dense = Dense(num_decoder_tokens, activation='softmax')\n",
        "decoder_outputs = decoder_dense(x)\n",
        "\n",
        "# Define the model that will turn\n",
        "# `encoder_input_data` & `decoder_input_data` into `decoder_target_data`\n",
        "model = Model([encoder_inputs, decoder_inputs], decoder_outputs)\n",
        "\n",
        "model.compile(\n",
        "    optimizer=\"rmsprop\", loss=\"categorical_crossentropy\", metrics=[\"accuracy\"]\n",
        ")\n",
        "model.fit(\n",
        "    [encoder_input_data, decoder_input_data],\n",
        "    decoder_target_data,\n",
        "    batch_size=batch_size,\n",
        "    epochs=epochs,\n",
        "    validation_split=0.2,\n",
        ")\n",
        "\n",
        "# Save model\n",
        "model.save(\"s2s_tamil\")"
      ],
      "execution_count": null,
      "outputs": []
    },
    {
      "cell_type": "markdown",
      "metadata": {
        "id": "LEA2za5dZ7ZU"
      },
      "source": [
        "Inference"
      ]
    },
    {
      "cell_type": "code",
      "metadata": {
        "id": "u_Qw7E6WXByz"
      },
      "source": [
        "# Define sampling models\n",
        "# Restore the model and construct the encoder and decoder.\n",
        "model = keras.models.load_model(\"s2s_tamil\")\n",
        "\n",
        "encoder_model = Model(encoder_inputs, encoder_states)\n",
        "\n",
        "decoder_states_inputs = []\n",
        "decoder_states = []\n",
        "d_outputs=embedded_word\n",
        "for j in range(n_decoder)[::-1]:\n",
        "  current_state_inputs = [Input(shape=(latent_dim,)) for _ in range(2)]\n",
        "\n",
        "  temp = output_layers[n_decoder-j-1](d_outputs, initial_state=current_state_inputs)\n",
        "\n",
        "  d_outputs, cur_states = temp[0], temp[1:]\n",
        "  decoder_states += cur_states\n",
        "  decoder_states_inputs += current_state_inputs\n",
        "\n",
        "decoder_outputs = decoder_dense(d_outputs)\n",
        "decoder_model = Model(\n",
        "    [decoder_inputs] + decoder_states_inputs,\n",
        "    [decoder_outputs] + decoder_states)\n",
        "\n",
        "# Reverse-lookup token index to decode sequences back to\n",
        "# something readable.\n",
        "reverse_input_char_index = dict((i, char) for char, i in input_token_index.items())\n",
        "reverse_target_char_index = dict((i, char) for char, i in target_token_index.items())\n",
        "\n",
        "\n",
        "def decode_sequence(input_seq):\n",
        "    # Encode the input as state vectors.\n",
        "    states_value = (encoder_model.predict(input_seq))\n",
        "    states_value=states_value*n_decoder\n",
        "\n",
        "    # Generate empty target sequence of length 1.\n",
        "    target_seq = np.zeros((1, 1))\n",
        "    # Populate the first character of target sequence with the start character.\n",
        "    target_seq[0, 0] = target_token_index[\"\\t\"]\n",
        "\n",
        "    # Sampling loop for a batch of sequences\n",
        "    # (to simplify, here we assume a batch of size 1).\n",
        "    stop_condition = False\n",
        "    decoded_sentence = \"\"\n",
        "    while not stop_condition:\n",
        "        #print(\"a\",np.shape([target_seq] + states_value))\n",
        "        output_tokens, h, c = decoder_model.predict([target_seq] + states_value)\n",
        "\n",
        "        # Sample a token\n",
        "        sampled_token_index = np.argmax(output_tokens[0, -1, :])\n",
        "        sampled_char = reverse_target_char_index[sampled_token_index]\n",
        "        decoded_sentence += sampled_char\n",
        "\n",
        "        # Exit condition: either hit max length\n",
        "        # or find stop character.\n",
        "        if sampled_char == \"\\n\" or len(decoded_sentence) > max_decoder_seq_length:\n",
        "            stop_condition = True\n",
        "\n",
        "        # Update the target sequence (of length 1).\n",
        "        target_seq = np.zeros((1, 1))\n",
        "        target_seq[0, 0] = sampled_token_index\n",
        "\n",
        "        # Update states\n",
        "        states_value = [h, c]\n",
        "    return decoded_sentence"
      ],
      "execution_count": null,
      "outputs": []
    },
    {
      "cell_type": "code",
      "metadata": {
        "colab": {
          "base_uri": "https://localhost:8080/"
        },
        "id": "FmqTQWJXbSQD",
        "outputId": "a96cafba-4bc7-413e-ee45-31cda28e7a17"
      },
      "source": [
        "print(decode_sequence(encoder_input_data[10:11]))\n",
        "print(input_texts[10])"
      ],
      "execution_count": null,
      "outputs": [
        {
          "output_type": "stream",
          "text": [
            "பிலிமஸ்\n",
            "\n",
            "filims\n"
          ],
          "name": "stdout"
        }
      ]
    },
    {
      "cell_type": "code",
      "metadata": {
        "id": "6UhSXd9ISuk4"
      },
      "source": [
        "def calcValAcc():\n",
        "  "
      ],
      "execution_count": null,
      "outputs": []
    },
    {
      "cell_type": "code",
      "metadata": {
        "id": "tgklLKj8XIfI"
      },
      "source": [
        "for seq_index in range(20):\n",
        "    # Take one sequence (part of the training set)\n",
        "    # for trying out decoding.\n",
        "    input_seq = encoder_input_data[seq_index : seq_index + 1]\n",
        "    decoded_sentence = decode_sequence(input_seq)\n",
        "    print(\"-\")\n",
        "    print(\"Input sentence:\", input_texts[seq_index])\n",
        "    print(\"Decoded sentence:\", decoded_sentence)"
      ],
      "execution_count": null,
      "outputs": []
    },
    {
      "cell_type": "code",
      "metadata": {
        "id": "nh2w2Bd1mVC_"
      },
      "source": [
        ""
      ],
      "execution_count": null,
      "outputs": []
    }
  ]
}