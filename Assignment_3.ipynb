{
  "nbformat": 4,
  "nbformat_minor": 0,
  "metadata": {
    "colab": {
      "name": "Assignment 3.ipynb",
      "provenance": [],
      "collapsed_sections": []
    },
    "kernelspec": {
      "name": "python3",
      "display_name": "Python 3"
    },
    "language_info": {
      "name": "python"
    },
    "accelerator": "GPU",
    "widgets": {
      "application/vnd.jupyter.widget-state+json": {
        "d5f87b1f100d4455a02073fb428e389d": {
          "model_module": "@jupyter-widgets/controls",
          "model_name": "VBoxModel",
          "state": {
            "_view_name": "VBoxView",
            "_dom_classes": [],
            "_model_name": "VBoxModel",
            "_view_module": "@jupyter-widgets/controls",
            "_model_module_version": "1.5.0",
            "_view_count": null,
            "_view_module_version": "1.5.0",
            "box_style": "",
            "layout": "IPY_MODEL_701ea56c09d54289889dd3ad4475ba12",
            "_model_module": "@jupyter-widgets/controls",
            "children": [
              "IPY_MODEL_31d620a6c285403e92ef6cc601cf9b8a",
              "IPY_MODEL_052fad2d05804eb58754b081d03c03b9"
            ]
          }
        },
        "701ea56c09d54289889dd3ad4475ba12": {
          "model_module": "@jupyter-widgets/base",
          "model_name": "LayoutModel",
          "state": {
            "_view_name": "LayoutView",
            "grid_template_rows": null,
            "right": null,
            "justify_content": null,
            "_view_module": "@jupyter-widgets/base",
            "overflow": null,
            "_model_module_version": "1.2.0",
            "_view_count": null,
            "flex_flow": null,
            "width": null,
            "min_width": null,
            "border": null,
            "align_items": null,
            "bottom": null,
            "_model_module": "@jupyter-widgets/base",
            "top": null,
            "grid_column": null,
            "overflow_y": null,
            "overflow_x": null,
            "grid_auto_flow": null,
            "grid_area": null,
            "grid_template_columns": null,
            "flex": null,
            "_model_name": "LayoutModel",
            "justify_items": null,
            "grid_row": null,
            "max_height": null,
            "align_content": null,
            "visibility": null,
            "align_self": null,
            "height": null,
            "min_height": null,
            "padding": null,
            "grid_auto_rows": null,
            "grid_gap": null,
            "max_width": null,
            "order": null,
            "_view_module_version": "1.2.0",
            "grid_template_areas": null,
            "object_position": null,
            "object_fit": null,
            "grid_auto_columns": null,
            "margin": null,
            "display": null,
            "left": null
          }
        },
        "31d620a6c285403e92ef6cc601cf9b8a": {
          "model_module": "@jupyter-widgets/controls",
          "model_name": "LabelModel",
          "state": {
            "_view_name": "LabelView",
            "style": "IPY_MODEL_fbf6e30daceb4787a583f93c43257159",
            "_dom_classes": [],
            "description": "",
            "_model_name": "LabelModel",
            "placeholder": "​",
            "_view_module": "@jupyter-widgets/controls",
            "_model_module_version": "1.5.0",
            "value": " 0.06MB of 0.06MB uploaded (0.00MB deduped)\r",
            "_view_count": null,
            "_view_module_version": "1.5.0",
            "description_tooltip": null,
            "_model_module": "@jupyter-widgets/controls",
            "layout": "IPY_MODEL_0107e4ccb26f4812b6af4519fcf37131"
          }
        },
        "052fad2d05804eb58754b081d03c03b9": {
          "model_module": "@jupyter-widgets/controls",
          "model_name": "FloatProgressModel",
          "state": {
            "_view_name": "ProgressView",
            "style": "IPY_MODEL_865b11f7b34243248798e2cb33ed3856",
            "_dom_classes": [],
            "description": "",
            "_model_name": "FloatProgressModel",
            "bar_style": "",
            "max": 1,
            "_view_module": "@jupyter-widgets/controls",
            "_model_module_version": "1.5.0",
            "value": 1,
            "_view_count": null,
            "_view_module_version": "1.5.0",
            "orientation": "horizontal",
            "min": 0,
            "description_tooltip": null,
            "_model_module": "@jupyter-widgets/controls",
            "layout": "IPY_MODEL_2641c7287de44f7187d7efeb08349780"
          }
        },
        "fbf6e30daceb4787a583f93c43257159": {
          "model_module": "@jupyter-widgets/controls",
          "model_name": "DescriptionStyleModel",
          "state": {
            "_view_name": "StyleView",
            "_model_name": "DescriptionStyleModel",
            "description_width": "",
            "_view_module": "@jupyter-widgets/base",
            "_model_module_version": "1.5.0",
            "_view_count": null,
            "_view_module_version": "1.2.0",
            "_model_module": "@jupyter-widgets/controls"
          }
        },
        "0107e4ccb26f4812b6af4519fcf37131": {
          "model_module": "@jupyter-widgets/base",
          "model_name": "LayoutModel",
          "state": {
            "_view_name": "LayoutView",
            "grid_template_rows": null,
            "right": null,
            "justify_content": null,
            "_view_module": "@jupyter-widgets/base",
            "overflow": null,
            "_model_module_version": "1.2.0",
            "_view_count": null,
            "flex_flow": null,
            "width": null,
            "min_width": null,
            "border": null,
            "align_items": null,
            "bottom": null,
            "_model_module": "@jupyter-widgets/base",
            "top": null,
            "grid_column": null,
            "overflow_y": null,
            "overflow_x": null,
            "grid_auto_flow": null,
            "grid_area": null,
            "grid_template_columns": null,
            "flex": null,
            "_model_name": "LayoutModel",
            "justify_items": null,
            "grid_row": null,
            "max_height": null,
            "align_content": null,
            "visibility": null,
            "align_self": null,
            "height": null,
            "min_height": null,
            "padding": null,
            "grid_auto_rows": null,
            "grid_gap": null,
            "max_width": null,
            "order": null,
            "_view_module_version": "1.2.0",
            "grid_template_areas": null,
            "object_position": null,
            "object_fit": null,
            "grid_auto_columns": null,
            "margin": null,
            "display": null,
            "left": null
          }
        },
        "865b11f7b34243248798e2cb33ed3856": {
          "model_module": "@jupyter-widgets/controls",
          "model_name": "ProgressStyleModel",
          "state": {
            "_view_name": "StyleView",
            "_model_name": "ProgressStyleModel",
            "description_width": "",
            "_view_module": "@jupyter-widgets/base",
            "_model_module_version": "1.5.0",
            "_view_count": null,
            "_view_module_version": "1.2.0",
            "bar_color": null,
            "_model_module": "@jupyter-widgets/controls"
          }
        },
        "2641c7287de44f7187d7efeb08349780": {
          "model_module": "@jupyter-widgets/base",
          "model_name": "LayoutModel",
          "state": {
            "_view_name": "LayoutView",
            "grid_template_rows": null,
            "right": null,
            "justify_content": null,
            "_view_module": "@jupyter-widgets/base",
            "overflow": null,
            "_model_module_version": "1.2.0",
            "_view_count": null,
            "flex_flow": null,
            "width": null,
            "min_width": null,
            "border": null,
            "align_items": null,
            "bottom": null,
            "_model_module": "@jupyter-widgets/base",
            "top": null,
            "grid_column": null,
            "overflow_y": null,
            "overflow_x": null,
            "grid_auto_flow": null,
            "grid_area": null,
            "grid_template_columns": null,
            "flex": null,
            "_model_name": "LayoutModel",
            "justify_items": null,
            "grid_row": null,
            "max_height": null,
            "align_content": null,
            "visibility": null,
            "align_self": null,
            "height": null,
            "min_height": null,
            "padding": null,
            "grid_auto_rows": null,
            "grid_gap": null,
            "max_width": null,
            "order": null,
            "_view_module_version": "1.2.0",
            "grid_template_areas": null,
            "object_position": null,
            "object_fit": null,
            "grid_auto_columns": null,
            "margin": null,
            "display": null,
            "left": null
          }
        },
        "1544ca40f75742f785a9554f7ee465f3": {
          "model_module": "@jupyter-widgets/controls",
          "model_name": "VBoxModel",
          "state": {
            "_view_name": "VBoxView",
            "_dom_classes": [],
            "_model_name": "VBoxModel",
            "_view_module": "@jupyter-widgets/controls",
            "_model_module_version": "1.5.0",
            "_view_count": null,
            "_view_module_version": "1.5.0",
            "box_style": "",
            "layout": "IPY_MODEL_d33203ffe3d24ae3ad1325add197a17b",
            "_model_module": "@jupyter-widgets/controls",
            "children": [
              "IPY_MODEL_89860920e8e94c4a9893e20582a85c84",
              "IPY_MODEL_d86baf07162c42f8bbe432beae16b036"
            ]
          }
        },
        "d33203ffe3d24ae3ad1325add197a17b": {
          "model_module": "@jupyter-widgets/base",
          "model_name": "LayoutModel",
          "state": {
            "_view_name": "LayoutView",
            "grid_template_rows": null,
            "right": null,
            "justify_content": null,
            "_view_module": "@jupyter-widgets/base",
            "overflow": null,
            "_model_module_version": "1.2.0",
            "_view_count": null,
            "flex_flow": null,
            "width": null,
            "min_width": null,
            "border": null,
            "align_items": null,
            "bottom": null,
            "_model_module": "@jupyter-widgets/base",
            "top": null,
            "grid_column": null,
            "overflow_y": null,
            "overflow_x": null,
            "grid_auto_flow": null,
            "grid_area": null,
            "grid_template_columns": null,
            "flex": null,
            "_model_name": "LayoutModel",
            "justify_items": null,
            "grid_row": null,
            "max_height": null,
            "align_content": null,
            "visibility": null,
            "align_self": null,
            "height": null,
            "min_height": null,
            "padding": null,
            "grid_auto_rows": null,
            "grid_gap": null,
            "max_width": null,
            "order": null,
            "_view_module_version": "1.2.0",
            "grid_template_areas": null,
            "object_position": null,
            "object_fit": null,
            "grid_auto_columns": null,
            "margin": null,
            "display": null,
            "left": null
          }
        },
        "89860920e8e94c4a9893e20582a85c84": {
          "model_module": "@jupyter-widgets/controls",
          "model_name": "LabelModel",
          "state": {
            "_view_name": "LabelView",
            "style": "IPY_MODEL_5ae6cb6963534fb5b3a560eca926b21f",
            "_dom_classes": [],
            "description": "",
            "_model_name": "LabelModel",
            "placeholder": "​",
            "_view_module": "@jupyter-widgets/controls",
            "_model_module_version": "1.5.0",
            "value": " 24.14MB of 24.14MB uploaded (0.00MB deduped)\r",
            "_view_count": null,
            "_view_module_version": "1.5.0",
            "description_tooltip": null,
            "_model_module": "@jupyter-widgets/controls",
            "layout": "IPY_MODEL_e577aeb2c3b54bcba7bfa7a014384a23"
          }
        },
        "d86baf07162c42f8bbe432beae16b036": {
          "model_module": "@jupyter-widgets/controls",
          "model_name": "FloatProgressModel",
          "state": {
            "_view_name": "ProgressView",
            "style": "IPY_MODEL_53ea326d03c24717b02a29641426b438",
            "_dom_classes": [],
            "description": "",
            "_model_name": "FloatProgressModel",
            "bar_style": "",
            "max": 1,
            "_view_module": "@jupyter-widgets/controls",
            "_model_module_version": "1.5.0",
            "value": 1,
            "_view_count": null,
            "_view_module_version": "1.5.0",
            "orientation": "horizontal",
            "min": 0,
            "description_tooltip": null,
            "_model_module": "@jupyter-widgets/controls",
            "layout": "IPY_MODEL_1ac852393da04d5bb6fae1d94d0d275b"
          }
        },
        "5ae6cb6963534fb5b3a560eca926b21f": {
          "model_module": "@jupyter-widgets/controls",
          "model_name": "DescriptionStyleModel",
          "state": {
            "_view_name": "StyleView",
            "_model_name": "DescriptionStyleModel",
            "description_width": "",
            "_view_module": "@jupyter-widgets/base",
            "_model_module_version": "1.5.0",
            "_view_count": null,
            "_view_module_version": "1.2.0",
            "_model_module": "@jupyter-widgets/controls"
          }
        },
        "e577aeb2c3b54bcba7bfa7a014384a23": {
          "model_module": "@jupyter-widgets/base",
          "model_name": "LayoutModel",
          "state": {
            "_view_name": "LayoutView",
            "grid_template_rows": null,
            "right": null,
            "justify_content": null,
            "_view_module": "@jupyter-widgets/base",
            "overflow": null,
            "_model_module_version": "1.2.0",
            "_view_count": null,
            "flex_flow": null,
            "width": null,
            "min_width": null,
            "border": null,
            "align_items": null,
            "bottom": null,
            "_model_module": "@jupyter-widgets/base",
            "top": null,
            "grid_column": null,
            "overflow_y": null,
            "overflow_x": null,
            "grid_auto_flow": null,
            "grid_area": null,
            "grid_template_columns": null,
            "flex": null,
            "_model_name": "LayoutModel",
            "justify_items": null,
            "grid_row": null,
            "max_height": null,
            "align_content": null,
            "visibility": null,
            "align_self": null,
            "height": null,
            "min_height": null,
            "padding": null,
            "grid_auto_rows": null,
            "grid_gap": null,
            "max_width": null,
            "order": null,
            "_view_module_version": "1.2.0",
            "grid_template_areas": null,
            "object_position": null,
            "object_fit": null,
            "grid_auto_columns": null,
            "margin": null,
            "display": null,
            "left": null
          }
        },
        "53ea326d03c24717b02a29641426b438": {
          "model_module": "@jupyter-widgets/controls",
          "model_name": "ProgressStyleModel",
          "state": {
            "_view_name": "StyleView",
            "_model_name": "ProgressStyleModel",
            "description_width": "",
            "_view_module": "@jupyter-widgets/base",
            "_model_module_version": "1.5.0",
            "_view_count": null,
            "_view_module_version": "1.2.0",
            "bar_color": null,
            "_model_module": "@jupyter-widgets/controls"
          }
        },
        "1ac852393da04d5bb6fae1d94d0d275b": {
          "model_module": "@jupyter-widgets/base",
          "model_name": "LayoutModel",
          "state": {
            "_view_name": "LayoutView",
            "grid_template_rows": null,
            "right": null,
            "justify_content": null,
            "_view_module": "@jupyter-widgets/base",
            "overflow": null,
            "_model_module_version": "1.2.0",
            "_view_count": null,
            "flex_flow": null,
            "width": null,
            "min_width": null,
            "border": null,
            "align_items": null,
            "bottom": null,
            "_model_module": "@jupyter-widgets/base",
            "top": null,
            "grid_column": null,
            "overflow_y": null,
            "overflow_x": null,
            "grid_auto_flow": null,
            "grid_area": null,
            "grid_template_columns": null,
            "flex": null,
            "_model_name": "LayoutModel",
            "justify_items": null,
            "grid_row": null,
            "max_height": null,
            "align_content": null,
            "visibility": null,
            "align_self": null,
            "height": null,
            "min_height": null,
            "padding": null,
            "grid_auto_rows": null,
            "grid_gap": null,
            "max_width": null,
            "order": null,
            "_view_module_version": "1.2.0",
            "grid_template_areas": null,
            "object_position": null,
            "object_fit": null,
            "grid_auto_columns": null,
            "margin": null,
            "display": null,
            "left": null
          }
        },
        "abbeb47f03604cbeb54606f0c4f2074b": {
          "model_module": "@jupyter-widgets/controls",
          "model_name": "VBoxModel",
          "state": {
            "_view_name": "VBoxView",
            "_dom_classes": [],
            "_model_name": "VBoxModel",
            "_view_module": "@jupyter-widgets/controls",
            "_model_module_version": "1.5.0",
            "_view_count": null,
            "_view_module_version": "1.5.0",
            "box_style": "",
            "layout": "IPY_MODEL_c42c42a1e2ce4572b5be27a2af2336df",
            "_model_module": "@jupyter-widgets/controls",
            "children": [
              "IPY_MODEL_5edf4f6d5e18445abf6a1fa35f9d3875",
              "IPY_MODEL_2758926b0bc44ed0a71a5699e1653b21"
            ]
          }
        },
        "c42c42a1e2ce4572b5be27a2af2336df": {
          "model_module": "@jupyter-widgets/base",
          "model_name": "LayoutModel",
          "state": {
            "_view_name": "LayoutView",
            "grid_template_rows": null,
            "right": null,
            "justify_content": null,
            "_view_module": "@jupyter-widgets/base",
            "overflow": null,
            "_model_module_version": "1.2.0",
            "_view_count": null,
            "flex_flow": null,
            "width": null,
            "min_width": null,
            "border": null,
            "align_items": null,
            "bottom": null,
            "_model_module": "@jupyter-widgets/base",
            "top": null,
            "grid_column": null,
            "overflow_y": null,
            "overflow_x": null,
            "grid_auto_flow": null,
            "grid_area": null,
            "grid_template_columns": null,
            "flex": null,
            "_model_name": "LayoutModel",
            "justify_items": null,
            "grid_row": null,
            "max_height": null,
            "align_content": null,
            "visibility": null,
            "align_self": null,
            "height": null,
            "min_height": null,
            "padding": null,
            "grid_auto_rows": null,
            "grid_gap": null,
            "max_width": null,
            "order": null,
            "_view_module_version": "1.2.0",
            "grid_template_areas": null,
            "object_position": null,
            "object_fit": null,
            "grid_auto_columns": null,
            "margin": null,
            "display": null,
            "left": null
          }
        },
        "5edf4f6d5e18445abf6a1fa35f9d3875": {
          "model_module": "@jupyter-widgets/controls",
          "model_name": "LabelModel",
          "state": {
            "_view_name": "LabelView",
            "style": "IPY_MODEL_ceeaee6713b9439ba50d1351a75573a1",
            "_dom_classes": [],
            "description": "",
            "_model_name": "LabelModel",
            "placeholder": "​",
            "_view_module": "@jupyter-widgets/controls",
            "_model_module_version": "1.5.0",
            "value": " 0.01MB of 0.01MB uploaded (0.00MB deduped)\r",
            "_view_count": null,
            "_view_module_version": "1.5.0",
            "description_tooltip": null,
            "_model_module": "@jupyter-widgets/controls",
            "layout": "IPY_MODEL_5da12aed4b9247f991fe0cb0f5f144ac"
          }
        },
        "2758926b0bc44ed0a71a5699e1653b21": {
          "model_module": "@jupyter-widgets/controls",
          "model_name": "FloatProgressModel",
          "state": {
            "_view_name": "ProgressView",
            "style": "IPY_MODEL_91938d4d4b0d457f9bb8af1d2436f5ee",
            "_dom_classes": [],
            "description": "",
            "_model_name": "FloatProgressModel",
            "bar_style": "",
            "max": 1,
            "_view_module": "@jupyter-widgets/controls",
            "_model_module_version": "1.5.0",
            "value": 1,
            "_view_count": null,
            "_view_module_version": "1.5.0",
            "orientation": "horizontal",
            "min": 0,
            "description_tooltip": null,
            "_model_module": "@jupyter-widgets/controls",
            "layout": "IPY_MODEL_5ea1ad3978f84bb4bc829408c5bd1c59"
          }
        },
        "ceeaee6713b9439ba50d1351a75573a1": {
          "model_module": "@jupyter-widgets/controls",
          "model_name": "DescriptionStyleModel",
          "state": {
            "_view_name": "StyleView",
            "_model_name": "DescriptionStyleModel",
            "description_width": "",
            "_view_module": "@jupyter-widgets/base",
            "_model_module_version": "1.5.0",
            "_view_count": null,
            "_view_module_version": "1.2.0",
            "_model_module": "@jupyter-widgets/controls"
          }
        },
        "5da12aed4b9247f991fe0cb0f5f144ac": {
          "model_module": "@jupyter-widgets/base",
          "model_name": "LayoutModel",
          "state": {
            "_view_name": "LayoutView",
            "grid_template_rows": null,
            "right": null,
            "justify_content": null,
            "_view_module": "@jupyter-widgets/base",
            "overflow": null,
            "_model_module_version": "1.2.0",
            "_view_count": null,
            "flex_flow": null,
            "width": null,
            "min_width": null,
            "border": null,
            "align_items": null,
            "bottom": null,
            "_model_module": "@jupyter-widgets/base",
            "top": null,
            "grid_column": null,
            "overflow_y": null,
            "overflow_x": null,
            "grid_auto_flow": null,
            "grid_area": null,
            "grid_template_columns": null,
            "flex": null,
            "_model_name": "LayoutModel",
            "justify_items": null,
            "grid_row": null,
            "max_height": null,
            "align_content": null,
            "visibility": null,
            "align_self": null,
            "height": null,
            "min_height": null,
            "padding": null,
            "grid_auto_rows": null,
            "grid_gap": null,
            "max_width": null,
            "order": null,
            "_view_module_version": "1.2.0",
            "grid_template_areas": null,
            "object_position": null,
            "object_fit": null,
            "grid_auto_columns": null,
            "margin": null,
            "display": null,
            "left": null
          }
        },
        "91938d4d4b0d457f9bb8af1d2436f5ee": {
          "model_module": "@jupyter-widgets/controls",
          "model_name": "ProgressStyleModel",
          "state": {
            "_view_name": "StyleView",
            "_model_name": "ProgressStyleModel",
            "description_width": "",
            "_view_module": "@jupyter-widgets/base",
            "_model_module_version": "1.5.0",
            "_view_count": null,
            "_view_module_version": "1.2.0",
            "bar_color": null,
            "_model_module": "@jupyter-widgets/controls"
          }
        },
        "5ea1ad3978f84bb4bc829408c5bd1c59": {
          "model_module": "@jupyter-widgets/base",
          "model_name": "LayoutModel",
          "state": {
            "_view_name": "LayoutView",
            "grid_template_rows": null,
            "right": null,
            "justify_content": null,
            "_view_module": "@jupyter-widgets/base",
            "overflow": null,
            "_model_module_version": "1.2.0",
            "_view_count": null,
            "flex_flow": null,
            "width": null,
            "min_width": null,
            "border": null,
            "align_items": null,
            "bottom": null,
            "_model_module": "@jupyter-widgets/base",
            "top": null,
            "grid_column": null,
            "overflow_y": null,
            "overflow_x": null,
            "grid_auto_flow": null,
            "grid_area": null,
            "grid_template_columns": null,
            "flex": null,
            "_model_name": "LayoutModel",
            "justify_items": null,
            "grid_row": null,
            "max_height": null,
            "align_content": null,
            "visibility": null,
            "align_self": null,
            "height": null,
            "min_height": null,
            "padding": null,
            "grid_auto_rows": null,
            "grid_gap": null,
            "max_width": null,
            "order": null,
            "_view_module_version": "1.2.0",
            "grid_template_areas": null,
            "object_position": null,
            "object_fit": null,
            "grid_auto_columns": null,
            "margin": null,
            "display": null,
            "left": null
          }
        },
        "47ee97ef13814d0db6bccfed6f69bf34": {
          "model_module": "@jupyter-widgets/controls",
          "model_name": "VBoxModel",
          "state": {
            "_view_name": "VBoxView",
            "_dom_classes": [],
            "_model_name": "VBoxModel",
            "_view_module": "@jupyter-widgets/controls",
            "_model_module_version": "1.5.0",
            "_view_count": null,
            "_view_module_version": "1.5.0",
            "box_style": "",
            "layout": "IPY_MODEL_58abeb1b7a464ad3b8d1c2ada45b9883",
            "_model_module": "@jupyter-widgets/controls",
            "children": [
              "IPY_MODEL_451bcac8296d491cbee52f56f13cfbae",
              "IPY_MODEL_4481d764d56547b2aeb7ded15370874d"
            ]
          }
        },
        "58abeb1b7a464ad3b8d1c2ada45b9883": {
          "model_module": "@jupyter-widgets/base",
          "model_name": "LayoutModel",
          "state": {
            "_view_name": "LayoutView",
            "grid_template_rows": null,
            "right": null,
            "justify_content": null,
            "_view_module": "@jupyter-widgets/base",
            "overflow": null,
            "_model_module_version": "1.2.0",
            "_view_count": null,
            "flex_flow": null,
            "width": null,
            "min_width": null,
            "border": null,
            "align_items": null,
            "bottom": null,
            "_model_module": "@jupyter-widgets/base",
            "top": null,
            "grid_column": null,
            "overflow_y": null,
            "overflow_x": null,
            "grid_auto_flow": null,
            "grid_area": null,
            "grid_template_columns": null,
            "flex": null,
            "_model_name": "LayoutModel",
            "justify_items": null,
            "grid_row": null,
            "max_height": null,
            "align_content": null,
            "visibility": null,
            "align_self": null,
            "height": null,
            "min_height": null,
            "padding": null,
            "grid_auto_rows": null,
            "grid_gap": null,
            "max_width": null,
            "order": null,
            "_view_module_version": "1.2.0",
            "grid_template_areas": null,
            "object_position": null,
            "object_fit": null,
            "grid_auto_columns": null,
            "margin": null,
            "display": null,
            "left": null
          }
        },
        "451bcac8296d491cbee52f56f13cfbae": {
          "model_module": "@jupyter-widgets/controls",
          "model_name": "LabelModel",
          "state": {
            "_view_name": "LabelView",
            "style": "IPY_MODEL_75ca26933678452586a45c342d6026e5",
            "_dom_classes": [],
            "description": "",
            "_model_name": "LabelModel",
            "placeholder": "​",
            "_view_module": "@jupyter-widgets/controls",
            "_model_module_version": "1.5.0",
            "value": " 0.35MB of 0.35MB uploaded (0.00MB deduped)\r",
            "_view_count": null,
            "_view_module_version": "1.5.0",
            "description_tooltip": null,
            "_model_module": "@jupyter-widgets/controls",
            "layout": "IPY_MODEL_102a8d20e77e4cb3926a5a286d93370c"
          }
        },
        "4481d764d56547b2aeb7ded15370874d": {
          "model_module": "@jupyter-widgets/controls",
          "model_name": "FloatProgressModel",
          "state": {
            "_view_name": "ProgressView",
            "style": "IPY_MODEL_d9fc201f8b5a41079e71304b034a3109",
            "_dom_classes": [],
            "description": "",
            "_model_name": "FloatProgressModel",
            "bar_style": "",
            "max": 1,
            "_view_module": "@jupyter-widgets/controls",
            "_model_module_version": "1.5.0",
            "value": 1,
            "_view_count": null,
            "_view_module_version": "1.5.0",
            "orientation": "horizontal",
            "min": 0,
            "description_tooltip": null,
            "_model_module": "@jupyter-widgets/controls",
            "layout": "IPY_MODEL_3e99a7283df442c892420413de2052cf"
          }
        },
        "75ca26933678452586a45c342d6026e5": {
          "model_module": "@jupyter-widgets/controls",
          "model_name": "DescriptionStyleModel",
          "state": {
            "_view_name": "StyleView",
            "_model_name": "DescriptionStyleModel",
            "description_width": "",
            "_view_module": "@jupyter-widgets/base",
            "_model_module_version": "1.5.0",
            "_view_count": null,
            "_view_module_version": "1.2.0",
            "_model_module": "@jupyter-widgets/controls"
          }
        },
        "102a8d20e77e4cb3926a5a286d93370c": {
          "model_module": "@jupyter-widgets/base",
          "model_name": "LayoutModel",
          "state": {
            "_view_name": "LayoutView",
            "grid_template_rows": null,
            "right": null,
            "justify_content": null,
            "_view_module": "@jupyter-widgets/base",
            "overflow": null,
            "_model_module_version": "1.2.0",
            "_view_count": null,
            "flex_flow": null,
            "width": null,
            "min_width": null,
            "border": null,
            "align_items": null,
            "bottom": null,
            "_model_module": "@jupyter-widgets/base",
            "top": null,
            "grid_column": null,
            "overflow_y": null,
            "overflow_x": null,
            "grid_auto_flow": null,
            "grid_area": null,
            "grid_template_columns": null,
            "flex": null,
            "_model_name": "LayoutModel",
            "justify_items": null,
            "grid_row": null,
            "max_height": null,
            "align_content": null,
            "visibility": null,
            "align_self": null,
            "height": null,
            "min_height": null,
            "padding": null,
            "grid_auto_rows": null,
            "grid_gap": null,
            "max_width": null,
            "order": null,
            "_view_module_version": "1.2.0",
            "grid_template_areas": null,
            "object_position": null,
            "object_fit": null,
            "grid_auto_columns": null,
            "margin": null,
            "display": null,
            "left": null
          }
        },
        "d9fc201f8b5a41079e71304b034a3109": {
          "model_module": "@jupyter-widgets/controls",
          "model_name": "ProgressStyleModel",
          "state": {
            "_view_name": "StyleView",
            "_model_name": "ProgressStyleModel",
            "description_width": "",
            "_view_module": "@jupyter-widgets/base",
            "_model_module_version": "1.5.0",
            "_view_count": null,
            "_view_module_version": "1.2.0",
            "bar_color": null,
            "_model_module": "@jupyter-widgets/controls"
          }
        },
        "3e99a7283df442c892420413de2052cf": {
          "model_module": "@jupyter-widgets/base",
          "model_name": "LayoutModel",
          "state": {
            "_view_name": "LayoutView",
            "grid_template_rows": null,
            "right": null,
            "justify_content": null,
            "_view_module": "@jupyter-widgets/base",
            "overflow": null,
            "_model_module_version": "1.2.0",
            "_view_count": null,
            "flex_flow": null,
            "width": null,
            "min_width": null,
            "border": null,
            "align_items": null,
            "bottom": null,
            "_model_module": "@jupyter-widgets/base",
            "top": null,
            "grid_column": null,
            "overflow_y": null,
            "overflow_x": null,
            "grid_auto_flow": null,
            "grid_area": null,
            "grid_template_columns": null,
            "flex": null,
            "_model_name": "LayoutModel",
            "justify_items": null,
            "grid_row": null,
            "max_height": null,
            "align_content": null,
            "visibility": null,
            "align_self": null,
            "height": null,
            "min_height": null,
            "padding": null,
            "grid_auto_rows": null,
            "grid_gap": null,
            "max_width": null,
            "order": null,
            "_view_module_version": "1.2.0",
            "grid_template_areas": null,
            "object_position": null,
            "object_fit": null,
            "grid_auto_columns": null,
            "margin": null,
            "display": null,
            "left": null
          }
        },
        "cc9324c1231848bcaf93026f7b25b307": {
          "model_module": "@jupyter-widgets/controls",
          "model_name": "VBoxModel",
          "state": {
            "_view_name": "VBoxView",
            "_dom_classes": [],
            "_model_name": "VBoxModel",
            "_view_module": "@jupyter-widgets/controls",
            "_model_module_version": "1.5.0",
            "_view_count": null,
            "_view_module_version": "1.5.0",
            "box_style": "",
            "layout": "IPY_MODEL_a8cc3eba546f42da95cc09376c32b440",
            "_model_module": "@jupyter-widgets/controls",
            "children": [
              "IPY_MODEL_f6b77da2dd9e44ff9c763399b6c9e89b",
              "IPY_MODEL_65c3f925c874431ca93daa23c5565ae4"
            ]
          }
        },
        "a8cc3eba546f42da95cc09376c32b440": {
          "model_module": "@jupyter-widgets/base",
          "model_name": "LayoutModel",
          "state": {
            "_view_name": "LayoutView",
            "grid_template_rows": null,
            "right": null,
            "justify_content": null,
            "_view_module": "@jupyter-widgets/base",
            "overflow": null,
            "_model_module_version": "1.2.0",
            "_view_count": null,
            "flex_flow": null,
            "width": null,
            "min_width": null,
            "border": null,
            "align_items": null,
            "bottom": null,
            "_model_module": "@jupyter-widgets/base",
            "top": null,
            "grid_column": null,
            "overflow_y": null,
            "overflow_x": null,
            "grid_auto_flow": null,
            "grid_area": null,
            "grid_template_columns": null,
            "flex": null,
            "_model_name": "LayoutModel",
            "justify_items": null,
            "grid_row": null,
            "max_height": null,
            "align_content": null,
            "visibility": null,
            "align_self": null,
            "height": null,
            "min_height": null,
            "padding": null,
            "grid_auto_rows": null,
            "grid_gap": null,
            "max_width": null,
            "order": null,
            "_view_module_version": "1.2.0",
            "grid_template_areas": null,
            "object_position": null,
            "object_fit": null,
            "grid_auto_columns": null,
            "margin": null,
            "display": null,
            "left": null
          }
        },
        "f6b77da2dd9e44ff9c763399b6c9e89b": {
          "model_module": "@jupyter-widgets/controls",
          "model_name": "LabelModel",
          "state": {
            "_view_name": "LabelView",
            "style": "IPY_MODEL_197756e1b3eb4ac0af56b512bb419e26",
            "_dom_classes": [],
            "description": "",
            "_model_name": "LabelModel",
            "placeholder": "​",
            "_view_module": "@jupyter-widgets/controls",
            "_model_module_version": "1.5.0",
            "value": " 0.56MB of 0.56MB uploaded (0.00MB deduped)\r",
            "_view_count": null,
            "_view_module_version": "1.5.0",
            "description_tooltip": null,
            "_model_module": "@jupyter-widgets/controls",
            "layout": "IPY_MODEL_ae716f07df854c1297a78ddb520fa9b3"
          }
        },
        "65c3f925c874431ca93daa23c5565ae4": {
          "model_module": "@jupyter-widgets/controls",
          "model_name": "FloatProgressModel",
          "state": {
            "_view_name": "ProgressView",
            "style": "IPY_MODEL_7ff8d54db95f445986d75256d4af7032",
            "_dom_classes": [],
            "description": "",
            "_model_name": "FloatProgressModel",
            "bar_style": "",
            "max": 1,
            "_view_module": "@jupyter-widgets/controls",
            "_model_module_version": "1.5.0",
            "value": 1,
            "_view_count": null,
            "_view_module_version": "1.5.0",
            "orientation": "horizontal",
            "min": 0,
            "description_tooltip": null,
            "_model_module": "@jupyter-widgets/controls",
            "layout": "IPY_MODEL_d26d2c6fcd4b4a06936ee1d0ffeb337c"
          }
        },
        "197756e1b3eb4ac0af56b512bb419e26": {
          "model_module": "@jupyter-widgets/controls",
          "model_name": "DescriptionStyleModel",
          "state": {
            "_view_name": "StyleView",
            "_model_name": "DescriptionStyleModel",
            "description_width": "",
            "_view_module": "@jupyter-widgets/base",
            "_model_module_version": "1.5.0",
            "_view_count": null,
            "_view_module_version": "1.2.0",
            "_model_module": "@jupyter-widgets/controls"
          }
        },
        "ae716f07df854c1297a78ddb520fa9b3": {
          "model_module": "@jupyter-widgets/base",
          "model_name": "LayoutModel",
          "state": {
            "_view_name": "LayoutView",
            "grid_template_rows": null,
            "right": null,
            "justify_content": null,
            "_view_module": "@jupyter-widgets/base",
            "overflow": null,
            "_model_module_version": "1.2.0",
            "_view_count": null,
            "flex_flow": null,
            "width": null,
            "min_width": null,
            "border": null,
            "align_items": null,
            "bottom": null,
            "_model_module": "@jupyter-widgets/base",
            "top": null,
            "grid_column": null,
            "overflow_y": null,
            "overflow_x": null,
            "grid_auto_flow": null,
            "grid_area": null,
            "grid_template_columns": null,
            "flex": null,
            "_model_name": "LayoutModel",
            "justify_items": null,
            "grid_row": null,
            "max_height": null,
            "align_content": null,
            "visibility": null,
            "align_self": null,
            "height": null,
            "min_height": null,
            "padding": null,
            "grid_auto_rows": null,
            "grid_gap": null,
            "max_width": null,
            "order": null,
            "_view_module_version": "1.2.0",
            "grid_template_areas": null,
            "object_position": null,
            "object_fit": null,
            "grid_auto_columns": null,
            "margin": null,
            "display": null,
            "left": null
          }
        },
        "7ff8d54db95f445986d75256d4af7032": {
          "model_module": "@jupyter-widgets/controls",
          "model_name": "ProgressStyleModel",
          "state": {
            "_view_name": "StyleView",
            "_model_name": "ProgressStyleModel",
            "description_width": "",
            "_view_module": "@jupyter-widgets/base",
            "_model_module_version": "1.5.0",
            "_view_count": null,
            "_view_module_version": "1.2.0",
            "bar_color": null,
            "_model_module": "@jupyter-widgets/controls"
          }
        },
        "d26d2c6fcd4b4a06936ee1d0ffeb337c": {
          "model_module": "@jupyter-widgets/base",
          "model_name": "LayoutModel",
          "state": {
            "_view_name": "LayoutView",
            "grid_template_rows": null,
            "right": null,
            "justify_content": null,
            "_view_module": "@jupyter-widgets/base",
            "overflow": null,
            "_model_module_version": "1.2.0",
            "_view_count": null,
            "flex_flow": null,
            "width": null,
            "min_width": null,
            "border": null,
            "align_items": null,
            "bottom": null,
            "_model_module": "@jupyter-widgets/base",
            "top": null,
            "grid_column": null,
            "overflow_y": null,
            "overflow_x": null,
            "grid_auto_flow": null,
            "grid_area": null,
            "grid_template_columns": null,
            "flex": null,
            "_model_name": "LayoutModel",
            "justify_items": null,
            "grid_row": null,
            "max_height": null,
            "align_content": null,
            "visibility": null,
            "align_self": null,
            "height": null,
            "min_height": null,
            "padding": null,
            "grid_auto_rows": null,
            "grid_gap": null,
            "max_width": null,
            "order": null,
            "_view_module_version": "1.2.0",
            "grid_template_areas": null,
            "object_position": null,
            "object_fit": null,
            "grid_auto_columns": null,
            "margin": null,
            "display": null,
            "left": null
          }
        }
      }
    }
  },
  "cells": [
    {
      "cell_type": "code",
      "metadata": {
        "id": "V3Di3vQ67MoB"
      },
      "source": [
        "src_url = \"https://storage.googleapis.com/gresearch/dakshina/dakshina_dataset_v1.0.tar\"\n",
        "src_zip = \"dakshina_dataset_v1.0.tar\"\n",
        "DATA_SRC=\"dakshina_dataset_v1.0/ta/lexicons\"\n",
        "DATA_TRAIN_SRC = \"/ta.translit.sampled.train.tsv\"\n",
        "DATA_VAL_SRC = \"/ta.translit.sampled.dev.tsv\" \n",
        "DATA_TEST_SRC = \"/ta.translit.sampled.test.tsv\"\n",
        "#TRAIN_IMAGES_PER_LABEL = 1000\n",
        "#TEST_IMAGES_PER_LABEL = 200\n",
        "BALANCED_SPLITS = {\"train\" : 900, \"val\" : 100}\n",
        "PROJECT_NAME = \"CS6910 ASSIGNMENT 3\"\n",
        "dataset='dakshina-dataset'"
      ],
      "execution_count": null,
      "outputs": []
    },
    {
      "cell_type": "code",
      "metadata": {
        "id": "-65YGCSb7hED"
      },
      "source": [
        "%%capture\n",
        "!curl -SL $src_url > $src_zip\n",
        "!tar -xf $src_zip"
      ],
      "execution_count": null,
      "outputs": []
    },
    {
      "cell_type": "code",
      "metadata": {
        "id": "8_jZdhj-LApj",
        "colab": {
          "base_uri": "https://localhost:8080/"
        },
        "outputId": "ac383c96-8404-45b0-f941-09f7d7431acf"
      },
      "source": [
        "import tensorflow as tf\n",
        "from tensorflow.keras.preprocessing.image import ImageDataGenerator\n",
        "import os\n",
        "import numpy as np\n",
        "import matplotlib.pyplot as plt\n",
        "from random import shuffle\n",
        "import pandas as pd\n",
        "import keras\n",
        "from keras.layers import Input, LSTM, Dense, Embedding, GRU, SimpleRNN, Dropout, Activation, dot, concatenate, TimeDistributed\n",
        "from keras.models import Model\n",
        "\n",
        "!pip3 install tensorflow -qqq\n",
        "!pip3 install wandb -qqq\n",
        "import wandb\n",
        "!wandb login\n",
        "from wandb.keras import WandbCallback"
      ],
      "execution_count": null,
      "outputs": [
        {
          "output_type": "stream",
          "text": [
            "\u001b[K     |████████████████████████████████| 1.8MB 7.4MB/s \n",
            "\u001b[K     |████████████████████████████████| 102kB 13.0MB/s \n",
            "\u001b[K     |████████████████████████████████| 133kB 36.7MB/s \n",
            "\u001b[K     |████████████████████████████████| 174kB 28.3MB/s \n",
            "\u001b[K     |████████████████████████████████| 71kB 11.8MB/s \n",
            "\u001b[?25h  Building wheel for subprocess32 (setup.py) ... \u001b[?25l\u001b[?25hdone\n",
            "  Building wheel for pathtools (setup.py) ... \u001b[?25l\u001b[?25hdone\n",
            "\u001b[34m\u001b[1mwandb\u001b[0m: You can find your API key in your browser here: https://wandb.ai/authorize\n",
            "\u001b[34m\u001b[1mwandb\u001b[0m: Paste an API key from your profile and hit enter: \n",
            "\u001b[34m\u001b[1mwandb\u001b[0m: Appending key for api.wandb.ai to your netrc file: /root/.netrc\n"
          ],
          "name": "stdout"
        }
      ]
    },
    {
      "cell_type": "code",
      "metadata": {
        "id": "wj4Bc_-Ynxgj"
      },
      "source": [
        "import matplotlib.font_manager as fm\n",
        "\n",
        "!wget https://github.com/arul20be/Latha-Tamil-Font/blob/master/system/fonts/NotoSansTamil-Regular.ttf\n",
        "fm.fontManager.ttflist += fm.createFontList(['NotoSansTamil-Regular.ttf'])\n",
        "plt.rc('font', family='NotoSansTamil-Regular-Regular')\n",
        "!mv NotoSansTamil-Regular.ttf /usr/share/fonts/truetype/liberation/"
      ],
      "execution_count": null,
      "outputs": []
    },
    {
      "cell_type": "code",
      "metadata": {
        "id": "Ro8q3Xrgm_hi"
      },
      "source": [
        "!fc-list :lang=en"
      ],
      "execution_count": null,
      "outputs": []
    },
    {
      "cell_type": "markdown",
      "metadata": {
        "id": "16PPx0aIOG2q"
      },
      "source": [
        "Uploading Data: only run once"
      ]
    },
    {
      "cell_type": "code",
      "metadata": {
        "id": "-S3nODWoCSmF"
      },
      "source": [
        "\n",
        "run = wandb.init(project=PROJECT_NAME, entity='cs6910krsrd',job_type=\"upload\")\n",
        "\n",
        "# create an artifact for all the raw data\n",
        "raw_data_at = wandb.Artifact(dataset, type=\"raw_data\")\n",
        "\n",
        "raw_data_at.add_dir(DATA_SRC)\n",
        "\n",
        "# save artifact to W&B\n",
        "run.log_artifact(raw_data_at)\n",
        "run.finish()"
      ],
      "execution_count": null,
      "outputs": []
    },
    {
      "cell_type": "markdown",
      "metadata": {
        "id": "qMs_ZhWLOMbL"
      },
      "source": [
        "Downloading Data"
      ]
    },
    {
      "cell_type": "code",
      "metadata": {
        "id": "rMEcA_xBLk8o",
        "colab": {
          "base_uri": "https://localhost:8080/",
          "height": 274,
          "referenced_widgets": [
            "d5f87b1f100d4455a02073fb428e389d",
            "701ea56c09d54289889dd3ad4475ba12",
            "31d620a6c285403e92ef6cc601cf9b8a",
            "052fad2d05804eb58754b081d03c03b9",
            "fbf6e30daceb4787a583f93c43257159",
            "0107e4ccb26f4812b6af4519fcf37131",
            "865b11f7b34243248798e2cb33ed3856",
            "2641c7287de44f7187d7efeb08349780"
          ]
        },
        "outputId": "bc743d11-7b4e-4eea-acc0-2ae0eb2bfe33"
      },
      "source": [
        "run = wandb.init(project=PROJECT_NAME, entity='cs6910krsrd',job_type=\"download\")\n",
        "\n",
        "# Query W&B for an artifact and mark it as input to this run\n",
        "artifact = run.use_artifact(dataset+':latest')\n",
        "\n",
        "# Download the artifact's contents\n",
        "artifact_dir = artifact.download()\n",
        "run.finish()"
      ],
      "execution_count": null,
      "outputs": [
        {
          "output_type": "stream",
          "text": [
            "\u001b[34m\u001b[1mwandb\u001b[0m: Currently logged in as: \u001b[33mcs6910krsrd\u001b[0m (use `wandb login --relogin` to force relogin)\n"
          ],
          "name": "stderr"
        },
        {
          "output_type": "display_data",
          "data": {
            "text/html": [
              "\n",
              "                Tracking run with wandb version 0.10.30<br/>\n",
              "                Syncing run <strong style=\"color:#cdcd00\">wild-galaxy-106</strong> to <a href=\"https://wandb.ai\" target=\"_blank\">Weights & Biases</a> <a href=\"https://docs.wandb.com/integrations/jupyter.html\" target=\"_blank\">(Documentation)</a>.<br/>\n",
              "                Project page: <a href=\"https://wandb.ai/cs6910krsrd/CS6910%20ASSIGNMENT%203\" target=\"_blank\">https://wandb.ai/cs6910krsrd/CS6910%20ASSIGNMENT%203</a><br/>\n",
              "                Run page: <a href=\"https://wandb.ai/cs6910krsrd/CS6910%20ASSIGNMENT%203/runs/1uov3w4r\" target=\"_blank\">https://wandb.ai/cs6910krsrd/CS6910%20ASSIGNMENT%203/runs/1uov3w4r</a><br/>\n",
              "                Run data is saved locally in <code>/content/wandb/run-20210520_040801-1uov3w4r</code><br/><br/>\n",
              "            "
            ],
            "text/plain": [
              "<IPython.core.display.HTML object>"
            ]
          },
          "metadata": {
            "tags": []
          }
        },
        {
          "output_type": "display_data",
          "data": {
            "text/html": [
              "<br/>Waiting for W&B process to finish, PID 144<br/>Program ended successfully."
            ],
            "text/plain": [
              "<IPython.core.display.HTML object>"
            ]
          },
          "metadata": {
            "tags": []
          }
        },
        {
          "output_type": "display_data",
          "data": {
            "application/vnd.jupyter.widget-view+json": {
              "model_id": "d5f87b1f100d4455a02073fb428e389d",
              "version_minor": 0,
              "version_major": 2
            },
            "text/plain": [
              "VBox(children=(Label(value=' 0.05MB of 0.05MB uploaded (0.00MB deduped)\\r'), FloatProgress(value=1.0, max=1.0)…"
            ]
          },
          "metadata": {
            "tags": []
          }
        },
        {
          "output_type": "display_data",
          "data": {
            "text/html": [
              "Find user logs for this run at: <code>/content/wandb/run-20210520_040801-1uov3w4r/logs/debug.log</code>"
            ],
            "text/plain": [
              "<IPython.core.display.HTML object>"
            ]
          },
          "metadata": {
            "tags": []
          }
        },
        {
          "output_type": "display_data",
          "data": {
            "text/html": [
              "Find internal logs for this run at: <code>/content/wandb/run-20210520_040801-1uov3w4r/logs/debug-internal.log</code>"
            ],
            "text/plain": [
              "<IPython.core.display.HTML object>"
            ]
          },
          "metadata": {
            "tags": []
          }
        },
        {
          "output_type": "display_data",
          "data": {
            "text/html": [
              "Synced 4 W&B file(s), 0 media file(s), 2 artifact file(s) and 1 other file(s)"
            ],
            "text/plain": [
              "<IPython.core.display.HTML object>"
            ]
          },
          "metadata": {
            "tags": []
          }
        },
        {
          "output_type": "display_data",
          "data": {
            "text/html": [
              "\n",
              "                    <br/>Synced <strong style=\"color:#cdcd00\">wild-galaxy-106</strong>: <a href=\"https://wandb.ai/cs6910krsrd/CS6910%20ASSIGNMENT%203/runs/1uov3w4r\" target=\"_blank\">https://wandb.ai/cs6910krsrd/CS6910%20ASSIGNMENT%203/runs/1uov3w4r</a><br/>\n",
              "                "
            ],
            "text/plain": [
              "<IPython.core.display.HTML object>"
            ]
          },
          "metadata": {
            "tags": []
          }
        }
      ]
    },
    {
      "cell_type": "code",
      "metadata": {
        "id": "zQqVkbGjtI9e",
        "colab": {
          "base_uri": "https://localhost:8080/"
        },
        "outputId": "a03ba0e9-d85c-43f7-b231-ba276b4f3952"
      },
      "source": [
        "colnames=[\"ntv\",\"rmn\",'nAtt'] #native, romanized and number of attestations\n",
        "df_train = pd.read_csv(artifact_dir + DATA_TRAIN_SRC,sep=\"\\t\",names=colnames,na_filter=False)\n",
        "df_val = pd.read_csv(artifact_dir + DATA_VAL_SRC,sep=\"\\t\",names=colnames,na_filter=False)\n",
        "MODEL_NAME = \"Seq2Seq\"\n",
        "FINAL_MODEL_DIR = \"trained_model\"\n",
        "ENCODER=\"encoder\"\n",
        "DECODER=\"decoder\"\n",
        "\n",
        "\n",
        "batch_size = 64  # Batch size for training.\n",
        "epochs = 20  # Number of epochs to train for.\n",
        "latent_dim = 256  # Latent dimensionality of the encoding and decoding space (LSTM/GRU/RNN)\n",
        "num_samples = 10000  # Number of samples to train on.\n",
        "embed_dim=16  #embedding size\n",
        "n_encoder=2 #number of encoder layers \n",
        "n_decoder=2 #number of decoder layers\n",
        "cell_type=\"LSTM\"#\"GRU\" \"RNN\" # Cell type of encoder and decoder\n",
        "do=0.2 #dropout\n",
        "beam_size=3\n",
        "\n",
        "input_texts = df_train.rmn.to_list()    # input words(romanized)\n",
        "target_texts = df_train.ntv.apply(lambda s:'\\t'+s+'\\n').to_list() # target words(native)\n",
        "input_characters = set(df_train.rmn.sum()) # input vocabulary (all english letters)\n",
        "target_characters = set(df_train.ntv.sum()) # target vocabulary (all tamil letters)\n",
        "val_input_texts = df_val.rmn.to_list()    # input words(romanized)\n",
        "val_target_texts = df_val.ntv.apply(lambda s: s).to_list() # target words(native)\n",
        "valid_target_texts = df_val.ntv.apply(lambda s:'\\t'+s+'\\n').to_list() # target words(native)\n",
        "\n",
        "\n",
        "input_characters = sorted(list(input_characters)) \n",
        "input_characters.append(' ')\n",
        "target_characters = sorted(list(target_characters))\n",
        "target_characters.append(' ')\n",
        "target_characters.append('\\t')\n",
        "target_characters.append('\\n')\n",
        "\n",
        "\n",
        "\n",
        "num_encoder_tokens = len(input_characters)   # size of input vocabulary\n",
        "num_decoder_tokens = len(target_characters)   # ize of target vocabulary\n",
        "max_encoder_seq_length = max([len(txt) for txt in input_texts])  # max input word size\n",
        "max_decoder_seq_length = max([len(txt) for txt in target_texts]) # max output word size\n",
        "\n",
        "print(\"Number of samples:\", len(input_texts))\n",
        "print(\"Number of unique input tokens:\", num_encoder_tokens)\n",
        "print(\"Number of unique output tokens:\", num_decoder_tokens)\n",
        "print(\"Max sequence length for inputs:\", max_encoder_seq_length)\n",
        "print(\"Max sequence length for outputs:\", max_decoder_seq_length)\n",
        " \n",
        "input_token_index = dict([(char, i) for i, char in enumerate(input_characters)]) #dict mapping input letters to integers\n",
        "target_token_index = dict([(char, i) for i, char in enumerate(target_characters)]) #dict mapping output letters to integers\n",
        "\n",
        "encoder_input_data = np.zeros(                                              \n",
        "    (len(input_texts), max_encoder_seq_length), dtype=\"float32\"\n",
        ")\n",
        "\n",
        "val_encoder_input_data = np.zeros(                                              \n",
        "    (len(val_input_texts), max_encoder_seq_length), dtype=\"float32\"\n",
        ")\n",
        "\n",
        "decoder_input_data = np.zeros(\n",
        "    (len(input_texts), max_decoder_seq_length), dtype=\"float32\"\n",
        ")\n",
        "decoder_target_data = np.zeros(\n",
        "    (len(input_texts), max_decoder_seq_length,len(target_token_index)), dtype=\"float32\"\n",
        ")\n",
        "\n",
        "val_decoder_input_data = np.zeros(\n",
        "    (len(val_input_texts), max_decoder_seq_length), dtype=\"float32\"\n",
        ")\n",
        "val_decoder_target_data = np.zeros(\n",
        "    (len(val_input_texts), max_decoder_seq_length,len(target_token_index)), dtype=\"float32\"\n",
        ")\n",
        "\n",
        "CELL={\"LSTM\":LSTM,\"GRU\":GRU,\"RNN\":SimpleRNN}\n",
        "\n",
        "reverse_input_char_index = dict((i, char) for char, i in input_token_index.items())\n",
        "reverse_target_char_index = dict((i, char) for char, i in target_token_index.items())"
      ],
      "execution_count": null,
      "outputs": [
        {
          "output_type": "stream",
          "text": [
            "Number of samples: 68218\n",
            "Number of unique input tokens: 27\n",
            "Number of unique output tokens: 49\n",
            "Max sequence length for inputs: 30\n",
            "Max sequence length for outputs: 28\n"
          ],
          "name": "stdout"
        }
      ]
    },
    {
      "cell_type": "code",
      "metadata": {
        "id": "WUWaPdROWtQ5"
      },
      "source": [
        "for i, (input_text, target_text) in enumerate(zip(input_texts, target_texts)):\n",
        "    for t, char in enumerate(input_text):\n",
        "        encoder_input_data[i, t] = input_token_index[char]\n",
        "    encoder_input_data[i, t + 1 :] = input_token_index[\" \"]\n",
        "    for t, char in enumerate(target_text):\n",
        "        # decoder_target_data is ahead of decoder_input_data by one timestep\n",
        "        decoder_input_data[i, t] =  target_token_index[char]\n",
        "        if t > 0:\n",
        "            # decoder_target_data will be ahead by one timestep\n",
        "            # and will not include the start character.\n",
        "            decoder_target_data[i, t - 1,target_token_index[char]] = 1.0\n",
        "    decoder_input_data[i, t + 1 :] = target_token_index[\" \"]\n",
        "    decoder_target_data[i, t:,target_token_index[\" \"]] =  1.0\n",
        "\n",
        "for i, (input_text, target_text) in enumerate(zip(val_input_texts, valid_target_texts)):\n",
        "    for t, char in enumerate(input_text):\n",
        "        val_encoder_input_data[i, t] = input_token_index[char]\n",
        "    val_encoder_input_data[i, t + 1 :] = input_token_index[\" \"]\n",
        "    for t, char in enumerate(target_text):\n",
        "        # decoder_target_data is ahead of decoder_input_data by one timestep\n",
        "        val_decoder_input_data[i, t] =  target_token_index[char]\n",
        "        if t > 0:\n",
        "            # decoder_target_data will be ahead by one timestep\n",
        "            # and will not include the start character.\n",
        "            val_decoder_target_data[i, t - 1,target_token_index[char]] = 1.0\n",
        "    val_decoder_input_data[i, t + 1 :] = target_token_index[\" \"]\n",
        "    val_decoder_target_data[i, t:,target_token_index[\" \"]] =  1.0"
      ],
      "execution_count": null,
      "outputs": []
    },
    {
      "cell_type": "code",
      "metadata": {
        "id": "tHglmufMXGjy"
      },
      "source": [
        "def train():\n",
        "\n",
        "  hyperparameter_defaults={\n",
        "    \"epochs\" : 10,\n",
        "    \"num_samples\" : 10000,\n",
        "    \"embed_dim\" : 64,\n",
        "    \"n_encoder\" : 3,\n",
        "    \"n_decoder\" : 3,\n",
        "    \"drop_out\" : 0.2,\n",
        "    'latent_dim':128,\n",
        "    'beam_size':0,\n",
        "    'batch_size':64,\n",
        "    'cell_type':\"LSTM\"\n",
        "    }\n",
        "\n",
        "  run = wandb.init(project=PROJECT_NAME, config=hyperparameter_defaults, entity='cs6910krsrd',job_type=\"train\")\n",
        "\n",
        "\n",
        "  cfg = wandb.config\n",
        "  batch_size = cfg.batch_size  # Batch size for training.\n",
        "  epochs = cfg.epochs  # Number of epochs to train for.\n",
        "  latent_dim = cfg.latent_dim  # Latent dimensionality of the encoding and decoding space (LSTM/GRU/RNN)\n",
        "  num_samples = cfg.num_samples  # Number of samples to train on.\n",
        "  embed_dim=cfg.embed_dim#embedding size\n",
        "  n_encoder=cfg.n_encoder #number of encoder layers \n",
        "  n_decoder=cfg.n_decoder #number of decoder layers\n",
        "  cell_type=cfg.cell_type#\"GRU\" \"RNN\" # Cell type of encoder and decoder\n",
        "  do=cfg.drop_out #dropout\n",
        "  beam_size=cfg.beam_size\n",
        "  # Define an input sequence and process it.\n",
        "  encoder_inputs=Input(shape=(None,))\n",
        "  x = Embedding(num_encoder_tokens, embed_dim)(encoder_inputs)\n",
        "  encoder_states = []\n",
        "  print(CELL)\n",
        "  for j in range(n_encoder)[:-1]:\n",
        "    x = (CELL[cell_type](latent_dim,dropout=do,return_state=True,return_sequences=True)(x)) [0]\n",
        "  temp = CELL[cell_type](latent_dim,dropout=do,return_state=True,return_sequences=True)(x)\n",
        "  x=temp[0]\n",
        "  encoder_states = temp[1:]\n",
        "\n",
        "  # Set up the decoder, using `encoder_states` as initial state.\n",
        "  decoder_inputs = Input(shape=(None,))\n",
        "  out_embed=Embedding(num_decoder_tokens, embed_dim)\n",
        "  embedded_word=out_embed(decoder_inputs)\n",
        "  x=embedded_word\n",
        "  output_layers = []\n",
        "  for j in range(n_decoder):\n",
        "    output_layers.append(\n",
        "        CELL[cell_type](latent_dim,dropout=do, return_sequences=True,return_state=True)\n",
        "    )\n",
        "    temp = output_layers[-1](x, initial_state=encoder_states)\n",
        "\n",
        "    x= temp[0]\n",
        "    decoder_states=temp[1:]\n",
        "\n",
        "\n",
        "\n",
        "  dropout = Dropout(rate=do)\n",
        "  x = dropout(x)\n",
        "  decoder_dense = Dense(num_decoder_tokens, activation='softmax')\n",
        "  decoder_outputs = decoder_dense(x)\n",
        "\n",
        "  # Define the model that will turn\n",
        "  # `encoder_input_data` & `decoder_input_data` into `decoder_target_data`\n",
        "  model = Model([encoder_inputs, decoder_inputs], decoder_outputs)\n",
        "\n",
        "  print(beam_size)\n",
        "  model.compile(\n",
        "      optimizer=\"rmsprop\", loss=\"categorical_crossentropy\", metrics=[\"accuracy\"]\n",
        "  )\n",
        "\n",
        "  if beam_size !=0:\n",
        "    model.fit(\n",
        "        [encoder_input_data, decoder_input_data],\n",
        "        decoder_target_data,\n",
        "        batch_size=batch_size,\n",
        "        epochs=epochs,\n",
        "        validation_data=([val_encoder_input_data, val_decoder_input_data],val_decoder_target_data),\n",
        "        callbacks=[WandbCallback()]\n",
        "    )\n",
        "    \n",
        "  else:\n",
        "    model.fit(\n",
        "        [encoder_input_data, decoder_input_data],\n",
        "        decoder_target_data,\n",
        "        batch_size=batch_size,\n",
        "        epochs=epochs,\n",
        "        validation_data=([val_encoder_input_data, val_decoder_input_data],val_decoder_target_data),\n",
        "        callbacks=[WandbCallback()]\n",
        "    )\n",
        "\n",
        "  # Save model\n",
        "  trained_model_artifact = wandb.Artifact(\n",
        "            MODEL_NAME+\"trn\", type=\"model\",\n",
        "            description=\"trained model\",\n",
        "            metadata=dict(cfg))\n",
        "  \n",
        "  encoder_artifact = wandb.Artifact(\n",
        "            MODEL_NAME+\"enc\", type=\"model\",\n",
        "            description=\"encoder\",\n",
        "            metadata=dict(cfg))\n",
        "  \n",
        "  decoder_artifact = wandb.Artifact(\n",
        "            MODEL_NAME+\"dec\", type=\"model\",\n",
        "            description=\"decoder\",\n",
        "            metadata=dict(cfg))\n",
        "  \n",
        "  encoder_model = Model(encoder_inputs, encoder_states)\n",
        "\n",
        "  decoder_states_inputs = []\n",
        "  decoder_states = []\n",
        "  d_outputs=embedded_word\n",
        "  for j in range(n_decoder)[::-1]:\n",
        "    current_state_inputs = [Input(shape=(latent_dim,)) for _ in range(2)]\n",
        "\n",
        "    temp = output_layers[n_decoder-j-1](d_outputs, initial_state=current_state_inputs)\n",
        "\n",
        "    d_outputs, cur_states = temp[0], temp[1:]\n",
        "    decoder_states += cur_states\n",
        "    decoder_states_inputs += current_state_inputs\n",
        "\n",
        "  decoder_outputs = decoder_dense(d_outputs)\n",
        "  decoder_model = Model(\n",
        "      [decoder_inputs] + decoder_states_inputs,\n",
        "      [decoder_outputs] + decoder_states)\n",
        "\n",
        "  # Reverse-lookup token index to decode sequences back to\n",
        "  # something readable.\n",
        "  reverse_input_char_index = dict((i, char) for char, i in input_token_index.items())\n",
        "  reverse_target_char_index = dict((i, char) for char, i in target_token_index.items())\n",
        "\n",
        "\n",
        "  model.save(FINAL_MODEL_DIR)\n",
        "  encoder_model.save(ENCODER)\n",
        "  decoder_model.save(DECODER)\n",
        "\n",
        "  trained_model_artifact.add_dir(FINAL_MODEL_DIR)\n",
        "  encoder_artifact.add_dir(ENCODER)\n",
        "  decoder_artifact.add_dir(DECODER)\n",
        "\n",
        "\n",
        "  run.log_artifact(trained_model_artifact)\n",
        "  run.log_artifact(encoder_artifact)\n",
        "  run.log_artifact(decoder_artifact)\n",
        "  run.finish()\n",
        "  \n",
        "  model.save(\"s2s_tamil\")"
      ],
      "execution_count": null,
      "outputs": []
    },
    {
      "cell_type": "code",
      "metadata": {
        "id": "v-NZkNHrKLSi",
        "colab": {
          "base_uri": "https://localhost:8080/",
          "height": 1000,
          "referenced_widgets": [
            "1544ca40f75742f785a9554f7ee465f3",
            "d33203ffe3d24ae3ad1325add197a17b",
            "89860920e8e94c4a9893e20582a85c84",
            "d86baf07162c42f8bbe432beae16b036",
            "5ae6cb6963534fb5b3a560eca926b21f",
            "e577aeb2c3b54bcba7bfa7a014384a23",
            "53ea326d03c24717b02a29641426b438",
            "1ac852393da04d5bb6fae1d94d0d275b"
          ]
        },
        "outputId": "34341972-9950-4c5b-d8b6-70bd7725b003"
      },
      "source": [
        "config_defaults = {\n",
        "    \"epochs\" : 5,\n",
        "    \"num_samples\" : 10000,\n",
        "    \"embed_dim\" : 16,\n",
        "    \"n_encoder\" : 2,\n",
        "    \"n_decoder\" : 2,\n",
        "    \"drop_out\" : 0.2,\n",
        "    'latent_dim':64,\n",
        "    'beam_size':3,\n",
        "    'batch_size':64,\n",
        "    'cell_type':\"LSTM\"\n",
        "    }\n",
        "\n",
        "train()"
      ],
      "execution_count": null,
      "outputs": [
        {
          "output_type": "display_data",
          "data": {
            "text/html": [
              "\n",
              "                Tracking run with wandb version 0.10.30<br/>\n",
              "                Syncing run <strong style=\"color:#cdcd00\">dry-plasma-119</strong> to <a href=\"https://wandb.ai\" target=\"_blank\">Weights & Biases</a> <a href=\"https://docs.wandb.com/integrations/jupyter.html\" target=\"_blank\">(Documentation)</a>.<br/>\n",
              "                Project page: <a href=\"https://wandb.ai/cs6910krsrd/CS6910%20ASSIGNMENT%203\" target=\"_blank\">https://wandb.ai/cs6910krsrd/CS6910%20ASSIGNMENT%203</a><br/>\n",
              "                Run page: <a href=\"https://wandb.ai/cs6910krsrd/CS6910%20ASSIGNMENT%203/runs/2rab8gnb\" target=\"_blank\">https://wandb.ai/cs6910krsrd/CS6910%20ASSIGNMENT%203/runs/2rab8gnb</a><br/>\n",
              "                Run data is saved locally in <code>/content/wandb/run-20210520_044800-2rab8gnb</code><br/><br/>\n",
              "            "
            ],
            "text/plain": [
              "<IPython.core.display.HTML object>"
            ]
          },
          "metadata": {
            "tags": []
          }
        },
        {
          "output_type": "stream",
          "text": [
            "{'LSTM': <class 'tensorflow.python.keras.layers.recurrent_v2.LSTM'>, 'GRU': <class 'tensorflow.python.keras.layers.recurrent_v2.GRU'>, 'RNN': <class 'tensorflow.python.keras.layers.recurrent.SimpleRNN'>}\n",
            "0\n",
            "Epoch 1/10\n",
            "1066/1066 [==============================] - 35s 26ms/step - loss: 1.0344 - accuracy: 0.7241 - val_loss: 0.6276 - val_accuracy: 0.8189\n",
            "Epoch 2/10\n",
            "1066/1066 [==============================] - 25s 23ms/step - loss: 0.6304 - accuracy: 0.8160 - val_loss: 0.4926 - val_accuracy: 0.8548\n",
            "Epoch 3/10\n",
            "1066/1066 [==============================] - 25s 24ms/step - loss: 0.5070 - accuracy: 0.8498 - val_loss: 0.3841 - val_accuracy: 0.8874\n",
            "Epoch 4/10\n",
            "1066/1066 [==============================] - 25s 23ms/step - loss: 0.3921 - accuracy: 0.8842 - val_loss: 0.2755 - val_accuracy: 0.9204\n",
            "Epoch 5/10\n",
            "1066/1066 [==============================] - 25s 23ms/step - loss: 0.2879 - accuracy: 0.9161 - val_loss: 0.2086 - val_accuracy: 0.9425\n",
            "Epoch 6/10\n",
            "1066/1066 [==============================] - 25s 23ms/step - loss: 0.2199 - accuracy: 0.9367 - val_loss: 0.1698 - val_accuracy: 0.9529\n",
            "Epoch 7/10\n",
            "1066/1066 [==============================] - 25s 23ms/step - loss: 0.1761 - accuracy: 0.9500 - val_loss: 0.1521 - val_accuracy: 0.9583\n",
            "Epoch 8/10\n",
            "1066/1066 [==============================] - 25s 23ms/step - loss: 0.1490 - accuracy: 0.9579 - val_loss: 0.1386 - val_accuracy: 0.9620\n",
            "Epoch 9/10\n",
            "1066/1066 [==============================] - 25s 23ms/step - loss: 0.1287 - accuracy: 0.9638 - val_loss: 0.1286 - val_accuracy: 0.9655\n",
            "Epoch 10/10\n",
            "1066/1066 [==============================] - 25s 23ms/step - loss: 0.1139 - accuracy: 0.9678 - val_loss: 0.1240 - val_accuracy: 0.9670\n"
          ],
          "name": "stdout"
        },
        {
          "output_type": "stream",
          "text": [
            "WARNING:absl:Found untraced functions such as lstm_cell_40_layer_call_and_return_conditional_losses, lstm_cell_40_layer_call_fn, lstm_cell_41_layer_call_and_return_conditional_losses, lstm_cell_41_layer_call_fn, lstm_cell_42_layer_call_and_return_conditional_losses while saving (showing 5 of 30). These functions will not be directly callable after loading.\n",
            "WARNING:absl:Found untraced functions such as lstm_cell_40_layer_call_and_return_conditional_losses, lstm_cell_40_layer_call_fn, lstm_cell_41_layer_call_and_return_conditional_losses, lstm_cell_41_layer_call_fn, lstm_cell_42_layer_call_and_return_conditional_losses while saving (showing 5 of 30). These functions will not be directly callable after loading.\n"
          ],
          "name": "stderr"
        },
        {
          "output_type": "stream",
          "text": [
            "INFO:tensorflow:Assets written to: trained_model/assets\n"
          ],
          "name": "stdout"
        },
        {
          "output_type": "stream",
          "text": [
            "INFO:tensorflow:Assets written to: trained_model/assets\n",
            "WARNING:absl:Found untraced functions such as lstm_cell_40_layer_call_and_return_conditional_losses, lstm_cell_40_layer_call_fn, lstm_cell_41_layer_call_and_return_conditional_losses, lstm_cell_41_layer_call_fn, lstm_cell_42_layer_call_and_return_conditional_losses while saving (showing 5 of 15). These functions will not be directly callable after loading.\n",
            "WARNING:absl:Found untraced functions such as lstm_cell_40_layer_call_and_return_conditional_losses, lstm_cell_40_layer_call_fn, lstm_cell_41_layer_call_and_return_conditional_losses, lstm_cell_41_layer_call_fn, lstm_cell_42_layer_call_and_return_conditional_losses while saving (showing 5 of 15). These functions will not be directly callable after loading.\n"
          ],
          "name": "stderr"
        },
        {
          "output_type": "stream",
          "text": [
            "INFO:tensorflow:Assets written to: encoder/assets\n"
          ],
          "name": "stdout"
        },
        {
          "output_type": "stream",
          "text": [
            "INFO:tensorflow:Assets written to: encoder/assets\n",
            "WARNING:absl:Found untraced functions such as lstm_cell_43_layer_call_and_return_conditional_losses, lstm_cell_43_layer_call_fn, lstm_cell_44_layer_call_and_return_conditional_losses, lstm_cell_44_layer_call_fn, lstm_cell_45_layer_call_and_return_conditional_losses while saving (showing 5 of 15). These functions will not be directly callable after loading.\n",
            "WARNING:absl:Found untraced functions such as lstm_cell_43_layer_call_and_return_conditional_losses, lstm_cell_43_layer_call_fn, lstm_cell_44_layer_call_and_return_conditional_losses, lstm_cell_44_layer_call_fn, lstm_cell_45_layer_call_and_return_conditional_losses while saving (showing 5 of 15). These functions will not be directly callable after loading.\n"
          ],
          "name": "stderr"
        },
        {
          "output_type": "stream",
          "text": [
            "INFO:tensorflow:Assets written to: decoder/assets\n"
          ],
          "name": "stdout"
        },
        {
          "output_type": "stream",
          "text": [
            "INFO:tensorflow:Assets written to: decoder/assets\n",
            "\u001b[34m\u001b[1mwandb\u001b[0m: Adding directory to artifact (./trained_model)... Done. 0.3s\n",
            "\u001b[34m\u001b[1mwandb\u001b[0m: Adding directory to artifact (./encoder)... Done. 0.1s\n",
            "\u001b[34m\u001b[1mwandb\u001b[0m: Adding directory to artifact (./decoder)... Done. 0.2s\n"
          ],
          "name": "stderr"
        },
        {
          "output_type": "display_data",
          "data": {
            "text/html": [
              "<br/>Waiting for W&B process to finish, PID 1156<br/>Program ended successfully."
            ],
            "text/plain": [
              "<IPython.core.display.HTML object>"
            ]
          },
          "metadata": {
            "tags": []
          }
        },
        {
          "output_type": "display_data",
          "data": {
            "application/vnd.jupyter.widget-view+json": {
              "model_id": "1544ca40f75742f785a9554f7ee465f3",
              "version_minor": 0,
              "version_major": 2
            },
            "text/plain": [
              "VBox(children=(Label(value=' 24.03MB of 24.03MB uploaded (0.00MB deduped)\\r'), FloatProgress(value=1.0, max=1.…"
            ]
          },
          "metadata": {
            "tags": []
          }
        },
        {
          "output_type": "display_data",
          "data": {
            "text/html": [
              "Find user logs for this run at: <code>/content/wandb/run-20210520_044800-2rab8gnb/logs/debug.log</code>"
            ],
            "text/plain": [
              "<IPython.core.display.HTML object>"
            ]
          },
          "metadata": {
            "tags": []
          }
        },
        {
          "output_type": "display_data",
          "data": {
            "text/html": [
              "Find internal logs for this run at: <code>/content/wandb/run-20210520_044800-2rab8gnb/logs/debug-internal.log</code>"
            ],
            "text/plain": [
              "<IPython.core.display.HTML object>"
            ]
          },
          "metadata": {
            "tags": []
          }
        },
        {
          "output_type": "display_data",
          "data": {
            "text/html": [
              "<h3>Run summary:</h3><br/><style>\n",
              "    table.wandb td:nth-child(1) { padding: 0 10px; text-align: right }\n",
              "    </style><table class=\"wandb\">\n",
              "<tr><td>epoch</td><td>9</td></tr><tr><td>loss</td><td>0.11231</td></tr><tr><td>accuracy</td><td>0.9682</td></tr><tr><td>val_loss</td><td>0.12398</td></tr><tr><td>val_accuracy</td><td>0.96696</td></tr><tr><td>_runtime</td><td>262</td></tr><tr><td>_timestamp</td><td>1621486342</td></tr><tr><td>_step</td><td>9</td></tr><tr><td>best_val_loss</td><td>0.12398</td></tr><tr><td>best_epoch</td><td>9</td></tr></table>"
            ],
            "text/plain": [
              "<IPython.core.display.HTML object>"
            ]
          },
          "metadata": {
            "tags": []
          }
        },
        {
          "output_type": "display_data",
          "data": {
            "text/html": [
              "<h3>Run history:</h3><br/><style>\n",
              "    table.wandb td:nth-child(1) { padding: 0 10px; text-align: right }\n",
              "    </style><table class=\"wandb\">\n",
              "<tr><td>epoch</td><td>▁▂▃▃▄▅▆▆▇█</td></tr><tr><td>loss</td><td>█▆▅▃▃▂▂▁▁▁</td></tr><tr><td>accuracy</td><td>▁▃▄▅▆▇▇███</td></tr><tr><td>val_loss</td><td>█▆▅▃▂▂▁▁▁▁</td></tr><tr><td>val_accuracy</td><td>▁▃▄▆▇▇████</td></tr><tr><td>_runtime</td><td>▁▂▃▃▄▅▆▆▇█</td></tr><tr><td>_timestamp</td><td>▁▂▃▃▄▅▆▆▇█</td></tr><tr><td>_step</td><td>▁▂▃▃▄▅▆▆▇█</td></tr></table><br/>"
            ],
            "text/plain": [
              "<IPython.core.display.HTML object>"
            ]
          },
          "metadata": {
            "tags": []
          }
        },
        {
          "output_type": "display_data",
          "data": {
            "text/html": [
              "Synced 5 W&B file(s), 1 media file(s), 11 artifact file(s) and 2 other file(s)"
            ],
            "text/plain": [
              "<IPython.core.display.HTML object>"
            ]
          },
          "metadata": {
            "tags": []
          }
        },
        {
          "output_type": "display_data",
          "data": {
            "text/html": [
              "\n",
              "                    <br/>Synced <strong style=\"color:#cdcd00\">dry-plasma-119</strong>: <a href=\"https://wandb.ai/cs6910krsrd/CS6910%20ASSIGNMENT%203/runs/2rab8gnb\" target=\"_blank\">https://wandb.ai/cs6910krsrd/CS6910%20ASSIGNMENT%203/runs/2rab8gnb</a><br/>\n",
              "                "
            ],
            "text/plain": [
              "<IPython.core.display.HTML object>"
            ]
          },
          "metadata": {
            "tags": []
          }
        },
        {
          "output_type": "stream",
          "text": [
            "WARNING:absl:Found untraced functions such as lstm_cell_40_layer_call_and_return_conditional_losses, lstm_cell_40_layer_call_fn, lstm_cell_41_layer_call_and_return_conditional_losses, lstm_cell_41_layer_call_fn, lstm_cell_42_layer_call_and_return_conditional_losses while saving (showing 5 of 30). These functions will not be directly callable after loading.\n",
            "WARNING:absl:Found untraced functions such as lstm_cell_40_layer_call_and_return_conditional_losses, lstm_cell_40_layer_call_fn, lstm_cell_41_layer_call_and_return_conditional_losses, lstm_cell_41_layer_call_fn, lstm_cell_42_layer_call_and_return_conditional_losses while saving (showing 5 of 30). These functions will not be directly callable after loading.\n"
          ],
          "name": "stderr"
        },
        {
          "output_type": "stream",
          "text": [
            "INFO:tensorflow:Assets written to: s2s_tamil/assets\n"
          ],
          "name": "stdout"
        },
        {
          "output_type": "stream",
          "text": [
            "INFO:tensorflow:Assets written to: s2s_tamil/assets\n"
          ],
          "name": "stderr"
        }
      ]
    },
    {
      "cell_type": "code",
      "metadata": {
        "id": "k5Kd1YNNIuE9"
      },
      "source": [
        "#sweep dictionary\n",
        "sweep_config={\n",
        "    'method':'bayes',\n",
        "    'metric':{\n",
        "        'name':'val_accuracy',\n",
        "        'goal':'maximize'},\n",
        "\n",
        "}\n",
        "\n",
        "parameters_dict={\n",
        "    \n",
        "    'epochs':{\n",
        "        'values':[10] # ,[36,49,64,64,121],[36,49,49,81,144]\n",
        "    },\n",
        "    'num_samples':{\n",
        "        'values':[10000]\n",
        "    },\n",
        "    'embed_dim':{\n",
        "        'values':[16,32,64]\n",
        "    },\n",
        "    'n_encoder':{\n",
        "        'values':[1,2,3]\n",
        "    },\n",
        "    'n_decoder':{\n",
        "        'values':[1,2,3]\n",
        "    },\n",
        "    'drop_out':{\n",
        "        'values':[0,0.1,0.2]\n",
        "    },\n",
        "    'latent_dim':{\n",
        "      'values':[16,32,64,128] \n",
        "    },\n",
        "    'beam_size':{\n",
        "        'values':[3]\n",
        "    },\n",
        "    'batch_size':{\n",
        "        'values':[64]\n",
        "    },\n",
        "    'cell_type':{\n",
        "        'values':[\"LSTM\", \"GRU\"]#, \"RNN\"]\n",
        "    }\n",
        "}\n",
        "\n",
        "sweep_config['parameters']=parameters_dict\n",
        "\n",
        "def sweeper(sweep_config,PROJECT_NAME):\n",
        "  sweep_id=wandb.sweep(sweep_config,project=PROJECT_NAME,entity='cs6910krsrd',)\n",
        "  wandb.agent(sweep_id,train,project=PROJECT_NAME,entity='cs6910krsrd',)"
      ],
      "execution_count": null,
      "outputs": []
    },
    {
      "cell_type": "code",
      "metadata": {
        "id": "_YJmio12I0fs"
      },
      "source": [
        "sweeper(sweep_config,PROJECT_NAME)"
      ],
      "execution_count": null,
      "outputs": []
    },
    {
      "cell_type": "markdown",
      "metadata": {
        "id": "vEQxhbxvG2z6"
      },
      "source": [
        "Loading Model"
      ]
    },
    {
      "cell_type": "code",
      "metadata": {
        "colab": {
          "base_uri": "https://localhost:8080/",
          "height": 515,
          "referenced_widgets": [
            "abbeb47f03604cbeb54606f0c4f2074b",
            "c42c42a1e2ce4572b5be27a2af2336df",
            "5edf4f6d5e18445abf6a1fa35f9d3875",
            "2758926b0bc44ed0a71a5699e1653b21",
            "ceeaee6713b9439ba50d1351a75573a1",
            "5da12aed4b9247f991fe0cb0f5f144ac",
            "91938d4d4b0d457f9bb8af1d2436f5ee",
            "5ea1ad3978f84bb4bc829408c5bd1c59",
            "47ee97ef13814d0db6bccfed6f69bf34",
            "58abeb1b7a464ad3b8d1c2ada45b9883",
            "451bcac8296d491cbee52f56f13cfbae",
            "4481d764d56547b2aeb7ded15370874d",
            "75ca26933678452586a45c342d6026e5",
            "102a8d20e77e4cb3926a5a286d93370c",
            "d9fc201f8b5a41079e71304b034a3109",
            "3e99a7283df442c892420413de2052cf"
          ]
        },
        "id": "ayP2ErMaG2At",
        "outputId": "87240df6-5abf-4e96-f4de-71f057f7878f"
      },
      "source": [
        "run = wandb.init(project=PROJECT_NAME, job_type=\"inference\")\n",
        "enc_model_at = run.use_artifact('cs6910krsrd/CS6910 ASSIGNMENT 3/Seq2Seqenc:v0', type='model')\n",
        "model_dir= enc_model_at.download()\n",
        "encoder_model=tf.keras.models.load_model(model_dir)\n",
        "dec_model_at = run.use_artifact('cs6910krsrd/CS6910 ASSIGNMENT 3/Seq2Seqdec:v0', type='model')\n",
        "model_dir= dec_model_at.download()\n",
        "decoder_model=tf.keras.models.load_model(model_dir)\n",
        "\n",
        "run.finish()"
      ],
      "execution_count": null,
      "outputs": [
        {
          "output_type": "display_data",
          "data": {
            "text/html": [
              "Finishing last run (ID:1dxjavrt) before initializing another..."
            ],
            "text/plain": [
              "<IPython.core.display.HTML object>"
            ]
          },
          "metadata": {
            "tags": []
          }
        },
        {
          "output_type": "display_data",
          "data": {
            "text/html": [
              "<br/>Waiting for W&B process to finish, PID 238576<br/>Program ended successfully."
            ],
            "text/plain": [
              "<IPython.core.display.HTML object>"
            ]
          },
          "metadata": {
            "tags": []
          }
        },
        {
          "output_type": "display_data",
          "data": {
            "application/vnd.jupyter.widget-view+json": {
              "model_id": "abbeb47f03604cbeb54606f0c4f2074b",
              "version_minor": 0,
              "version_major": 2
            },
            "text/plain": [
              "VBox(children=(Label(value=' 0.00MB of 0.00MB uploaded (0.00MB deduped)\\r'), FloatProgress(value=1.0, max=1.0)…"
            ]
          },
          "metadata": {
            "tags": []
          }
        },
        {
          "output_type": "display_data",
          "data": {
            "text/html": [
              "Find user logs for this run at: <code>/content/wandb/run-20210520_060858-1dxjavrt/logs/debug.log</code>"
            ],
            "text/plain": [
              "<IPython.core.display.HTML object>"
            ]
          },
          "metadata": {
            "tags": []
          }
        },
        {
          "output_type": "display_data",
          "data": {
            "text/html": [
              "Find internal logs for this run at: <code>/content/wandb/run-20210520_060858-1dxjavrt/logs/debug-internal.log</code>"
            ],
            "text/plain": [
              "<IPython.core.display.HTML object>"
            ]
          },
          "metadata": {
            "tags": []
          }
        },
        {
          "output_type": "display_data",
          "data": {
            "text/html": [
              "Synced 5 W&B file(s), 0 media file(s), 0 artifact file(s) and 0 other file(s)"
            ],
            "text/plain": [
              "<IPython.core.display.HTML object>"
            ]
          },
          "metadata": {
            "tags": []
          }
        },
        {
          "output_type": "display_data",
          "data": {
            "text/html": [
              "\n",
              "                    <br/>Synced <strong style=\"color:#cdcd00\">unique-bird-133</strong>: <a href=\"https://wandb.ai/cs6910krsrd/CS6910%20ASSIGNMENT%203/runs/1dxjavrt\" target=\"_blank\">https://wandb.ai/cs6910krsrd/CS6910%20ASSIGNMENT%203/runs/1dxjavrt</a><br/>\n",
              "                "
            ],
            "text/plain": [
              "<IPython.core.display.HTML object>"
            ]
          },
          "metadata": {
            "tags": []
          }
        },
        {
          "output_type": "display_data",
          "data": {
            "text/html": [
              "...Successfully finished last run (ID:1dxjavrt). Initializing new run:<br/><br/>"
            ],
            "text/plain": [
              "<IPython.core.display.HTML object>"
            ]
          },
          "metadata": {
            "tags": []
          }
        },
        {
          "output_type": "display_data",
          "data": {
            "text/html": [
              "\n",
              "                Tracking run with wandb version 0.10.30<br/>\n",
              "                Syncing run <strong style=\"color:#cdcd00\">glowing-plasma-134</strong> to <a href=\"https://wandb.ai\" target=\"_blank\">Weights & Biases</a> <a href=\"https://docs.wandb.com/integrations/jupyter.html\" target=\"_blank\">(Documentation)</a>.<br/>\n",
              "                Project page: <a href=\"https://wandb.ai/cs6910krsrd/CS6910%20ASSIGNMENT%203\" target=\"_blank\">https://wandb.ai/cs6910krsrd/CS6910%20ASSIGNMENT%203</a><br/>\n",
              "                Run page: <a href=\"https://wandb.ai/cs6910krsrd/CS6910%20ASSIGNMENT%203/runs/1i348x5i\" target=\"_blank\">https://wandb.ai/cs6910krsrd/CS6910%20ASSIGNMENT%203/runs/1i348x5i</a><br/>\n",
              "                Run data is saved locally in <code>/content/wandb/run-20210520_061023-1i348x5i</code><br/><br/>\n",
              "            "
            ],
            "text/plain": [
              "<IPython.core.display.HTML object>"
            ]
          },
          "metadata": {
            "tags": []
          }
        },
        {
          "output_type": "stream",
          "text": [
            "WARNING:tensorflow:No training configuration found in save file, so the model was *not* compiled. Compile it manually.\n"
          ],
          "name": "stdout"
        },
        {
          "output_type": "stream",
          "text": [
            "WARNING:tensorflow:No training configuration found in save file, so the model was *not* compiled. Compile it manually.\n"
          ],
          "name": "stderr"
        },
        {
          "output_type": "stream",
          "text": [
            "WARNING:tensorflow:No training configuration found in save file, so the model was *not* compiled. Compile it manually.\n"
          ],
          "name": "stdout"
        },
        {
          "output_type": "stream",
          "text": [
            "WARNING:tensorflow:No training configuration found in save file, so the model was *not* compiled. Compile it manually.\n"
          ],
          "name": "stderr"
        },
        {
          "output_type": "display_data",
          "data": {
            "text/html": [
              "<br/>Waiting for W&B process to finish, PID 241958<br/>Program ended successfully."
            ],
            "text/plain": [
              "<IPython.core.display.HTML object>"
            ]
          },
          "metadata": {
            "tags": []
          }
        },
        {
          "output_type": "display_data",
          "data": {
            "application/vnd.jupyter.widget-view+json": {
              "model_id": "47ee97ef13814d0db6bccfed6f69bf34",
              "version_minor": 0,
              "version_major": 2
            },
            "text/plain": [
              "VBox(children=(Label(value=' 0.22MB of 0.22MB uploaded (0.00MB deduped)\\r'), FloatProgress(value=1.0, max=1.0)…"
            ]
          },
          "metadata": {
            "tags": []
          }
        },
        {
          "output_type": "display_data",
          "data": {
            "text/html": [
              "Find user logs for this run at: <code>/content/wandb/run-20210520_061023-1i348x5i/logs/debug.log</code>"
            ],
            "text/plain": [
              "<IPython.core.display.HTML object>"
            ]
          },
          "metadata": {
            "tags": []
          }
        },
        {
          "output_type": "display_data",
          "data": {
            "text/html": [
              "Find internal logs for this run at: <code>/content/wandb/run-20210520_061023-1i348x5i/logs/debug-internal.log</code>"
            ],
            "text/plain": [
              "<IPython.core.display.HTML object>"
            ]
          },
          "metadata": {
            "tags": []
          }
        },
        {
          "output_type": "display_data",
          "data": {
            "text/html": [
              "Synced 5 W&B file(s), 0 media file(s), 2 artifact file(s) and 1 other file(s)"
            ],
            "text/plain": [
              "<IPython.core.display.HTML object>"
            ]
          },
          "metadata": {
            "tags": []
          }
        },
        {
          "output_type": "display_data",
          "data": {
            "text/html": [
              "\n",
              "                    <br/>Synced <strong style=\"color:#cdcd00\">glowing-plasma-134</strong>: <a href=\"https://wandb.ai/cs6910krsrd/CS6910%20ASSIGNMENT%203/runs/1i348x5i\" target=\"_blank\">https://wandb.ai/cs6910krsrd/CS6910%20ASSIGNMENT%203/runs/1i348x5i</a><br/>\n",
              "                "
            ],
            "text/plain": [
              "<IPython.core.display.HTML object>"
            ]
          },
          "metadata": {
            "tags": []
          }
        }
      ]
    },
    {
      "cell_type": "code",
      "metadata": {
        "colab": {
          "base_uri": "https://localhost:8080/",
          "height": 324,
          "referenced_widgets": [
            "cc9324c1231848bcaf93026f7b25b307",
            "a8cc3eba546f42da95cc09376c32b440",
            "f6b77da2dd9e44ff9c763399b6c9e89b",
            "65c3f925c874431ca93daa23c5565ae4",
            "197756e1b3eb4ac0af56b512bb419e26",
            "ae716f07df854c1297a78ddb520fa9b3",
            "7ff8d54db95f445986d75256d4af7032",
            "d26d2c6fcd4b4a06936ee1d0ffeb337c"
          ]
        },
        "id": "NT9Rva1HHjO7",
        "outputId": "534f4788-45c9-4a88-d85c-9033db169977"
      },
      "source": [
        "run = wandb.init(project=PROJECT_NAME, job_type=\"inference\")\n",
        "\n",
        "\n",
        "for beam_size in [1,3,5]:\n",
        "  valAcc=calcValAcc(encoder_model,decoder_model,beam_size)\n",
        "  wandb.log({\"Beam_size\":beam_size,\"val_Acc\": valAcc})\n",
        "\n",
        "run.finish()"
      ],
      "execution_count": null,
      "outputs": [
        {
          "output_type": "display_data",
          "data": {
            "text/html": [
              "Finishing last run (ID:dm24gerw) before initializing another..."
            ],
            "text/plain": [
              "<IPython.core.display.HTML object>"
            ]
          },
          "metadata": {
            "tags": []
          }
        },
        {
          "output_type": "display_data",
          "data": {
            "text/html": [
              "<br/>Waiting for W&B process to finish, PID 247170<br/>Program ended successfully."
            ],
            "text/plain": [
              "<IPython.core.display.HTML object>"
            ]
          },
          "metadata": {
            "tags": []
          }
        },
        {
          "output_type": "display_data",
          "data": {
            "application/vnd.jupyter.widget-view+json": {
              "model_id": "cc9324c1231848bcaf93026f7b25b307",
              "version_minor": 0,
              "version_major": 2
            },
            "text/plain": [
              "VBox(children=(Label(value=' 0.42MB of 0.42MB uploaded (0.00MB deduped)\\r'), FloatProgress(value=1.0, max=1.0)…"
            ]
          },
          "metadata": {
            "tags": []
          }
        },
        {
          "output_type": "display_data",
          "data": {
            "text/html": [
              "Find user logs for this run at: <code>/content/wandb/run-20210520_061548-dm24gerw/logs/debug.log</code>"
            ],
            "text/plain": [
              "<IPython.core.display.HTML object>"
            ]
          },
          "metadata": {
            "tags": []
          }
        },
        {
          "output_type": "display_data",
          "data": {
            "text/html": [
              "Find internal logs for this run at: <code>/content/wandb/run-20210520_061548-dm24gerw/logs/debug-internal.log</code>"
            ],
            "text/plain": [
              "<IPython.core.display.HTML object>"
            ]
          },
          "metadata": {
            "tags": []
          }
        },
        {
          "output_type": "display_data",
          "data": {
            "text/html": [
              "Synced 5 W&B file(s), 0 media file(s), 4 artifact file(s) and 1 other file(s)"
            ],
            "text/plain": [
              "<IPython.core.display.HTML object>"
            ]
          },
          "metadata": {
            "tags": []
          }
        },
        {
          "output_type": "display_data",
          "data": {
            "text/html": [
              "\n",
              "                    <br/>Synced <strong style=\"color:#cdcd00\">wild-star-137</strong>: <a href=\"https://wandb.ai/cs6910krsrd/CS6910%20ASSIGNMENT%203/runs/dm24gerw\" target=\"_blank\">https://wandb.ai/cs6910krsrd/CS6910%20ASSIGNMENT%203/runs/dm24gerw</a><br/>\n",
              "                "
            ],
            "text/plain": [
              "<IPython.core.display.HTML object>"
            ]
          },
          "metadata": {
            "tags": []
          }
        },
        {
          "output_type": "display_data",
          "data": {
            "text/html": [
              "...Successfully finished last run (ID:dm24gerw). Initializing new run:<br/><br/>"
            ],
            "text/plain": [
              "<IPython.core.display.HTML object>"
            ]
          },
          "metadata": {
            "tags": []
          }
        },
        {
          "output_type": "display_data",
          "data": {
            "text/html": [
              "\n",
              "                Tracking run with wandb version 0.10.30<br/>\n",
              "                Syncing run <strong style=\"color:#cdcd00\">faithful-yogurt-138</strong> to <a href=\"https://wandb.ai\" target=\"_blank\">Weights & Biases</a> <a href=\"https://docs.wandb.com/integrations/jupyter.html\" target=\"_blank\">(Documentation)</a>.<br/>\n",
              "                Project page: <a href=\"https://wandb.ai/cs6910krsrd/CS6910%20ASSIGNMENT%203\" target=\"_blank\">https://wandb.ai/cs6910krsrd/CS6910%20ASSIGNMENT%203</a><br/>\n",
              "                Run page: <a href=\"https://wandb.ai/cs6910krsrd/CS6910%20ASSIGNMENT%203/runs/2php0mqp\" target=\"_blank\">https://wandb.ai/cs6910krsrd/CS6910%20ASSIGNMENT%203/runs/2php0mqp</a><br/>\n",
              "                Run data is saved locally in <code>/content/wandb/run-20210520_061641-2php0mqp</code><br/><br/>\n",
              "            "
            ],
            "text/plain": [
              "<IPython.core.display.HTML object>"
            ]
          },
          "metadata": {
            "tags": []
          }
        },
        {
          "output_type": "stream",
          "text": [
            "0.48044529075728726\n"
          ],
          "name": "stdout"
        }
      ]
    },
    {
      "cell_type": "code",
      "metadata": {
        "id": "yWEG4IMAP3WO"
      },
      "source": [
        ""
      ],
      "execution_count": null,
      "outputs": []
    },
    {
      "cell_type": "markdown",
      "metadata": {
        "id": "LEA2za5dZ7ZU"
      },
      "source": [
        "Inference"
      ]
    },
    {
      "cell_type": "code",
      "metadata": {
        "id": "6UhSXd9ISuk4"
      },
      "source": [
        "def calcValAcc(encoder_model,decoder_model,beam_size):\n",
        "  \n",
        "\n",
        "  # Reverse-lookup token index to decode sequences back to\n",
        "  # something readable.\n",
        "  correct_pred=list()\n",
        "\n",
        "  for seq_index in range(len(val_encoder_input_data)):\n",
        "    input_seq = val_encoder_input_data[seq_index : seq_index + 1]\n",
        "    pred=decode_sequence(input_seq, beam_size,encoder_model,decoder_model)\n",
        "    #print(input_seq,\"pred:\",pred,\"true\",val_target_texts[seq_index:seq_index+1])\n",
        "    #print(\"yay\",pred,val_target_texts[seq_index])\n",
        "\n",
        "    if pred==(val_target_texts[seq_index:seq_index+1][0]+'\\n'):\n",
        "      correct_pred.append(1)\n",
        "    else:\n",
        "      correct_pred.append(0)\n",
        "    \n",
        "  val_accuracy=np.mean(np.array(correct_pred))\n",
        "\n",
        "  print(val_accuracy)\n",
        "  return(val_accuracy)\n"
      ],
      "execution_count": null,
      "outputs": []
    },
    {
      "cell_type": "code",
      "metadata": {
        "id": "u_Qw7E6WXByz"
      },
      "source": [
        "# Define sampling models\n",
        "# Restore the model and construct the encoder and decoder.\n",
        "model = keras.models.load_model(\"s2s_tamil\")\n",
        "\n",
        "encoder_model = Model(encoder_inputs, encoder_states)\n",
        "\n",
        "decoder_states_inputs = []\n",
        "decoder_states = []\n",
        "d_outputs=embedded_word\n",
        "for j in range(n_decoder)[::-1]:\n",
        "  current_state_inputs = [Input(shape=(latent_dim,)) for _ in range(2)]\n",
        "\n",
        "  temp = output_layers[n_decoder-j-1](d_outputs, initial_state=current_state_inputs)\n",
        "\n",
        "  d_outputs, cur_states = temp[0], temp[1:]\n",
        "  decoder_states += cur_states\n",
        "  decoder_states_inputs += current_state_inputs\n",
        "\n",
        "decoder_outputs = decoder_dense(d_outputs)\n",
        "decoder_model = Model(\n",
        "    [decoder_inputs] + decoder_states_inputs,\n",
        "    [decoder_outputs] + decoder_states)\n",
        "\n",
        "# Reverse-lookup token index to decode sequences back to\n",
        "# something readable.\n",
        "reverse_input_char_index = dict((i, char) for char, i in input_token_index.items())\n",
        "reverse_target_char_index = dict((i, char) for char, i in target_token_index.items())\n",
        "\n"
      ],
      "execution_count": null,
      "outputs": []
    },
    {
      "cell_type": "code",
      "metadata": {
        "id": "iLuNs2LhZJe1"
      },
      "source": [
        "\n",
        "def decode_sequence(input_seq, beam_size,encoder_model,decoder_model,n_encoder=3,n_decoder=3):\n",
        "    # Encode the input as state vectors.\n",
        "    states_value = (encoder_model.predict(input_seq))\n",
        "    states_value=states_value*n_decoder\n",
        "    k=beam_size\n",
        "    # Generate empty target sequence of length 1.\n",
        "    target_seq = np.zeros((1, 1))\n",
        "    # Populate the first character of target sequence with the start character.\n",
        "    target_seq[0, 0] = target_token_index[\"\\t\"]\n",
        "\n",
        "    end_index=target_token_index[\"\\n\"] #sample index to check for end\n",
        "\n",
        "    # Sampling loop for a batch of sequences\n",
        "    # (to simplify, here we assume a batch of size 1).\n",
        "    stop_condition = False\n",
        "    sequences=[[list(),0.0,states_value,False]]\n",
        "    while not stop_condition:\n",
        "      new_sequences=list()\n",
        "      stop_condition=True\n",
        "      #print(\"a\",np.shape([target_seq] + states_value))\n",
        "      for i in range(len(sequences)):\n",
        "        seq, score, states_value,stop_seq = sequences[i]\n",
        "        \n",
        "        #if particular sequence is finished\n",
        "        if stop_seq:\n",
        "          new_sequences.append(sequences[i])\n",
        "        \n",
        "        #if particular sequence is unfinished\n",
        "        else:\n",
        "          stop_condition=False                                         #if atleast one sequence is unfinished, decoding must continue\n",
        "          if len(seq)!=0:                                              #dont run for first iteration\n",
        "            sampled_token_index=seq[-1]\n",
        "            target_seq = np.zeros((1, 1))\n",
        "            target_seq[0, 0] = sampled_token_index\n",
        "\n",
        "          temp = decoder_model.predict([target_seq] + states_value)\n",
        "          \n",
        "          output_tokens=temp[0]\n",
        "          output_tokens=output_tokens[0, -1, :]\n",
        "          new_states_value=temp[1:]\n",
        "          for j in range(len(output_tokens)):\n",
        "            if j == end_index or len(seq) > max_decoder_seq_length:\n",
        "              new_seq = [seq + [j], score - np.log(output_tokens[j]),new_states_value,True]\n",
        "            else:\n",
        "              new_seq = [seq + [j], score - np.log(output_tokens[j]),new_states_value,False]\n",
        "            new_sequences.append(new_seq)\n",
        "\n",
        "\n",
        "      ordered = sorted(new_sequences, key=lambda tup:tup[1])\n",
        "\n",
        "      # select k best\n",
        "      sequences = ordered[:k]\n",
        "\n",
        "    decoded_sentence = \"\"\n",
        "\n",
        "    best_seq=sequences[0][0]\n",
        "    for sampled_token_index in best_seq:\n",
        "      sampled_char = reverse_target_char_index[sampled_token_index]\n",
        "      decoded_sentence += sampled_char\n",
        "\n",
        "    return decoded_sentence"
      ],
      "execution_count": null,
      "outputs": []
    },
    {
      "cell_type": "code",
      "metadata": {
        "colab": {
          "base_uri": "https://localhost:8080/"
        },
        "id": "FmqTQWJXbSQD",
        "outputId": "eb55856b-e716-4ec2-a7eb-a8b043c9c776"
      },
      "source": [
        "a=decode_sequence(val_encoder_input_data[27:28],3, encoder_model,decoder_model)\n",
        "b=val_target_texts[27:28][0]\n",
        "\n",
        "print(a)\n",
        "print(b)\n",
        "\n",
        "len(a)\n",
        "\n",
        "len(b)"
      ],
      "execution_count": null,
      "outputs": [
        {
          "output_type": "stream",
          "text": [
            "அசின்\n",
            "\n",
            "அசின்\n"
          ],
          "name": "stdout"
        },
        {
          "output_type": "execute_result",
          "data": {
            "text/plain": [
              "6"
            ]
          },
          "metadata": {
            "tags": []
          },
          "execution_count": 78
        }
      ]
    },
    {
      "cell_type": "code",
      "metadata": {
        "colab": {
          "base_uri": "https://localhost:8080/",
          "height": 36
        },
        "id": "NPXzLaHYaYbM",
        "outputId": "b436d0b0-17e6-435f-b4af-d33d6ea11840"
      },
      "source": [
        "a[5]"
      ],
      "execution_count": null,
      "outputs": [
        {
          "output_type": "execute_result",
          "data": {
            "application/vnd.google.colaboratory.intrinsic+json": {
              "type": "string"
            },
            "text/plain": [
              "'\\n'"
            ]
          },
          "metadata": {
            "tags": []
          },
          "execution_count": 82
        }
      ]
    },
    {
      "cell_type": "code",
      "metadata": {
        "id": "tgklLKj8XIfI"
      },
      "source": [
        "for seq_index in range(20):\n",
        "    # Take one sequence (part of the training set)\n",
        "    # for trying out decoding.\n",
        "    input_seq = encoder_input_data[seq_index : seq_index + 1]\n",
        "    decoded_sentence = decode_sequence(input_seq)\n",
        "    print(\"-\")\n",
        "    print(\"Input sentence:\", input_texts[seq_index])\n",
        "    print(\"Decoded sentence:\", decoded_sentence)"
      ],
      "execution_count": null,
      "outputs": []
    },
    {
      "cell_type": "code",
      "metadata": {
        "id": "I3QRnedgOHHE"
      },
      "source": [
        "epochs=10"
      ],
      "execution_count": null,
      "outputs": []
    }
  ]
}